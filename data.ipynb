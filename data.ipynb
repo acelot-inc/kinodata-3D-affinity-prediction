{
 "cells": [
  {
   "cell_type": "code",
   "execution_count": 18,
   "metadata": {},
   "outputs": [],
   "source": [
    "import pandas as pd\n",
    "from pathlib import Path\n",
    "import rdkit.Chem as Chem\n",
    "from tqdm import tqdm\n",
    "import requests\n",
    "\n",
    "from torch_geometric.data import HeteroData\n",
    "import itertools"
   ]
  },
  {
   "cell_type": "code",
   "execution_count": 19,
   "metadata": {},
   "outputs": [],
   "source": [
    "from rdkit import RDLogger\n",
    "RDLogger.DisableLog(\"rdApp.*\")"
   ]
  },
  {
   "cell_type": "code",
   "execution_count": 20,
   "metadata": {},
   "outputs": [],
   "source": [
    "RAW_DATA = Path() / \"data\" / \"raw\""
   ]
  },
  {
   "cell_type": "markdown",
   "metadata": {},
   "source": [
    "#### Read Kindodata data"
   ]
  },
  {
   "cell_type": "code",
   "execution_count": 21,
   "metadata": {},
   "outputs": [
    {
     "data": {
      "text/plain": [
       "Index(['activities.standard_type', 'activities.standard_units',\n",
       "       'activities.standard_value', 'assays.chembl_id',\n",
       "       'assays.confidence_score', 'component_sequences.sequence',\n",
       "       'compound_structures.canonical_smiles',\n",
       "       'compound_structures.standard_inchi', 'docking.posit_probability',\n",
       "       'docking.runtime', 'docking.score', 'docking.similar_kinase_chain',\n",
       "       'docking.similar_kinase_pdb', 'docking.similar_ligand_pdb',\n",
       "       'docs.authors', 'docs.chembl_id', 'docs.klifs_kinase_id',\n",
       "       'docs.klifs_structure_id', 'docs.year', 'molecule_dictionary.chembl_id',\n",
       "       'molecule_dictionary.max_phase', 'structure_ID',\n",
       "       'target_dictionary.chembl_id', 'target_dictionary.kinase',\n",
       "       'target_dictionary.species', 'target_dictionary.uniprot_id'],\n",
       "      dtype='object')"
      ]
     },
     "execution_count": 21,
     "metadata": {},
     "output_type": "execute_result"
    }
   ],
   "source": [
    "df = pd.read_csv(RAW_DATA / \"data_clean.csv\", index_col=\"ident\")\n",
    "df.columns"
   ]
  },
  {
   "cell_type": "markdown",
   "metadata": {},
   "source": [
    "#### Assign ligand PDB filepaths"
   ]
  },
  {
   "cell_type": "code",
   "execution_count": 22,
   "metadata": {},
   "outputs": [
    {
     "data": {
      "text/plain": [
       "((23120667, PosixPath('data/raw/pdbs/ligand/23120667_ligand.pdb')), 155718)"
      ]
     },
     "execution_count": 22,
     "metadata": {},
     "output_type": "execute_result"
    }
   ],
   "source": [
    "ligand_pdb_files = {\n",
    "    int(fp.stem.split(\"_\")[0]): fp for fp in (RAW_DATA / \"pdbs\" / \"ligand\").iterdir()\n",
    "}\n",
    "next(iter(ligand_pdb_files.items())), len(ligand_pdb_files)"
   ]
  },
  {
   "cell_type": "code",
   "execution_count": 23,
   "metadata": {},
   "outputs": [
    {
     "data": {
      "text/plain": [
       "ident\n",
       "16291323    data/raw/pdbs/ligand/16291323_ligand.pdb\n",
       "16306943    data/raw/pdbs/ligand/16306943_ligand.pdb\n",
       "16264754    data/raw/pdbs/ligand/16264754_ligand.pdb\n",
       "16340050    data/raw/pdbs/ligand/16340050_ligand.pdb\n",
       "16340956    data/raw/pdbs/ligand/16340956_ligand.pdb\n",
       "Name: ligand_pdb_file, dtype: object"
      ]
     },
     "execution_count": 23,
     "metadata": {},
     "output_type": "execute_result"
    }
   ],
   "source": [
    "df[\"ligand_pdb_file\"] = [ligand_pdb_files[ident] if ident in ligand_pdb_files else None for ident in df.index]\n",
    "\n",
    "# sanity check\n",
    "assert df[\"ligand_pdb_file\"].notna().all()\n",
    "df[\"ligand_pdb_file\"].head()"
   ]
  },
  {
   "cell_type": "markdown",
   "metadata": {},
   "source": [
    "#### Get pocket info from klifs"
   ]
  },
  {
   "cell_type": "code",
   "execution_count": 24,
   "metadata": {},
   "outputs": [
    {
     "data": {
      "text/plain": [
       "False"
      ]
     },
     "execution_count": 24,
     "metadata": {},
     "output_type": "execute_result"
    }
   ],
   "source": [
    "# NOTE some rows are missing a structure ID\n",
    "df[\"structure_ID\"].notna().all()"
   ]
  },
  {
   "cell_type": "code",
   "execution_count": 25,
   "metadata": {},
   "outputs": [],
   "source": [
    "# drop those\n",
    "df = df[df[\"structure_ID\"].notna()]"
   ]
  },
  {
   "cell_type": "code",
   "execution_count": 26,
   "metadata": {},
   "outputs": [],
   "source": [
    "# for some reason pandas reads structure ID as a float\n",
    "df[\"structure_ID\"] = df[\"structure_ID\"].astype(int)"
   ]
  },
  {
   "cell_type": "code",
   "execution_count": 27,
   "metadata": {},
   "outputs": [
    {
     "name": "stderr",
     "output_type": "stream",
     "text": [
      "100%|██████████| 110274/110274 [00:08<00:00, 13249.10it/s]\n"
     ]
    }
   ],
   "source": [
    "# get pocket mol2 files\n",
    "pbar = tqdm(df.iterrows(), total=len(df))\n",
    "for ident, row in pbar:\n",
    "    structure_id = row[\"structure_ID\"]\n",
    "    fp = RAW_DATA / \"mol2\" / \"pocket\" / f\"{structure_id}_pocket.mol2\"\n",
    "    if fp.exists():\n",
    "        continue\n",
    "    resp = requests.get(\n",
    "        \"https://klifs.net/api/structure_get_pocket\", params={\"structure_ID\": structure_id}\n",
    "    )\n",
    "    if resp.ok:\n",
    "        fp.write_bytes(resp.content)"
   ]
  },
  {
   "cell_type": "code",
   "execution_count": 28,
   "metadata": {},
   "outputs": [],
   "source": [
    "pocket_mol2_files = {\n",
    "    int(fp.stem.split(\"_\")[0]): fp for fp in (RAW_DATA / \"mol2\" / \"pocket\").iterdir()\n",
    "}\n",
    "df[\"pocket_mol2_file\"] = [pocket_mol2_files[row[\"structure_ID\"]] for _,row in df.iterrows()]"
   ]
  },
  {
   "cell_type": "code",
   "execution_count": 29,
   "metadata": {},
   "outputs": [
    {
     "data": {
      "text/plain": [
       "ident\n",
       "16291323    data/raw/mol2/pocket/12757_pocket.mol2\n",
       "16306943    data/raw/mol2/pocket/14314_pocket.mol2\n",
       "16264754    data/raw/mol2/pocket/10689_pocket.mol2\n",
       "16340050    data/raw/mol2/pocket/10689_pocket.mol2\n",
       "16340956    data/raw/mol2/pocket/10689_pocket.mol2\n",
       "Name: pocket_mol2_file, dtype: object"
      ]
     },
     "execution_count": 29,
     "metadata": {},
     "output_type": "execute_result"
    }
   ],
   "source": [
    "df[\"pocket_mol2_file\"].head()"
   ]
  },
  {
   "cell_type": "markdown",
   "metadata": {},
   "source": [
    "#### Create PyTorch Geometric data\n",
    "this might take a while..."
   ]
  },
  {
   "cell_type": "code",
   "execution_count": 30,
   "metadata": {},
   "outputs": [
    {
     "name": "stderr",
     "output_type": "stream",
     "text": [
      "  1%|          | 849/110274 [00:51<1:50:56, 16.44it/s]\n"
     ]
    },
    {
     "ename": "AssertionError",
     "evalue": "",
     "output_type": "error",
     "traceback": [
      "\u001b[0;31m---------------------------------------------------------------------------\u001b[0m",
      "\u001b[0;31mAssertionError\u001b[0m                            Traceback (most recent call last)",
      "Cell \u001b[0;32mIn[30], line 7\u001b[0m\n\u001b[1;32m      5\u001b[0m \u001b[38;5;28;01massert\u001b[39;00m ligand \u001b[38;5;129;01mis\u001b[39;00m \u001b[38;5;129;01mnot\u001b[39;00m \u001b[38;5;28;01mNone\u001b[39;00m\n\u001b[1;32m      6\u001b[0m pocket \u001b[38;5;241m=\u001b[39m Chem\u001b[38;5;241m.\u001b[39mrdmolfiles\u001b[38;5;241m.\u001b[39mMolFromMol2File(\u001b[38;5;28mstr\u001b[39m(row[\u001b[38;5;124m\"\u001b[39m\u001b[38;5;124mpocket_mol2_file\u001b[39m\u001b[38;5;124m\"\u001b[39m]))\n\u001b[0;32m----> 7\u001b[0m \u001b[38;5;28;01massert\u001b[39;00m pocket \u001b[38;5;129;01mis\u001b[39;00m \u001b[38;5;129;01mnot\u001b[39;00m \u001b[38;5;28;01mNone\u001b[39;00m\n\u001b[1;32m      8\u001b[0m \u001b[38;5;66;03m# TODO\u001b[39;00m\n\u001b[1;32m      9\u001b[0m \u001b[38;5;241m.\u001b[39m\u001b[38;5;241m.\u001b[39m\u001b[38;5;241m.\u001b[39m\n",
      "\u001b[0;31mAssertionError\u001b[0m: "
     ]
    }
   ],
   "source": [
    "data_list = []\n",
    "for ident, row in tqdm(df.iterrows(), total=len(df)):\n",
    "    data = HeteroData()\n",
    "    ligand = Chem.MolFromPDBFile(str(row[\"ligand_pdb_file\"]))\n",
    "    assert ligand is not None\n",
    "    pocket = Chem.rdmolfiles.MolFromMol2File(str(row[\"pocket_mol2_file\"]))\n",
    "    assert pocket is not None\n",
    "    # TODO\n",
    "    ..."
   ]
  }
 ],
 "metadata": {
  "kernelspec": {
   "display_name": "Python 3.10.8 ('kinodata')",
   "language": "python",
   "name": "python3"
  },
  "language_info": {
   "codemirror_mode": {
    "name": "ipython",
    "version": 3
   },
   "file_extension": ".py",
   "mimetype": "text/x-python",
   "name": "python",
   "nbconvert_exporter": "python",
   "pygments_lexer": "ipython3",
   "version": "3.10.8"
  },
  "orig_nbformat": 4,
  "vscode": {
   "interpreter": {
    "hash": "528a87b2665604848835e963d9b59f6a2ef408edd78da891397a1684bf62ca9e"
   }
  }
 },
 "nbformat": 4,
 "nbformat_minor": 2
}
