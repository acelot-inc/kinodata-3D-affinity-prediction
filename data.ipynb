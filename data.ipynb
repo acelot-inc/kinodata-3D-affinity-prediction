{
 "cells": [
  {
   "cell_type": "code",
   "execution_count": 1,
   "metadata": {},
   "outputs": [
    {
     "name": "stderr",
     "output_type": "stream",
     "text": [
      "/Users/joschka/mambaforge/envs/kinodata/lib/python3.10/site-packages/tqdm/auto.py:22: TqdmWarning: IProgress not found. Please update jupyter and ipywidgets. See https://ipywidgets.readthedocs.io/en/stable/user_install.html\n",
      "  from .autonotebook import tqdm as notebook_tqdm\n"
     ]
    }
   ],
   "source": [
    "import pandas as pd\n",
    "from pathlib import Path\n",
    "import rdkit.Chem as Chem\n",
    "from rdkit.Chem import Mol\n",
    "from tqdm import tqdm\n",
    "import requests\n",
    "\n",
    "import torch\n",
    "from torch_geometric.data import HeteroData\n",
    "from torch.nn.functional import pairwise_distance"
   ]
  },
  {
   "cell_type": "code",
   "execution_count": 2,
   "metadata": {},
   "outputs": [],
   "source": [
    "from rdkit import RDLogger\n",
    "RDLogger.DisableLog(\"rdApp.*\")"
   ]
  },
  {
   "cell_type": "code",
   "execution_count": 3,
   "metadata": {},
   "outputs": [],
   "source": [
    "RAW_DATA = Path() / \"data\" / \"raw\""
   ]
  },
  {
   "cell_type": "markdown",
   "metadata": {},
   "source": [
    "#### Read Kindodata data"
   ]
  },
  {
   "cell_type": "code",
   "execution_count": 4,
   "metadata": {},
   "outputs": [
    {
     "data": {
      "text/plain": [
       "Index(['activities.standard_type', 'activities.standard_units',\n",
       "       'activities.standard_value', 'assays.chembl_id',\n",
       "       'assays.confidence_score', 'component_sequences.sequence',\n",
       "       'compound_structures.canonical_smiles',\n",
       "       'compound_structures.standard_inchi', 'docking.posit_probability',\n",
       "       'docking.runtime', 'docking.score', 'docking.similar_kinase_chain',\n",
       "       'docking.similar_kinase_pdb', 'docking.similar_ligand_pdb',\n",
       "       'docs.authors', 'docs.chembl_id', 'docs.klifs_kinase_id',\n",
       "       'docs.klifs_structure_id', 'docs.year', 'molecule_dictionary.chembl_id',\n",
       "       'molecule_dictionary.max_phase', 'structure_ID',\n",
       "       'target_dictionary.chembl_id', 'target_dictionary.kinase',\n",
       "       'target_dictionary.species', 'target_dictionary.uniprot_id'],\n",
       "      dtype='object')"
      ]
     },
     "execution_count": 4,
     "metadata": {},
     "output_type": "execute_result"
    }
   ],
   "source": [
    "df = pd.read_csv(RAW_DATA / \"data_clean.csv\", index_col=\"ident\")\n",
    "df.columns"
   ]
  },
  {
   "cell_type": "markdown",
   "metadata": {},
   "source": [
    "#### Assign ligand PDB filepaths"
   ]
  },
  {
   "cell_type": "code",
   "execution_count": 5,
   "metadata": {},
   "outputs": [
    {
     "data": {
      "text/plain": [
       "((23120667, PosixPath('data/raw/pdbs/ligand/23120667_ligand.pdb')), 155718)"
      ]
     },
     "execution_count": 5,
     "metadata": {},
     "output_type": "execute_result"
    }
   ],
   "source": [
    "ligand_pdb_files = {\n",
    "    int(fp.stem.split(\"_\")[0]): fp for fp in (RAW_DATA / \"pdbs\" / \"ligand\").iterdir()\n",
    "}\n",
    "next(iter(ligand_pdb_files.items())), len(ligand_pdb_files)"
   ]
  },
  {
   "cell_type": "code",
   "execution_count": 6,
   "metadata": {},
   "outputs": [
    {
     "data": {
      "text/plain": [
       "ident\n",
       "16291323    data/raw/pdbs/ligand/16291323_ligand.pdb\n",
       "16306943    data/raw/pdbs/ligand/16306943_ligand.pdb\n",
       "16264754    data/raw/pdbs/ligand/16264754_ligand.pdb\n",
       "16340050    data/raw/pdbs/ligand/16340050_ligand.pdb\n",
       "16340956    data/raw/pdbs/ligand/16340956_ligand.pdb\n",
       "Name: ligand_pdb_file, dtype: object"
      ]
     },
     "execution_count": 6,
     "metadata": {},
     "output_type": "execute_result"
    }
   ],
   "source": [
    "df[\"ligand_pdb_file\"] = [ligand_pdb_files[ident] if ident in ligand_pdb_files else None for ident in df.index]\n",
    "\n",
    "# sanity check\n",
    "assert df[\"ligand_pdb_file\"].notna().all()\n",
    "df[\"ligand_pdb_file\"].head()"
   ]
  },
  {
   "cell_type": "markdown",
   "metadata": {},
   "source": [
    "#### Get pocket info from klifs"
   ]
  },
  {
   "cell_type": "code",
   "execution_count": 7,
   "metadata": {},
   "outputs": [
    {
     "data": {
      "text/plain": [
       "1"
      ]
     },
     "execution_count": 7,
     "metadata": {},
     "output_type": "execute_result"
    }
   ],
   "source": [
    "# NOTE one row is missing a structure ID\n",
    "df[\"structure_ID\"].isna().sum()"
   ]
  },
  {
   "cell_type": "code",
   "execution_count": 8,
   "metadata": {},
   "outputs": [],
   "source": [
    "# drop those\n",
    "df = df[df[\"structure_ID\"].notna()]"
   ]
  },
  {
   "cell_type": "code",
   "execution_count": 9,
   "metadata": {},
   "outputs": [],
   "source": [
    "# for some reason pandas reads structure ID as a float\n",
    "df[\"structure_ID\"] = df[\"structure_ID\"].astype(int)"
   ]
  },
  {
   "cell_type": "code",
   "execution_count": 10,
   "metadata": {},
   "outputs": [
    {
     "name": "stderr",
     "output_type": "stream",
     "text": [
      "100%|██████████| 110274/110274 [00:08<00:00, 13399.50it/s]\n"
     ]
    }
   ],
   "source": [
    "# get pocket mol2 files\n",
    "pbar = tqdm(df.iterrows(), total=len(df))\n",
    "for ident, row in pbar:\n",
    "    structure_id = row[\"structure_ID\"]\n",
    "    fp = RAW_DATA / \"mol2\" / \"pocket\" / f\"{structure_id}_pocket.mol2\"\n",
    "    if fp.exists():\n",
    "        continue\n",
    "    resp = requests.get(\n",
    "        \"https://klifs.net/api/structure_get_pocket\", params={\"structure_ID\": structure_id}\n",
    "    )\n",
    "    if resp.ok:\n",
    "        fp.write_bytes(resp.content)"
   ]
  },
  {
   "cell_type": "code",
   "execution_count": 11,
   "metadata": {},
   "outputs": [],
   "source": [
    "pocket_mol2_files = {\n",
    "    int(fp.stem.split(\"_\")[0]): fp for fp in (RAW_DATA / \"mol2\" / \"pocket\").iterdir()\n",
    "}\n",
    "df[\"pocket_mol2_file\"] = [pocket_mol2_files[row[\"structure_ID\"]] for _,row in df.iterrows()]"
   ]
  },
  {
   "cell_type": "code",
   "execution_count": 12,
   "metadata": {},
   "outputs": [
    {
     "data": {
      "text/html": [
       "<div>\n",
       "<style scoped>\n",
       "    .dataframe tbody tr th:only-of-type {\n",
       "        vertical-align: middle;\n",
       "    }\n",
       "\n",
       "    .dataframe tbody tr th {\n",
       "        vertical-align: top;\n",
       "    }\n",
       "\n",
       "    .dataframe thead th {\n",
       "        text-align: right;\n",
       "    }\n",
       "</style>\n",
       "<table border=\"1\" class=\"dataframe\">\n",
       "  <thead>\n",
       "    <tr style=\"text-align: right;\">\n",
       "      <th></th>\n",
       "      <th>pocket_mol2_file</th>\n",
       "      <th>structure_ID</th>\n",
       "    </tr>\n",
       "    <tr>\n",
       "      <th>ident</th>\n",
       "      <th></th>\n",
       "      <th></th>\n",
       "    </tr>\n",
       "  </thead>\n",
       "  <tbody>\n",
       "    <tr>\n",
       "      <th>16291323</th>\n",
       "      <td>data/raw/mol2/pocket/12757_pocket.mol2</td>\n",
       "      <td>12757</td>\n",
       "    </tr>\n",
       "    <tr>\n",
       "      <th>16306943</th>\n",
       "      <td>data/raw/mol2/pocket/14314_pocket.mol2</td>\n",
       "      <td>14314</td>\n",
       "    </tr>\n",
       "    <tr>\n",
       "      <th>16264754</th>\n",
       "      <td>data/raw/mol2/pocket/10689_pocket.mol2</td>\n",
       "      <td>10689</td>\n",
       "    </tr>\n",
       "    <tr>\n",
       "      <th>16340050</th>\n",
       "      <td>data/raw/mol2/pocket/10689_pocket.mol2</td>\n",
       "      <td>10689</td>\n",
       "    </tr>\n",
       "    <tr>\n",
       "      <th>16340956</th>\n",
       "      <td>data/raw/mol2/pocket/10689_pocket.mol2</td>\n",
       "      <td>10689</td>\n",
       "    </tr>\n",
       "  </tbody>\n",
       "</table>\n",
       "</div>"
      ],
      "text/plain": [
       "                                pocket_mol2_file  structure_ID\n",
       "ident                                                         \n",
       "16291323  data/raw/mol2/pocket/12757_pocket.mol2         12757\n",
       "16306943  data/raw/mol2/pocket/14314_pocket.mol2         14314\n",
       "16264754  data/raw/mol2/pocket/10689_pocket.mol2         10689\n",
       "16340050  data/raw/mol2/pocket/10689_pocket.mol2         10689\n",
       "16340956  data/raw/mol2/pocket/10689_pocket.mol2         10689"
      ]
     },
     "execution_count": 12,
     "metadata": {},
     "output_type": "execute_result"
    }
   ],
   "source": [
    "df[[\"pocket_mol2_file\", \"structure_ID\"]].head()"
   ]
  },
  {
   "cell_type": "markdown",
   "metadata": {},
   "source": [
    "#### Create PyTorch Geometric data\n",
    "this might take a while..."
   ]
  },
  {
   "cell_type": "code",
   "execution_count": 13,
   "metadata": {},
   "outputs": [],
   "source": [
    "def atomic_numbers(mol) -> torch.LongTensor:\n",
    "    z = torch.empty(mol.GetNumAtoms(), dtype=torch.long)\n",
    "    for i, atom in enumerate(mol.GetAtoms()):\n",
    "        z[i] = atom.GetAtomicNum()\n",
    "    return z\n",
    "\n",
    "def coordinates(mol) -> torch.FloatTensor:\n",
    "    conf = mol.GetConformer()\n",
    "    pos = conf.GetPositions()\n",
    "    return torch.from_numpy(pos)\n",
    "\n",
    "def add_atoms(mol, data, key):\n",
    "    data[key].z = atomic_numbers(mol)\n",
    "    data[key].pos = coordinates(mol)\n",
    "    assert data[key].z.size(0) == data[key].pos.size(0)\n",
    "    return data"
   ]
  },
  {
   "cell_type": "code",
   "execution_count": 14,
   "metadata": {},
   "outputs": [
    {
     "name": "stderr",
     "output_type": "stream",
     "text": [
      "  0%|          | 100/110274 [00:02<44:50, 40.94it/s] \n"
     ]
    }
   ],
   "source": [
    "data_list = []\n",
    "n = 100 # debugging\n",
    "removeHs = False\n",
    "for ident, row in tqdm(df.sample(n).iterrows(), total=len(df)):\n",
    "    data = HeteroData()\n",
    "    \n",
    "    ligand = Chem.MolFromPDBFile(str(row[\"ligand_pdb_file\"]), removeHs=removeHs, sanitize=False)\n",
    "    assert ligand is not None\n",
    "    data = add_atoms(ligand, data, \"ligand\")\n",
    "    \n",
    "    pocket = Chem.rdmolfiles.MolFromMol2File(str(row[\"pocket_mol2_file\"]), removeHs=removeHs, sanitize=False)\n",
    "    assert pocket is not None\n",
    "    data = add_atoms(pocket, data, \"pocket\")\n",
    "   \n",
    "    data.y = torch.tensor(row[\"activities.standard_value\"]).view(1)\n",
    "    \n",
    "    data_list.append(data) \n",
    "    \n",
    "    # TODO\n",
    "    # edge information based on distance?\n",
    "    ..."
   ]
  },
  {
   "cell_type": "code",
   "execution_count": 15,
   "metadata": {},
   "outputs": [
    {
     "data": {
      "text/plain": [
       "HeteroData(\n",
       "  y=[1],\n",
       "  \u001b[1mligand\u001b[0m={\n",
       "    z=[57],\n",
       "    pos=[57, 3]\n",
       "  },\n",
       "  \u001b[1mpocket\u001b[0m={\n",
       "    z=[1397],\n",
       "    pos=[1397, 3]\n",
       "  }\n",
       ")"
      ]
     },
     "execution_count": 15,
     "metadata": {},
     "output_type": "execute_result"
    }
   ],
   "source": [
    "data # structure and tensor shapes"
   ]
  }
 ],
 "metadata": {
  "kernelspec": {
   "display_name": "Python 3.10.8 ('kinodata')",
   "language": "python",
   "name": "python3"
  },
  "language_info": {
   "codemirror_mode": {
    "name": "ipython",
    "version": 3
   },
   "file_extension": ".py",
   "mimetype": "text/x-python",
   "name": "python",
   "nbconvert_exporter": "python",
   "pygments_lexer": "ipython3",
   "version": "3.10.8"
  },
  "orig_nbformat": 4,
  "vscode": {
   "interpreter": {
    "hash": "528a87b2665604848835e963d9b59f6a2ef408edd78da891397a1684bf62ca9e"
   }
  }
 },
 "nbformat": 4,
 "nbformat_minor": 2
}
