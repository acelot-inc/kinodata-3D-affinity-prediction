{
 "cells": [
  {
   "cell_type": "code",
   "execution_count": 1,
   "metadata": {},
   "outputs": [],
   "source": [
    "%load_ext autoreload\n",
    "%autoreload 2"
   ]
  },
  {
   "cell_type": "code",
   "execution_count": 2,
   "metadata": {},
   "outputs": [],
   "source": [
    "from pathlib import Path\n",
    "import pandas as pd\n",
    "import numpy as np\n",
    "import matplotlib.pyplot as plt"
   ]
  },
  {
   "cell_type": "code",
   "execution_count": 3,
   "metadata": {},
   "outputs": [
    {
     "name": "stderr",
     "output_type": "stream",
     "text": [
      "/Users/joschka/mambaforge/envs/kinodata/lib/python3.10/site-packages/tqdm/auto.py:22: TqdmWarning: IProgress not found. Please update jupyter and ipywidgets. See https://ipywidgets.readthedocs.io/en/stable/user_install.html\n",
      "  from .autonotebook import tqdm as notebook_tqdm\n"
     ]
    }
   ],
   "source": [
    "from kinodata.data.data_split import RandomSplit, Split\n",
    "from kinodata.data.cold_split import ColdSplit\n",
    "from kinodata.data.utils.similarity import BLOSUMSubstitutionSimilarity, pairwise_tanimoto_similarity\n",
    "from kinodata.data.utils.scaffolds import generate_scaffolds\n",
    "from kinodata.data.utils.pocket_sequence_klifs import add_pocket_sequence\n",
    "from kinodata.data.utils.cluster import AffinityPropagation\n",
    "from kinodata.data.dataset import KinodataDocked"
   ]
  },
  {
   "cell_type": "code",
   "execution_count": 4,
   "metadata": {},
   "outputs": [],
   "source": [
    "dataset = KinodataDocked()"
   ]
  },
  {
   "cell_type": "code",
   "execution_count": 5,
   "metadata": {},
   "outputs": [
    {
     "data": {
      "text/plain": [
       "'Number of data points: 40525'"
      ]
     },
     "execution_count": 5,
     "metadata": {},
     "output_type": "execute_result"
    }
   ],
   "source": [
    "f\"Number of data points: {len(dataset)}\""
   ]
  },
  {
   "cell_type": "code",
   "execution_count": 6,
   "metadata": {},
   "outputs": [
    {
     "name": "stdout",
     "output_type": "stream",
     "text": [
      "Reading data frame..\n",
      "Checking for missing pocket mol2 files...\n"
     ]
    },
    {
     "name": "stderr",
     "output_type": "stream",
     "text": [
      "100%|██████████| 2439/2439 [00:00<00:00, 35656.83it/s]\n"
     ]
    }
   ],
   "source": [
    "PATH = Path(\"..\") / \"data\" / \"test_splits\"\n",
    "SEEDS = tuple(range(5))\n",
    "TRAIN_SIZE = 0.8\n",
    "VAL_SIZE = 0.1\n",
    "TEST_SIZE = 0.1\n",
    "data_source = dataset.df\n",
    "data_source[\"ident\"] = data_source[\"ident\"].astype(int)\n",
    "\n",
    "# data point identifiers\n",
    "idents = [int(data.ident) for data in dataset]"
   ]
  },
  {
   "cell_type": "code",
   "execution_count": 7,
   "metadata": {},
   "outputs": [],
   "source": [
    "if not PATH.exists():\n",
    "    PATH.mkdir()"
   ]
  },
  {
   "cell_type": "code",
   "execution_count": 8,
   "metadata": {},
   "outputs": [],
   "source": [
    "# take into account that source data frame was not filtered\n",
    "# need to apply same filter we used for the processed data for this notebook\n",
    "data_source = data_source.set_index(\"ident\").loc[idents]"
   ]
  },
  {
   "cell_type": "code",
   "execution_count": 9,
   "metadata": {},
   "outputs": [],
   "source": [
    "def path_to_split(kind: str, seed: int) -> Path:\n",
    "    path = PATH / kind / f\"seed_{seed}.csv\"\n",
    "    if not path.parents[0].exists():\n",
    "        path.parents[0].mkdir()\n",
    "    return path\n",
    "\n",
    "def pocket_split_path(seed: int) -> Path:\n",
    "    return path_to_split(\"pocket\", seed)\n",
    "                         \n",
    "def random_split_path(seed: int) -> Path:\n",
    "    return path_to_split(\"random\", seed)\n",
    "\n",
    "def scaffold_split_path(seed: int) -> Path:\n",
    "    return path_to_split(\"scaffold\", seed)"
   ]
  },
  {
   "cell_type": "markdown",
   "metadata": {},
   "source": [
    "## Generate random splits"
   ]
  },
  {
   "cell_type": "code",
   "execution_count": 10,
   "metadata": {},
   "outputs": [],
   "source": [
    "index_to_ident = {\n",
    "    i: data.ident for i, data in enumerate(dataset)\n",
    "}"
   ]
  },
  {
   "cell_type": "code",
   "execution_count": 11,
   "metadata": {},
   "outputs": [
    {
     "name": "stdout",
     "output_type": "stream",
     "text": [
      "Split[str](train=32421, val=4052, test=4052, source=None)\n",
      "Split[str](train=32421, val=4052, test=4052, source=None)\n",
      "Split[str](train=32421, val=4052, test=4052, source=None)\n",
      "Split[str](train=32421, val=4052, test=4052, source=None)\n",
      "Split[str](train=32421, val=4052, test=4052, source=None)\n"
     ]
    }
   ],
   "source": [
    "random_split = RandomSplit(TRAIN_SIZE, VAL_SIZE, TEST_SIZE)\n",
    "for seed in SEEDS:\n",
    "    split = random_split(dataset, seed)\n",
    "    # idents are more persistent/robust than data object index\n",
    "    split = split.remap_index(index_to_ident)\n",
    "    print(split)\n",
    "    split.to_data_frame().to_csv(random_split_path(seed))\n",
    "    "
   ]
  },
  {
   "cell_type": "markdown",
   "metadata": {},
   "source": [
    "## Generate scaffold splits"
   ]
  },
  {
   "cell_type": "code",
   "execution_count": 12,
   "metadata": {},
   "outputs": [],
   "source": [
    "if not (PATH / 'scaffold').exists():\n",
    "    (PATH / \"scaffold\").mkdir()"
   ]
  },
  {
   "cell_type": "code",
   "execution_count": 13,
   "metadata": {},
   "outputs": [
    {
     "data": {
      "text/html": [
       "<div>\n",
       "<style scoped>\n",
       "    .dataframe tbody tr th:only-of-type {\n",
       "        vertical-align: middle;\n",
       "    }\n",
       "\n",
       "    .dataframe tbody tr th {\n",
       "        vertical-align: top;\n",
       "    }\n",
       "\n",
       "    .dataframe thead th {\n",
       "        text-align: right;\n",
       "    }\n",
       "</style>\n",
       "<table border=\"1\" class=\"dataframe\">\n",
       "  <thead>\n",
       "    <tr style=\"text-align: right;\">\n",
       "      <th></th>\n",
       "      <th>Unnamed: 0</th>\n",
       "      <th>ident</th>\n",
       "      <th>scaffold</th>\n",
       "    </tr>\n",
       "  </thead>\n",
       "  <tbody>\n",
       "    <tr>\n",
       "      <th>0</th>\n",
       "      <td>0</td>\n",
       "      <td>37861</td>\n",
       "      <td>C1CCC(CC2CCC(C3CCCCC3)C2)CC1</td>\n",
       "    </tr>\n",
       "    <tr>\n",
       "      <th>1</th>\n",
       "      <td>1</td>\n",
       "      <td>40692</td>\n",
       "      <td>C1CCC(CC2CCC(C3CC(C4CCCC4)C4CCCCC34)CC2)CC1</td>\n",
       "    </tr>\n",
       "    <tr>\n",
       "      <th>2</th>\n",
       "      <td>2</td>\n",
       "      <td>41985</td>\n",
       "      <td>C1CCC(CC2CCC(C3CCC4CCCCC43)CC2)CC1</td>\n",
       "    </tr>\n",
       "    <tr>\n",
       "      <th>3</th>\n",
       "      <td>3</td>\n",
       "      <td>42689</td>\n",
       "      <td>C1CCC(CC2CCC(C3CCCCC3)C2)CC1</td>\n",
       "    </tr>\n",
       "    <tr>\n",
       "      <th>4</th>\n",
       "      <td>4</td>\n",
       "      <td>44685</td>\n",
       "      <td>C1CCC(CC2CCCC3CCCCC32)CC1</td>\n",
       "    </tr>\n",
       "  </tbody>\n",
       "</table>\n",
       "</div>"
      ],
      "text/plain": [
       "   Unnamed: 0  ident                                     scaffold\n",
       "0           0  37861                 C1CCC(CC2CCC(C3CCCCC3)C2)CC1\n",
       "1           1  40692  C1CCC(CC2CCC(C3CC(C4CCCC4)C4CCCCC34)CC2)CC1\n",
       "2           2  41985           C1CCC(CC2CCC(C3CCC4CCCCC43)CC2)CC1\n",
       "3           3  42689                 C1CCC(CC2CCC(C3CCCCC3)C2)CC1\n",
       "4           4  44685                    C1CCC(CC2CCCC3CCCCC32)CC1"
      ]
     },
     "execution_count": 13,
     "metadata": {},
     "output_type": "execute_result"
    }
   ],
   "source": [
    "scaffold_path = PATH / \"scaffold\" / \"scaffolds.csv\"\n",
    "if scaffold_path.exists():\n",
    "    df_scaffold = pd.read_csv(scaffold_path)\n",
    "else:\n",
    "    df_scaffold = generate_scaffolds(dataset)\n",
    "    df_scaffold.to_csv(scaffold_path, index=False)\n",
    "\n",
    "df_scaffold.head()"
   ]
  },
  {
   "cell_type": "code",
   "execution_count": 14,
   "metadata": {},
   "outputs": [],
   "source": [
    "scaffold_similarities = pairwise_tanimoto_similarity(df_scaffold[\"scaffold\"].unique())"
   ]
  },
  {
   "cell_type": "code",
   "execution_count": 15,
   "metadata": {},
   "outputs": [
    {
     "name": "stdout",
     "output_type": "stream",
     "text": [
      "Split[int](train=31929, val=4657, test=4406, source=None)\n",
      "Split[int](train=32444, val=4104, test=4444, source=None)\n",
      "Split[int](train=32885, val=4251, test=3856, source=None)\n",
      "Split[int](train=33427, val=4047, test=3518, source=None)\n",
      "Split[int](train=31343, val=3953, test=5696, source=None)\n"
     ]
    }
   ],
   "source": [
    "scaffold_split = ColdSplit(TRAIN_SIZE, VAL_SIZE, TEST_SIZE, attribute_key=\"scaffold\", clustering=None)\n",
    "for seed in SEEDS:\n",
    "    split = scaffold_split(df_scaffold, seed, scaffold_similarities)\n",
    "    print(split)\n",
    "    split.to_data_frame().to_csv(scaffold_split_path(seed), index=False)\n",
    "    "
   ]
  },
  {
   "cell_type": "markdown",
   "metadata": {},
   "source": [
    "## Pocket Splits"
   ]
  },
  {
   "cell_type": "code",
   "execution_count": 16,
   "metadata": {},
   "outputs": [],
   "source": [
    "if not (PATH / \"pocket\").exists():\n",
    "    (PATH / \"pocket\").mkdir()"
   ]
  },
  {
   "cell_type": "code",
   "execution_count": 17,
   "metadata": {},
   "outputs": [],
   "source": [
    "pocket_path = PATH / \"pocket\" / \"pocket_sequences.csv\"\n",
    "if pocket_path.exists():\n",
    "    df_pocket = pd.read_csv(pocket_path)\n",
    "else:\n",
    "    df_pocket = add_pocket_sequence(data_source, pocket_sequence_key=\"structure.pocket_sequence\")\n",
    "    df_pocket[[\"ident\", \"structure.pocket_sequence\"]].to_csv(pocket_path, index=False)\n",
    "\n",
    "df_pocket = df_pocket.set_index(\"ident\")\n",
    "df_pocket = df_pocket.loc[idents]\n",
    "df_pocket[\"ident\"] = df_pocket.index"
   ]
  },
  {
   "cell_type": "code",
   "execution_count": 18,
   "metadata": {},
   "outputs": [
    {
     "data": {
      "text/html": [
       "<div>\n",
       "<style scoped>\n",
       "    .dataframe tbody tr th:only-of-type {\n",
       "        vertical-align: middle;\n",
       "    }\n",
       "\n",
       "    .dataframe tbody tr th {\n",
       "        vertical-align: top;\n",
       "    }\n",
       "\n",
       "    .dataframe thead th {\n",
       "        text-align: right;\n",
       "    }\n",
       "</style>\n",
       "<table border=\"1\" class=\"dataframe\">\n",
       "  <thead>\n",
       "    <tr style=\"text-align: right;\">\n",
       "      <th></th>\n",
       "      <th>Unnamed: 0</th>\n",
       "      <th>structure.pocket_sequence</th>\n",
       "      <th>ident</th>\n",
       "    </tr>\n",
       "    <tr>\n",
       "      <th>ident</th>\n",
       "      <th></th>\n",
       "      <th></th>\n",
       "      <th></th>\n",
       "    </tr>\n",
       "  </thead>\n",
       "  <tbody>\n",
       "    <tr>\n",
       "      <th>37861</th>\n",
       "      <td>0</td>\n",
       "      <td>KPLGR____QVIEVAVKMLALMSELKILIHIGLNVVNLLGAMVIVE...</td>\n",
       "      <td>37861</td>\n",
       "    </tr>\n",
       "    <tr>\n",
       "      <th>40692</th>\n",
       "      <td>1</td>\n",
       "      <td>VKLGQG__GEVWMVAIKTLAFLQEAQVMKKLREKLVQLYAVYIVTE...</td>\n",
       "      <td>40692</td>\n",
       "    </tr>\n",
       "    <tr>\n",
       "      <th>41985</th>\n",
       "      <td>2</td>\n",
       "      <td>VKLGQGCFGEVWMVAIKTLAFLQEAQVMKKLREKLVQLYAVYIVGE...</td>\n",
       "      <td>41985</td>\n",
       "    </tr>\n",
       "    <tr>\n",
       "      <th>42689</th>\n",
       "      <td>3</td>\n",
       "      <td>KPLGR____QVIEVAVKMLALMSELKILIHIGLNVVNLLGAMVIVE...</td>\n",
       "      <td>42689</td>\n",
       "    </tr>\n",
       "    <tr>\n",
       "      <th>44685</th>\n",
       "      <td>4</td>\n",
       "      <td>KVLGSGAFGTVYKVAIKELEILDEAYVMASVDPHVCRLLGIQLITQ...</td>\n",
       "      <td>44685</td>\n",
       "    </tr>\n",
       "  </tbody>\n",
       "</table>\n",
       "</div>"
      ],
      "text/plain": [
       "       Unnamed: 0                          structure.pocket_sequence  ident\n",
       "ident                                                                      \n",
       "37861           0  KPLGR____QVIEVAVKMLALMSELKILIHIGLNVVNLLGAMVIVE...  37861\n",
       "40692           1  VKLGQG__GEVWMVAIKTLAFLQEAQVMKKLREKLVQLYAVYIVTE...  40692\n",
       "41985           2  VKLGQGCFGEVWMVAIKTLAFLQEAQVMKKLREKLVQLYAVYIVGE...  41985\n",
       "42689           3  KPLGR____QVIEVAVKMLALMSELKILIHIGLNVVNLLGAMVIVE...  42689\n",
       "44685           4  KVLGSGAFGTVYKVAIKELEILDEAYVMASVDPHVCRLLGIQLITQ...  44685"
      ]
     },
     "execution_count": 18,
     "metadata": {},
     "output_type": "execute_result"
    }
   ],
   "source": [
    "df_pocket.head()"
   ]
  },
  {
   "cell_type": "code",
   "execution_count": 19,
   "metadata": {},
   "outputs": [],
   "source": [
    "pocket_similarities = BLOSUMSubstitutionSimilarity()(df_pocket[\"structure.pocket_sequence\"].unique())"
   ]
  },
  {
   "cell_type": "code",
   "execution_count": 20,
   "metadata": {},
   "outputs": [
    {
     "name": "stdout",
     "output_type": "stream",
     "text": [
      "Split[int](train=31018, val=5203, test=4304, source=None)\n",
      "Split[int](train=31376, val=3169, test=5980, source=None)\n",
      "Split[int](train=33972, val=4793, test=1760, source=None)\n",
      "Split[int](train=34437, val=3785, test=2303, source=None)\n",
      "Split[int](train=28889, val=5578, test=6058, source=None)\n"
     ]
    }
   ],
   "source": [
    "pocket_split = ColdSplit(TRAIN_SIZE, VAL_SIZE, TEST_SIZE, attribute_key=\"structure.pocket_sequence\")\n",
    "for seed in SEEDS:\n",
    "    split = pocket_split(df_pocket, seed, pocket_similarities)\n",
    "    print(split)\n",
    "    split.to_data_frame().to_csv(pocket_split_path(seed), index=False)"
   ]
  }
 ],
 "metadata": {
  "kernelspec": {
   "display_name": "Python 3.10.8 ('kinodata')",
   "language": "python",
   "name": "python3"
  },
  "language_info": {
   "codemirror_mode": {
    "name": "ipython",
    "version": 3
   },
   "file_extension": ".py",
   "mimetype": "text/x-python",
   "name": "python",
   "nbconvert_exporter": "python",
   "pygments_lexer": "ipython3",
   "version": "3.10.8"
  },
  "orig_nbformat": 4,
  "vscode": {
   "interpreter": {
    "hash": "528a87b2665604848835e963d9b59f6a2ef408edd78da891397a1684bf62ca9e"
   }
  }
 },
 "nbformat": 4,
 "nbformat_minor": 2
}
