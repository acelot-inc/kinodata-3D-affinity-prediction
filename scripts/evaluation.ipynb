{
 "cells": [
  {
   "cell_type": "code",
   "execution_count": 3,
   "metadata": {},
   "outputs": [
    {
     "data": {
      "text/plain": [
       "[PosixPath('/Users/joschka/projects/kinodata-docked-rescore/eval_data/egnnr12_eval_data.csv'),\n",
       " PosixPath('/Users/joschka/projects/kinodata-docked-rescore/eval_data/relegnn_eval_data.csv'),\n",
       " PosixPath('/Users/joschka/projects/kinodata-docked-rescore/eval_data/pocket_clusters_with_klifs.csv'),\n",
       " PosixPath('/Users/joschka/projects/kinodata-docked-rescore/eval_data/eval_data.csv'),\n",
       " PosixPath('/Users/joschka/projects/kinodata-docked-rescore/eval_data/egnnr_eval_data.csv'),\n",
       " PosixPath('/Users/joschka/projects/kinodata-docked-rescore/eval_data/pocket_klifs_metadata.csv'),\n",
       " PosixPath('/Users/joschka/projects/kinodata-docked-rescore/eval_data/README.md'),\n",
       " PosixPath('/Users/joschka/projects/kinodata-docked-rescore/eval_data/dti_less_features_eval_data.csv'),\n",
       " PosixPath('/Users/joschka/projects/kinodata-docked-rescore/eval_data/train_runs.csv'),\n",
       " PosixPath('/Users/joschka/projects/kinodata-docked-rescore/eval_data/transformer_eval_data.csv'),\n",
       " PosixPath('/Users/joschka/projects/kinodata-docked-rescore/eval_data/dti_eval_data.csv'),\n",
       " PosixPath('/Users/joschka/projects/kinodata-docked-rescore/eval_data/dti_runs.csv'),\n",
       " PosixPath('/Users/joschka/projects/kinodata-docked-rescore/eval_data/pocket_clusters_with_klifs_full.csv')]"
      ]
     },
     "execution_count": 3,
     "metadata": {},
     "output_type": "execute_result"
    }
   ],
   "source": [
    "import pandas as pd\n",
    "import seaborn as sns\n",
    "import matplotlib.pyplot as plt\n",
    "import matplotlib\n",
    "from pathlib import Path\n",
    "sns.set_context(\"paper\")\n",
    "EVAL_DATA = Path().absolute().parents[0] / \"eval_data\"\n",
    "list(EVAL_DATA.iterdir())"
   ]
  },
  {
   "cell_type": "markdown",
   "metadata": {},
   "source": [
    "## Load eval data"
   ]
  },
  {
   "cell_type": "code",
   "execution_count": 4,
   "metadata": {},
   "outputs": [
    {
     "data": {
      "text/html": [
       "<div>\n",
       "<style scoped>\n",
       "    .dataframe tbody tr th:only-of-type {\n",
       "        vertical-align: middle;\n",
       "    }\n",
       "\n",
       "    .dataframe tbody tr th {\n",
       "        vertical-align: top;\n",
       "    }\n",
       "\n",
       "    .dataframe thead th {\n",
       "        text-align: right;\n",
       "    }\n",
       "</style>\n",
       "<table border=\"1\" class=\"dataframe\">\n",
       "  <thead>\n",
       "    <tr style=\"text-align: right;\">\n",
       "      <th></th>\n",
       "      <th>pred</th>\n",
       "      <th>ident</th>\n",
       "      <th>model</th>\n",
       "      <th>split</th>\n",
       "      <th>split_seed</th>\n",
       "      <th>activities.standard_value</th>\n",
       "      <th>target</th>\n",
       "    </tr>\n",
       "  </thead>\n",
       "  <tbody>\n",
       "    <tr>\n",
       "      <th>0</th>\n",
       "      <td>5.668407</td>\n",
       "      <td>44685</td>\n",
       "      <td>GIN</td>\n",
       "      <td>scaffold</td>\n",
       "      <td>4</td>\n",
       "      <td>6.000000</td>\n",
       "      <td>6.000000</td>\n",
       "    </tr>\n",
       "    <tr>\n",
       "      <th>1</th>\n",
       "      <td>5.251923</td>\n",
       "      <td>44685</td>\n",
       "      <td>GIN</td>\n",
       "      <td>pocket</td>\n",
       "      <td>4</td>\n",
       "      <td>6.000000</td>\n",
       "      <td>6.000000</td>\n",
       "    </tr>\n",
       "    <tr>\n",
       "      <th>2</th>\n",
       "      <td>6.395972</td>\n",
       "      <td>44685</td>\n",
       "      <td>EGNN</td>\n",
       "      <td>scaffold</td>\n",
       "      <td>4</td>\n",
       "      <td>6.000000</td>\n",
       "      <td>6.000000</td>\n",
       "    </tr>\n",
       "    <tr>\n",
       "      <th>3</th>\n",
       "      <td>5.828227</td>\n",
       "      <td>44685</td>\n",
       "      <td>EGNN</td>\n",
       "      <td>pocket</td>\n",
       "      <td>4</td>\n",
       "      <td>6.000000</td>\n",
       "      <td>6.000000</td>\n",
       "    </tr>\n",
       "    <tr>\n",
       "      <th>4</th>\n",
       "      <td>4.179743</td>\n",
       "      <td>105738</td>\n",
       "      <td>GIN</td>\n",
       "      <td>scaffold</td>\n",
       "      <td>4</td>\n",
       "      <td>8.376751</td>\n",
       "      <td>8.376751</td>\n",
       "    </tr>\n",
       "  </tbody>\n",
       "</table>\n",
       "</div>"
      ],
      "text/plain": [
       "       pred   ident model     split  split_seed  activities.standard_value  \\\n",
       "0  5.668407   44685   GIN  scaffold           4                   6.000000   \n",
       "1  5.251923   44685   GIN    pocket           4                   6.000000   \n",
       "2  6.395972   44685  EGNN  scaffold           4                   6.000000   \n",
       "3  5.828227   44685  EGNN    pocket           4                   6.000000   \n",
       "4  4.179743  105738   GIN  scaffold           4                   8.376751   \n",
       "\n",
       "     target  \n",
       "0  6.000000  \n",
       "1  6.000000  \n",
       "2  6.000000  \n",
       "3  6.000000  \n",
       "4  8.376751  "
      ]
     },
     "execution_count": 4,
     "metadata": {},
     "output_type": "execute_result"
    }
   ],
   "source": [
    "eval_data = pd.read_csv(EVAL_DATA / \"eval_data.csv\")\n",
    "eval_data.head()"
   ]
  },
  {
   "cell_type": "code",
   "execution_count": 5,
   "metadata": {},
   "outputs": [
    {
     "data": {
      "text/html": [
       "<div>\n",
       "<style scoped>\n",
       "    .dataframe tbody tr th:only-of-type {\n",
       "        vertical-align: middle;\n",
       "    }\n",
       "\n",
       "    .dataframe tbody tr th {\n",
       "        vertical-align: top;\n",
       "    }\n",
       "\n",
       "    .dataframe thead th {\n",
       "        text-align: right;\n",
       "    }\n",
       "</style>\n",
       "<table border=\"1\" class=\"dataframe\">\n",
       "  <thead>\n",
       "    <tr style=\"text-align: right;\">\n",
       "      <th></th>\n",
       "      <th>pred</th>\n",
       "      <th>ident</th>\n",
       "      <th>model</th>\n",
       "      <th>split</th>\n",
       "      <th>split_seed</th>\n",
       "      <th>activities.standard_value</th>\n",
       "      <th>target</th>\n",
       "    </tr>\n",
       "  </thead>\n",
       "  <tbody>\n",
       "    <tr>\n",
       "      <th>0</th>\n",
       "      <td>7.199682</td>\n",
       "      <td>198998</td>\n",
       "      <td>DTI</td>\n",
       "      <td>scaffold</td>\n",
       "      <td>0</td>\n",
       "      <td>5.853872</td>\n",
       "      <td>5.853872</td>\n",
       "    </tr>\n",
       "    <tr>\n",
       "      <th>1</th>\n",
       "      <td>7.647483</td>\n",
       "      <td>198998</td>\n",
       "      <td>DTI</td>\n",
       "      <td>scaffold</td>\n",
       "      <td>1</td>\n",
       "      <td>5.853872</td>\n",
       "      <td>5.853872</td>\n",
       "    </tr>\n",
       "    <tr>\n",
       "      <th>2</th>\n",
       "      <td>6.981037</td>\n",
       "      <td>198998</td>\n",
       "      <td>DTI</td>\n",
       "      <td>random</td>\n",
       "      <td>2</td>\n",
       "      <td>5.853872</td>\n",
       "      <td>5.853872</td>\n",
       "    </tr>\n",
       "    <tr>\n",
       "      <th>3</th>\n",
       "      <td>7.434746</td>\n",
       "      <td>198998</td>\n",
       "      <td>DTI</td>\n",
       "      <td>pocket</td>\n",
       "      <td>3</td>\n",
       "      <td>5.853872</td>\n",
       "      <td>5.853872</td>\n",
       "    </tr>\n",
       "    <tr>\n",
       "      <th>4</th>\n",
       "      <td>6.067016</td>\n",
       "      <td>198998</td>\n",
       "      <td>DTI</td>\n",
       "      <td>random</td>\n",
       "      <td>3</td>\n",
       "      <td>5.853872</td>\n",
       "      <td>5.853872</td>\n",
       "    </tr>\n",
       "  </tbody>\n",
       "</table>\n",
       "</div>"
      ],
      "text/plain": [
       "       pred   ident model     split  split_seed  activities.standard_value  \\\n",
       "0  7.199682  198998   DTI  scaffold           0                   5.853872   \n",
       "1  7.647483  198998   DTI  scaffold           1                   5.853872   \n",
       "2  6.981037  198998   DTI    random           2                   5.853872   \n",
       "3  7.434746  198998   DTI    pocket           3                   5.853872   \n",
       "4  6.067016  198998   DTI    random           3                   5.853872   \n",
       "\n",
       "     target  \n",
       "0  5.853872  \n",
       "1  5.853872  \n",
       "2  5.853872  \n",
       "3  5.853872  \n",
       "4  5.853872  "
      ]
     },
     "execution_count": 5,
     "metadata": {},
     "output_type": "execute_result"
    }
   ],
   "source": [
    "dti_eval_data = pd.read_csv(EVAL_DATA / \"dti_eval_data.csv\")\n",
    "dti_eval_data.head()"
   ]
  },
  {
   "cell_type": "code",
   "execution_count": 6,
   "metadata": {},
   "outputs": [
    {
     "data": {
      "text/html": [
       "<div>\n",
       "<style scoped>\n",
       "    .dataframe tbody tr th:only-of-type {\n",
       "        vertical-align: middle;\n",
       "    }\n",
       "\n",
       "    .dataframe tbody tr th {\n",
       "        vertical-align: top;\n",
       "    }\n",
       "\n",
       "    .dataframe thead th {\n",
       "        text-align: right;\n",
       "    }\n",
       "</style>\n",
       "<table border=\"1\" class=\"dataframe\">\n",
       "  <thead>\n",
       "    <tr style=\"text-align: right;\">\n",
       "      <th></th>\n",
       "      <th>pred</th>\n",
       "      <th>ident</th>\n",
       "      <th>model</th>\n",
       "      <th>split</th>\n",
       "      <th>split_seed</th>\n",
       "      <th>activities.standard_value</th>\n",
       "      <th>target</th>\n",
       "    </tr>\n",
       "  </thead>\n",
       "  <tbody>\n",
       "    <tr>\n",
       "      <th>0</th>\n",
       "      <td>7.139952</td>\n",
       "      <td>44685</td>\n",
       "      <td>Transformer</td>\n",
       "      <td>scaffold</td>\n",
       "      <td>4</td>\n",
       "      <td>6.000000</td>\n",
       "      <td>6.000000</td>\n",
       "    </tr>\n",
       "    <tr>\n",
       "      <th>1</th>\n",
       "      <td>6.066615</td>\n",
       "      <td>44685</td>\n",
       "      <td>Transformer</td>\n",
       "      <td>pocket</td>\n",
       "      <td>4</td>\n",
       "      <td>6.000000</td>\n",
       "      <td>6.000000</td>\n",
       "    </tr>\n",
       "    <tr>\n",
       "      <th>2</th>\n",
       "      <td>8.714574</td>\n",
       "      <td>105738</td>\n",
       "      <td>Transformer</td>\n",
       "      <td>scaffold</td>\n",
       "      <td>4</td>\n",
       "      <td>8.376751</td>\n",
       "      <td>8.376751</td>\n",
       "    </tr>\n",
       "    <tr>\n",
       "      <th>3</th>\n",
       "      <td>6.577642</td>\n",
       "      <td>105738</td>\n",
       "      <td>Transformer</td>\n",
       "      <td>pocket</td>\n",
       "      <td>4</td>\n",
       "      <td>8.376751</td>\n",
       "      <td>8.376751</td>\n",
       "    </tr>\n",
       "    <tr>\n",
       "      <th>4</th>\n",
       "      <td>6.789509</td>\n",
       "      <td>108868</td>\n",
       "      <td>Transformer</td>\n",
       "      <td>scaffold</td>\n",
       "      <td>4</td>\n",
       "      <td>6.070581</td>\n",
       "      <td>6.070581</td>\n",
       "    </tr>\n",
       "  </tbody>\n",
       "</table>\n",
       "</div>"
      ],
      "text/plain": [
       "       pred   ident        model     split  split_seed  \\\n",
       "0  7.139952   44685  Transformer  scaffold           4   \n",
       "1  6.066615   44685  Transformer    pocket           4   \n",
       "2  8.714574  105738  Transformer  scaffold           4   \n",
       "3  6.577642  105738  Transformer    pocket           4   \n",
       "4  6.789509  108868  Transformer  scaffold           4   \n",
       "\n",
       "   activities.standard_value    target  \n",
       "0                   6.000000  6.000000  \n",
       "1                   6.000000  6.000000  \n",
       "2                   8.376751  8.376751  \n",
       "3                   8.376751  8.376751  \n",
       "4                   6.070581  6.070581  "
      ]
     },
     "execution_count": 6,
     "metadata": {},
     "output_type": "execute_result"
    }
   ],
   "source": [
    "st_eval_data = pd.read_csv(EVAL_DATA / \"transformer_eval_data.csv\")\n",
    "st_eval_data.head()"
   ]
  },
  {
   "cell_type": "code",
   "execution_count": 7,
   "metadata": {},
   "outputs": [
    {
     "data": {
      "text/plain": [
       "model\n",
       "DTI            51556\n",
       "EGNN           59467\n",
       "GIN            55839\n",
       "Transformer    44958\n",
       "dtype: int64"
      ]
     },
     "execution_count": 7,
     "metadata": {},
     "output_type": "execute_result"
    }
   ],
   "source": [
    "eval_data = pd.concat((eval_data, dti_eval_data, st_eval_data), axis=0).reset_index()\n",
    "eval_data.groupby(\"model\").size()"
   ]
  },
  {
   "cell_type": "markdown",
   "metadata": {},
   "source": [
    "### Calculate absolute prediction errors\n",
    "(and filter some weird outliers)"
   ]
  },
  {
   "cell_type": "code",
   "execution_count": 8,
   "metadata": {},
   "outputs": [],
   "source": [
    "eval_data[\"error\"] = (eval_data[\"pred\"] - eval_data[\"target\"]).abs()"
   ]
  },
  {
   "cell_type": "code",
   "execution_count": 9,
   "metadata": {},
   "outputs": [
    {
     "data": {
      "text/plain": [
       "model\n",
       "DTI            20\n",
       "EGNN            6\n",
       "GIN            56\n",
       "Transformer    12\n",
       "dtype: int64"
      ]
     },
     "execution_count": 9,
     "metadata": {},
     "output_type": "execute_result"
    }
   ],
   "source": [
    "eval_data[eval_data[\"error\"] > 5].groupby(\"model\").size() # ????"
   ]
  },
  {
   "cell_type": "code",
   "execution_count": 10,
   "metadata": {},
   "outputs": [],
   "source": [
    "eval_data = eval_data[eval_data[\"error\"] < 100]"
   ]
  },
  {
   "cell_type": "code",
   "execution_count": 11,
   "metadata": {},
   "outputs": [],
   "source": [
    "# sanity check that we use the same targets for all models\n",
    "assert (eval_data.groupby(\"ident\")[\"target\"].std() == 0).all()"
   ]
  },
  {
   "cell_type": "markdown",
   "metadata": {},
   "source": [
    "### Define model full names, useful for plotting"
   ]
  },
  {
   "cell_type": "code",
   "execution_count": 12,
   "metadata": {},
   "outputs": [
    {
     "data": {
      "text/html": [
       "<div>\n",
       "<style scoped>\n",
       "    .dataframe tbody tr th:only-of-type {\n",
       "        vertical-align: middle;\n",
       "    }\n",
       "\n",
       "    .dataframe tbody tr th {\n",
       "        vertical-align: top;\n",
       "    }\n",
       "\n",
       "    .dataframe thead th {\n",
       "        text-align: right;\n",
       "    }\n",
       "</style>\n",
       "<table border=\"1\" class=\"dataframe\">\n",
       "  <thead>\n",
       "    <tr style=\"text-align: right;\">\n",
       "      <th></th>\n",
       "      <th>index</th>\n",
       "      <th>pred</th>\n",
       "      <th>ident</th>\n",
       "      <th>model</th>\n",
       "      <th>split</th>\n",
       "      <th>split_seed</th>\n",
       "      <th>activities.standard_value</th>\n",
       "      <th>target</th>\n",
       "      <th>error</th>\n",
       "      <th>model_full_name</th>\n",
       "    </tr>\n",
       "  </thead>\n",
       "  <tbody>\n",
       "    <tr>\n",
       "      <th>0</th>\n",
       "      <td>0</td>\n",
       "      <td>5.668407</td>\n",
       "      <td>44685</td>\n",
       "      <td>GIN</td>\n",
       "      <td>scaffold</td>\n",
       "      <td>4</td>\n",
       "      <td>6.000000</td>\n",
       "      <td>6.000000</td>\n",
       "      <td>0.331593</td>\n",
       "      <td>Ligand-GNN</td>\n",
       "    </tr>\n",
       "    <tr>\n",
       "      <th>1</th>\n",
       "      <td>1</td>\n",
       "      <td>5.251923</td>\n",
       "      <td>44685</td>\n",
       "      <td>GIN</td>\n",
       "      <td>pocket</td>\n",
       "      <td>4</td>\n",
       "      <td>6.000000</td>\n",
       "      <td>6.000000</td>\n",
       "      <td>0.748077</td>\n",
       "      <td>Ligand-GNN</td>\n",
       "    </tr>\n",
       "    <tr>\n",
       "      <th>2</th>\n",
       "      <td>2</td>\n",
       "      <td>6.395972</td>\n",
       "      <td>44685</td>\n",
       "      <td>EGNN</td>\n",
       "      <td>scaffold</td>\n",
       "      <td>4</td>\n",
       "      <td>6.000000</td>\n",
       "      <td>6.000000</td>\n",
       "      <td>0.395972</td>\n",
       "      <td>Complex-EGNN</td>\n",
       "    </tr>\n",
       "    <tr>\n",
       "      <th>3</th>\n",
       "      <td>3</td>\n",
       "      <td>5.828227</td>\n",
       "      <td>44685</td>\n",
       "      <td>EGNN</td>\n",
       "      <td>pocket</td>\n",
       "      <td>4</td>\n",
       "      <td>6.000000</td>\n",
       "      <td>6.000000</td>\n",
       "      <td>0.171773</td>\n",
       "      <td>Complex-EGNN</td>\n",
       "    </tr>\n",
       "    <tr>\n",
       "      <th>4</th>\n",
       "      <td>4</td>\n",
       "      <td>4.179743</td>\n",
       "      <td>105738</td>\n",
       "      <td>GIN</td>\n",
       "      <td>scaffold</td>\n",
       "      <td>4</td>\n",
       "      <td>8.376751</td>\n",
       "      <td>8.376751</td>\n",
       "      <td>4.197008</td>\n",
       "      <td>Ligand-GNN</td>\n",
       "    </tr>\n",
       "  </tbody>\n",
       "</table>\n",
       "</div>"
      ],
      "text/plain": [
       "   index      pred   ident model     split  split_seed  \\\n",
       "0      0  5.668407   44685   GIN  scaffold           4   \n",
       "1      1  5.251923   44685   GIN    pocket           4   \n",
       "2      2  6.395972   44685  EGNN  scaffold           4   \n",
       "3      3  5.828227   44685  EGNN    pocket           4   \n",
       "4      4  4.179743  105738   GIN  scaffold           4   \n",
       "\n",
       "   activities.standard_value    target     error model_full_name  \n",
       "0                   6.000000  6.000000  0.331593      Ligand-GNN  \n",
       "1                   6.000000  6.000000  0.748077      Ligand-GNN  \n",
       "2                   6.000000  6.000000  0.395972    Complex-EGNN  \n",
       "3                   6.000000  6.000000  0.171773    Complex-EGNN  \n",
       "4                   8.376751  8.376751  4.197008      Ligand-GNN  "
      ]
     },
     "execution_count": 12,
     "metadata": {},
     "output_type": "execute_result"
    }
   ],
   "source": [
    "full_names = {\n",
    "    \"Transformer\": \"Transformer\",\n",
    "    \"EGNN (R)\": \"Complex-EGNN (R)\",\n",
    "    \"EGNN (R/12)\": \"Complex-EGNN (R/12)\",\n",
    "    \"EGNN\": \"Complex-EGNN\",\n",
    "    \"GIN\": \"Ligand-GNN\",\n",
    "    \"DTI\": \"KiSSim DeepDTA\"\n",
    "}\n",
    "eval_data[\"model_full_name\"] = eval_data[\"model\"].apply(full_names.get)\n",
    "eval_data.head()"
   ]
  },
  {
   "cell_type": "markdown",
   "metadata": {},
   "source": [
    "### Calculate test metrics\n",
    "* Correlation of test prediction and target\n",
    "* Mean absolute error"
   ]
  },
  {
   "cell_type": "code",
   "execution_count": 13,
   "metadata": {},
   "outputs": [
    {
     "data": {
      "text/html": [
       "<div>\n",
       "<style scoped>\n",
       "    .dataframe tbody tr th:only-of-type {\n",
       "        vertical-align: middle;\n",
       "    }\n",
       "\n",
       "    .dataframe tbody tr th {\n",
       "        vertical-align: top;\n",
       "    }\n",
       "\n",
       "    .dataframe thead th {\n",
       "        text-align: right;\n",
       "    }\n",
       "</style>\n",
       "<table border=\"1\" class=\"dataframe\">\n",
       "  <thead>\n",
       "    <tr style=\"text-align: right;\">\n",
       "      <th></th>\n",
       "      <th>split</th>\n",
       "      <th>model_full_name</th>\n",
       "      <th>split_seed</th>\n",
       "      <th>test_corr</th>\n",
       "    </tr>\n",
       "  </thead>\n",
       "  <tbody>\n",
       "    <tr>\n",
       "      <th>0</th>\n",
       "      <td>pocket</td>\n",
       "      <td>Complex-EGNN</td>\n",
       "      <td>0</td>\n",
       "      <td>0.372135</td>\n",
       "    </tr>\n",
       "    <tr>\n",
       "      <th>1</th>\n",
       "      <td>pocket</td>\n",
       "      <td>Complex-EGNN</td>\n",
       "      <td>1</td>\n",
       "      <td>0.348112</td>\n",
       "    </tr>\n",
       "    <tr>\n",
       "      <th>2</th>\n",
       "      <td>pocket</td>\n",
       "      <td>Complex-EGNN</td>\n",
       "      <td>2</td>\n",
       "      <td>0.327922</td>\n",
       "    </tr>\n",
       "    <tr>\n",
       "      <th>3</th>\n",
       "      <td>pocket</td>\n",
       "      <td>Complex-EGNN</td>\n",
       "      <td>3</td>\n",
       "      <td>0.188877</td>\n",
       "    </tr>\n",
       "    <tr>\n",
       "      <th>4</th>\n",
       "      <td>pocket</td>\n",
       "      <td>Complex-EGNN</td>\n",
       "      <td>4</td>\n",
       "      <td>0.272919</td>\n",
       "    </tr>\n",
       "  </tbody>\n",
       "</table>\n",
       "</div>"
      ],
      "text/plain": [
       "    split model_full_name  split_seed  test_corr\n",
       "0  pocket    Complex-EGNN           0   0.372135\n",
       "1  pocket    Complex-EGNN           1   0.348112\n",
       "2  pocket    Complex-EGNN           2   0.327922\n",
       "3  pocket    Complex-EGNN           3   0.188877\n",
       "4  pocket    Complex-EGNN           4   0.272919"
      ]
     },
     "execution_count": 13,
     "metadata": {},
     "output_type": "execute_result"
    }
   ],
   "source": [
    "corr_data = eval_data.groupby([\"split\", \"model_full_name\", \"split_seed\"])[[\"pred\", \"target\"]].corr(\"spearman\").iloc[0::2, -1]\n",
    "corr_data = corr_data.unstack().reset_index().rename(columns={\"pred\": \"test_corr\"})\n",
    "corr_data.head()"
   ]
  },
  {
   "cell_type": "code",
   "execution_count": 15,
   "metadata": {},
   "outputs": [
    {
     "data": {
      "text/html": [
       "<div>\n",
       "<style scoped>\n",
       "    .dataframe tbody tr th:only-of-type {\n",
       "        vertical-align: middle;\n",
       "    }\n",
       "\n",
       "    .dataframe tbody tr th {\n",
       "        vertical-align: top;\n",
       "    }\n",
       "\n",
       "    .dataframe thead th {\n",
       "        text-align: right;\n",
       "    }\n",
       "</style>\n",
       "<table border=\"1\" class=\"dataframe\">\n",
       "  <thead>\n",
       "    <tr style=\"text-align: right;\">\n",
       "      <th></th>\n",
       "      <th>split</th>\n",
       "      <th>model_full_name</th>\n",
       "      <th>split_seed</th>\n",
       "      <th>error</th>\n",
       "    </tr>\n",
       "  </thead>\n",
       "  <tbody>\n",
       "    <tr>\n",
       "      <th>0</th>\n",
       "      <td>pocket</td>\n",
       "      <td>Complex-EGNN</td>\n",
       "      <td>0</td>\n",
       "      <td>0.849410</td>\n",
       "    </tr>\n",
       "    <tr>\n",
       "      <th>1</th>\n",
       "      <td>pocket</td>\n",
       "      <td>Complex-EGNN</td>\n",
       "      <td>1</td>\n",
       "      <td>0.940820</td>\n",
       "    </tr>\n",
       "    <tr>\n",
       "      <th>2</th>\n",
       "      <td>pocket</td>\n",
       "      <td>Complex-EGNN</td>\n",
       "      <td>2</td>\n",
       "      <td>0.798744</td>\n",
       "    </tr>\n",
       "    <tr>\n",
       "      <th>3</th>\n",
       "      <td>pocket</td>\n",
       "      <td>Complex-EGNN</td>\n",
       "      <td>3</td>\n",
       "      <td>0.895928</td>\n",
       "    </tr>\n",
       "    <tr>\n",
       "      <th>4</th>\n",
       "      <td>pocket</td>\n",
       "      <td>Complex-EGNN</td>\n",
       "      <td>4</td>\n",
       "      <td>0.950526</td>\n",
       "    </tr>\n",
       "  </tbody>\n",
       "</table>\n",
       "</div>"
      ],
      "text/plain": [
       "    split model_full_name  split_seed     error\n",
       "0  pocket    Complex-EGNN           0  0.849410\n",
       "1  pocket    Complex-EGNN           1  0.940820\n",
       "2  pocket    Complex-EGNN           2  0.798744\n",
       "3  pocket    Complex-EGNN           3  0.895928\n",
       "4  pocket    Complex-EGNN           4  0.950526"
      ]
     },
     "execution_count": 15,
     "metadata": {},
     "output_type": "execute_result"
    }
   ],
   "source": [
    "mae_data = eval_data.groupby([\"split\", \"model_full_name\", \"split_seed\"])[\"error\"].mean().reset_index()\n",
    "mae_data.head()"
   ]
  },
  {
   "cell_type": "code",
   "execution_count": 16,
   "metadata": {},
   "outputs": [
    {
     "data": {
      "text/plain": [
       "(0.0, 2.0)"
      ]
     },
     "execution_count": 16,
     "metadata": {},
     "output_type": "execute_result"
    },
    {
     "data": {
      "image/png": "[encoded data removed]",
      "text/plain": [
       "<Figure size 646.625x500 with 1 Axes>"
      ]
     },
     "metadata": {},
     "output_type": "display_data"
    }
   ],
   "source": [
    "sns.catplot(eval_data, x=\"error\", y=\"split\", hue=\"model_full_name\", kind=\"box\")\n",
    "plt.xlim(left=0, right=2)"
   ]
  },
  {
   "cell_type": "code",
   "execution_count": 17,
   "metadata": {},
   "outputs": [
    {
     "data": {
      "text/html": [
       "<div>\n",
       "<style scoped>\n",
       "    .dataframe tbody tr th:only-of-type {\n",
       "        vertical-align: middle;\n",
       "    }\n",
       "\n",
       "    .dataframe tbody tr th {\n",
       "        vertical-align: top;\n",
       "    }\n",
       "\n",
       "    .dataframe thead th {\n",
       "        text-align: right;\n",
       "    }\n",
       "</style>\n",
       "<table border=\"1\" class=\"dataframe\">\n",
       "  <thead>\n",
       "    <tr style=\"text-align: right;\">\n",
       "      <th></th>\n",
       "      <th></th>\n",
       "      <th>mean</th>\n",
       "      <th>std</th>\n",
       "    </tr>\n",
       "    <tr>\n",
       "      <th>split</th>\n",
       "      <th>model_full_name</th>\n",
       "      <th></th>\n",
       "      <th></th>\n",
       "    </tr>\n",
       "  </thead>\n",
       "  <tbody>\n",
       "    <tr>\n",
       "      <th rowspan=\"4\" valign=\"top\">pocket</th>\n",
       "      <th>Complex-EGNN</th>\n",
       "      <td>0.301993</td>\n",
       "      <td>0.073075</td>\n",
       "    </tr>\n",
       "    <tr>\n",
       "      <th>KiSSim DeepDTA</th>\n",
       "      <td>0.286697</td>\n",
       "      <td>0.080830</td>\n",
       "    </tr>\n",
       "    <tr>\n",
       "      <th>Ligand-GNN</th>\n",
       "      <td>0.121021</td>\n",
       "      <td>0.084891</td>\n",
       "    </tr>\n",
       "    <tr>\n",
       "      <th>Transformer</th>\n",
       "      <td>0.247237</td>\n",
       "      <td>0.094810</td>\n",
       "    </tr>\n",
       "    <tr>\n",
       "      <th rowspan=\"4\" valign=\"top\">random</th>\n",
       "      <th>Complex-EGNN</th>\n",
       "      <td>0.690979</td>\n",
       "      <td>0.006018</td>\n",
       "    </tr>\n",
       "    <tr>\n",
       "      <th>KiSSim DeepDTA</th>\n",
       "      <td>0.667764</td>\n",
       "      <td>0.008368</td>\n",
       "    </tr>\n",
       "    <tr>\n",
       "      <th>Ligand-GNN</th>\n",
       "      <td>0.661203</td>\n",
       "      <td>0.009375</td>\n",
       "    </tr>\n",
       "    <tr>\n",
       "      <th>Transformer</th>\n",
       "      <td>0.749448</td>\n",
       "      <td>0.008413</td>\n",
       "    </tr>\n",
       "    <tr>\n",
       "      <th rowspan=\"4\" valign=\"top\">scaffold</th>\n",
       "      <th>Complex-EGNN</th>\n",
       "      <td>0.552584</td>\n",
       "      <td>0.046307</td>\n",
       "    </tr>\n",
       "    <tr>\n",
       "      <th>KiSSim DeepDTA</th>\n",
       "      <td>0.515484</td>\n",
       "      <td>0.056723</td>\n",
       "    </tr>\n",
       "    <tr>\n",
       "      <th>Ligand-GNN</th>\n",
       "      <td>0.305311</td>\n",
       "      <td>0.029918</td>\n",
       "    </tr>\n",
       "    <tr>\n",
       "      <th>Transformer</th>\n",
       "      <td>0.620472</td>\n",
       "      <td>0.042137</td>\n",
       "    </tr>\n",
       "  </tbody>\n",
       "</table>\n",
       "</div>"
      ],
      "text/plain": [
       "                              mean       std\n",
       "split    model_full_name                    \n",
       "pocket   Complex-EGNN     0.301993  0.073075\n",
       "         KiSSim DeepDTA   0.286697  0.080830\n",
       "         Ligand-GNN       0.121021  0.084891\n",
       "         Transformer      0.247237  0.094810\n",
       "random   Complex-EGNN     0.690979  0.006018\n",
       "         KiSSim DeepDTA   0.667764  0.008368\n",
       "         Ligand-GNN       0.661203  0.009375\n",
       "         Transformer      0.749448  0.008413\n",
       "scaffold Complex-EGNN     0.552584  0.046307\n",
       "         KiSSim DeepDTA   0.515484  0.056723\n",
       "         Ligand-GNN       0.305311  0.029918\n",
       "         Transformer      0.620472  0.042137"
      ]
     },
     "execution_count": 17,
     "metadata": {},
     "output_type": "execute_result"
    }
   ],
   "source": [
    "corr_data.groupby([\"split\", \"model_full_name\"])[\"test_corr\"].agg([\"mean\", \"std\"])"
   ]
  },
  {
   "cell_type": "code",
   "execution_count": 18,
   "metadata": {},
   "outputs": [
    {
     "ename": "IndexError",
     "evalue": "index 0 is out of bounds for axis 0 with size 0",
     "output_type": "error",
     "traceback": [
      "\u001b[0;31m---------------------------------------------------------------------------\u001b[0m",
      "\u001b[0;31mIndexError\u001b[0m                                Traceback (most recent call last)",
      "Cell \u001b[0;32mIn[18], line 14\u001b[0m\n\u001b[1;32m     11\u001b[0m     ax\u001b[38;5;241m.\u001b[39mset_ylabel(\u001b[38;5;124m\"\u001b[39m\u001b[38;5;124mPredicted affinity\u001b[39m\u001b[38;5;124m\"\u001b[39m)\n\u001b[1;32m     12\u001b[0m     ax\u001b[38;5;241m.\u001b[39mset_xlabel(\u001b[38;5;124m\"\u001b[39m\u001b[38;5;124mGround truth affinity ($\u001b[39m\u001b[38;5;132;01m{pIC}\u001b[39;00m\u001b[38;5;124m_\u001b[39m\u001b[38;5;132;01m{50}\u001b[39;00m\u001b[38;5;124m$)\u001b[39m\u001b[38;5;124m\"\u001b[39m)\n\u001b[0;32m---> 14\u001b[0m rho1 \u001b[38;5;241m=\u001b[39m \u001b[43mcorr_data\u001b[49m\u001b[38;5;241;43m.\u001b[39;49m\u001b[43mquery\u001b[49m\u001b[43m(\u001b[49m\u001b[43msplit_query\u001b[49m\u001b[43m)\u001b[49m\u001b[38;5;241;43m.\u001b[39;49m\u001b[43mquery\u001b[49m\u001b[43m(\u001b[49m\u001b[38;5;124;43m\"\u001b[39;49m\u001b[38;5;124;43mmodel_full_name == \u001b[39;49m\u001b[38;5;124;43m'\u001b[39;49m\u001b[38;5;124;43mComplex-EGNN (R/12)\u001b[39;49m\u001b[38;5;124;43m'\u001b[39;49m\u001b[38;5;124;43m\"\u001b[39;49m\u001b[43m)\u001b[49m\u001b[38;5;241;43m.\u001b[39;49m\u001b[43mtest_corr\u001b[49m\u001b[38;5;241;43m.\u001b[39;49m\u001b[43mvalues\u001b[49m\u001b[43m[\u001b[49m\u001b[38;5;241;43m0\u001b[39;49m\u001b[43m]\u001b[49m\n\u001b[1;32m     15\u001b[0m rho2 \u001b[38;5;241m=\u001b[39m corr_data\u001b[38;5;241m.\u001b[39mquery(split_query)\u001b[38;5;241m.\u001b[39mquery(\u001b[38;5;124m\"\u001b[39m\u001b[38;5;124mmodel_full_name == \u001b[39m\u001b[38;5;124m'\u001b[39m\u001b[38;5;124mKiSSim DeepDTA\u001b[39m\u001b[38;5;124m'\u001b[39m\u001b[38;5;124m\"\u001b[39m)\u001b[38;5;241m.\u001b[39mtest_corr\u001b[38;5;241m.\u001b[39mvalues[\u001b[38;5;241m0\u001b[39m]\n\u001b[1;32m     16\u001b[0m ax1\u001b[38;5;241m.\u001b[39mset_title(\u001b[38;5;124mf\u001b[39m\u001b[38;5;124m\"\u001b[39m\u001b[38;5;124mComplex-EGNN $\u001b[39m\u001b[38;5;130;01m\\\\\u001b[39;00m\u001b[38;5;124mrho=\u001b[39m\u001b[38;5;132;01m{\u001b[39;00mrho1\u001b[38;5;132;01m:\u001b[39;00m\u001b[38;5;124m.2f\u001b[39m\u001b[38;5;132;01m}\u001b[39;00m\u001b[38;5;124m$\u001b[39m\u001b[38;5;124m\"\u001b[39m) \n",
      "\u001b[0;31mIndexError\u001b[0m: index 0 is out of bounds for axis 0 with size 0"
     ]
    },
    {
     "data": {
      "image/png": "[encoded data removed]",
      "text/plain": [
       "<Figure size 400x800 with 2 Axes>"
      ]
     },
     "metadata": {},
     "output_type": "display_data"
    }
   ],
   "source": [
    "split, seed = \"random\", 4\n",
    "split_query = f\"split == '{split}' and split_seed == {seed}\"\n",
    "sns.set(font_scale=1.3)\n",
    "\n",
    "\n",
    "scaf_1 = eval_data.query(split_query)\n",
    "f, (ax1, ax2) = plt.subplots(2, 1, figsize=(4, 8), sharex=True, sharey=False)\n",
    "sns.scatterplot(scaf_1.query(\"model == 'EGNN (R/12)'\"), x=\"target\", y=\"pred\", color=\"green\", ax=ax1, s=2)\n",
    "sns.scatterplot(scaf_1.query(\"model == 'DTI'\"), x=\"target\", y=\"pred\", color=\"purple\", ax=ax2, s=2)\n",
    "for ax in (ax1, ax2):\n",
    "    ax.set_ylabel(\"Predicted affinity\")\n",
    "    ax.set_xlabel(\"Ground truth affinity (${pIC}_{50}$)\")\n",
    "\n",
    "rho1 = corr_data.query(split_query).query(\"model_full_name == 'Complex-EGNN (R/12)'\").test_corr.values[0]\n",
    "rho2 = corr_data.query(split_query).query(\"model_full_name == 'KiSSim DeepDTA'\").test_corr.values[0]\n",
    "ax1.set_title(f\"Complex-EGNN $\\\\rho={rho1:.2f}$\") \n",
    "ax2.set_title(f\"KiSSim DTI $\\\\rho={rho2:.2f}$\") \n",
    "f.suptitle(f\"{split} split (seed={seed})\")\n",
    "f.tight_layout()"
   ]
  },
  {
   "cell_type": "code",
   "execution_count": 19,
   "metadata": {},
   "outputs": [
    {
     "data": {
      "text/plain": [
       "<seaborn.axisgrid.FacetGrid at 0x122b40fa0>"
      ]
     },
     "execution_count": 19,
     "metadata": {},
     "output_type": "execute_result"
    },
    {
     "data": {
      "image/png": "[encoded data removed]",
      "text/plain": [
       "<Figure size 727.625x500 with 1 Axes>"
      ]
     },
     "metadata": {},
     "output_type": "display_data"
    }
   ],
   "source": [
    "mask = corr_data[\"model_full_name\"] != \"Ligand-GNN\"\n",
    "sns.catplot(corr_data, x=\"test_corr\", y=\"split\", kind=\"strip\", hue=\"model_full_name\")"
   ]
  },
  {
   "cell_type": "markdown",
   "metadata": {},
   "source": [
    "### Model improvement plot\n",
    "Let $r_1$ and $r_2$ be the correlation of prediction and target of two models. We define the relative improvement of model $1$ over $2$ as\n",
    "$$\n",
    "\\delta_{1,2} = \\frac{r_1}{r_2} - 1 \\in (-\\infty, \\infty)\n",
    "$$"
   ]
  },
  {
   "cell_type": "code",
   "execution_count": 22,
   "metadata": {},
   "outputs": [
    {
     "data": {
      "text/html": [
       "<div>\n",
       "<style scoped>\n",
       "    .dataframe tbody tr th:only-of-type {\n",
       "        vertical-align: middle;\n",
       "    }\n",
       "\n",
       "    .dataframe tbody tr th {\n",
       "        vertical-align: top;\n",
       "    }\n",
       "\n",
       "    .dataframe thead th {\n",
       "        text-align: right;\n",
       "    }\n",
       "</style>\n",
       "<table border=\"1\" class=\"dataframe\">\n",
       "  <thead>\n",
       "    <tr style=\"text-align: right;\">\n",
       "      <th></th>\n",
       "      <th>split</th>\n",
       "      <th>model_full_name</th>\n",
       "      <th>split_seed</th>\n",
       "      <th>test_corr</th>\n",
       "    </tr>\n",
       "  </thead>\n",
       "  <tbody>\n",
       "    <tr>\n",
       "      <th>5</th>\n",
       "      <td>pocket</td>\n",
       "      <td>KiSSim DeepDTA</td>\n",
       "      <td>1</td>\n",
       "      <td>0.282045</td>\n",
       "    </tr>\n",
       "    <tr>\n",
       "      <th>6</th>\n",
       "      <td>pocket</td>\n",
       "      <td>KiSSim DeepDTA</td>\n",
       "      <td>2</td>\n",
       "      <td>0.376683</td>\n",
       "    </tr>\n",
       "    <tr>\n",
       "      <th>7</th>\n",
       "      <td>pocket</td>\n",
       "      <td>KiSSim DeepDTA</td>\n",
       "      <td>3</td>\n",
       "      <td>0.181419</td>\n",
       "    </tr>\n",
       "    <tr>\n",
       "      <th>8</th>\n",
       "      <td>pocket</td>\n",
       "      <td>KiSSim DeepDTA</td>\n",
       "      <td>4</td>\n",
       "      <td>0.306642</td>\n",
       "    </tr>\n",
       "    <tr>\n",
       "      <th>24</th>\n",
       "      <td>random</td>\n",
       "      <td>KiSSim DeepDTA</td>\n",
       "      <td>0</td>\n",
       "      <td>0.658866</td>\n",
       "    </tr>\n",
       "    <tr>\n",
       "      <th>25</th>\n",
       "      <td>random</td>\n",
       "      <td>KiSSim DeepDTA</td>\n",
       "      <td>1</td>\n",
       "      <td>0.658545</td>\n",
       "    </tr>\n",
       "    <tr>\n",
       "      <th>26</th>\n",
       "      <td>random</td>\n",
       "      <td>KiSSim DeepDTA</td>\n",
       "      <td>2</td>\n",
       "      <td>0.671717</td>\n",
       "    </tr>\n",
       "    <tr>\n",
       "      <th>27</th>\n",
       "      <td>random</td>\n",
       "      <td>KiSSim DeepDTA</td>\n",
       "      <td>3</td>\n",
       "      <td>0.674701</td>\n",
       "    </tr>\n",
       "    <tr>\n",
       "      <th>28</th>\n",
       "      <td>random</td>\n",
       "      <td>KiSSim DeepDTA</td>\n",
       "      <td>4</td>\n",
       "      <td>0.674990</td>\n",
       "    </tr>\n",
       "    <tr>\n",
       "      <th>41</th>\n",
       "      <td>scaffold</td>\n",
       "      <td>KiSSim DeepDTA</td>\n",
       "      <td>0</td>\n",
       "      <td>0.522731</td>\n",
       "    </tr>\n",
       "    <tr>\n",
       "      <th>42</th>\n",
       "      <td>scaffold</td>\n",
       "      <td>KiSSim DeepDTA</td>\n",
       "      <td>1</td>\n",
       "      <td>0.609960</td>\n",
       "    </tr>\n",
       "    <tr>\n",
       "      <th>43</th>\n",
       "      <td>scaffold</td>\n",
       "      <td>KiSSim DeepDTA</td>\n",
       "      <td>2</td>\n",
       "      <td>0.494520</td>\n",
       "    </tr>\n",
       "    <tr>\n",
       "      <th>44</th>\n",
       "      <td>scaffold</td>\n",
       "      <td>KiSSim DeepDTA</td>\n",
       "      <td>3</td>\n",
       "      <td>0.484888</td>\n",
       "    </tr>\n",
       "    <tr>\n",
       "      <th>45</th>\n",
       "      <td>scaffold</td>\n",
       "      <td>KiSSim DeepDTA</td>\n",
       "      <td>4</td>\n",
       "      <td>0.465321</td>\n",
       "    </tr>\n",
       "  </tbody>\n",
       "</table>\n",
       "</div>"
      ],
      "text/plain": [
       "       split model_full_name  split_seed  test_corr\n",
       "5     pocket  KiSSim DeepDTA           1   0.282045\n",
       "6     pocket  KiSSim DeepDTA           2   0.376683\n",
       "7     pocket  KiSSim DeepDTA           3   0.181419\n",
       "8     pocket  KiSSim DeepDTA           4   0.306642\n",
       "24    random  KiSSim DeepDTA           0   0.658866\n",
       "25    random  KiSSim DeepDTA           1   0.658545\n",
       "26    random  KiSSim DeepDTA           2   0.671717\n",
       "27    random  KiSSim DeepDTA           3   0.674701\n",
       "28    random  KiSSim DeepDTA           4   0.674990\n",
       "41  scaffold  KiSSim DeepDTA           0   0.522731\n",
       "42  scaffold  KiSSim DeepDTA           1   0.609960\n",
       "43  scaffold  KiSSim DeepDTA           2   0.494520\n",
       "44  scaffold  KiSSim DeepDTA           3   0.484888\n",
       "45  scaffold  KiSSim DeepDTA           4   0.465321"
      ]
     },
     "execution_count": 22,
     "metadata": {},
     "output_type": "execute_result"
    }
   ],
   "source": [
    "corr_data.query(\"model_full_name == 'KiSSim DeepDTA'\")"
   ]
  },
  {
   "cell_type": "code",
   "execution_count": 29,
   "metadata": {},
   "outputs": [
    {
     "name": "stdout",
     "output_type": "stream",
     "text": [
      "(('pocket', 1),    model_full_name  test_corr\n",
      "1     Complex-EGNN   0.348112\n",
      "5   KiSSim DeepDTA   0.282045\n",
      "10      Ligand-GNN   0.164493\n",
      "15     Transformer   0.342626)\n",
      "(('pocket', 2),    model_full_name  test_corr\n",
      "2     Complex-EGNN   0.327922\n",
      "6   KiSSim DeepDTA   0.376683\n",
      "11      Ligand-GNN   0.101025\n",
      "16     Transformer   0.325793)\n",
      "(('pocket', 3),    model_full_name  test_corr\n",
      "3     Complex-EGNN   0.188877\n",
      "7   KiSSim DeepDTA   0.181419\n",
      "12      Ligand-GNN  -0.009149\n",
      "17     Transformer   0.272195)\n",
      "(('pocket', 4),    model_full_name  test_corr\n",
      "4     Complex-EGNN   0.272919\n",
      "8   KiSSim DeepDTA   0.306642\n",
      "13      Ligand-GNN   0.130210\n",
      "18     Transformer   0.135932)\n",
      "(('random', 0),    model_full_name  test_corr\n",
      "19    Complex-EGNN   0.699686\n",
      "24  KiSSim DeepDTA   0.658866\n",
      "29      Ligand-GNN   0.656540\n",
      "34     Transformer   0.743499)\n",
      "(('random', 2),    model_full_name  test_corr\n",
      "21    Complex-EGNN   0.686121\n",
      "26  KiSSim DeepDTA   0.671717\n",
      "31      Ligand-GNN   0.666515\n",
      "35     Transformer   0.755397)\n",
      "(('scaffold', 0),    model_full_name  test_corr\n",
      "36    Complex-EGNN   0.535094\n",
      "41  KiSSim DeepDTA   0.522731\n",
      "46      Ligand-GNN   0.270842\n",
      "51     Transformer   0.637181)\n",
      "(('scaffold', 1),    model_full_name  test_corr\n",
      "37    Complex-EGNN   0.628555\n",
      "42  KiSSim DeepDTA   0.609960\n",
      "47      Ligand-GNN   0.319804\n",
      "52     Transformer   0.685807)\n",
      "(('scaffold', 2),    model_full_name  test_corr\n",
      "38    Complex-EGNN   0.503771\n",
      "43  KiSSim DeepDTA   0.494520\n",
      "48      Ligand-GNN   0.346565\n",
      "53     Transformer   0.604351)\n",
      "(('scaffold', 3),    model_full_name  test_corr\n",
      "39    Complex-EGNN   0.553682\n",
      "44  KiSSim DeepDTA   0.484888\n",
      "49      Ligand-GNN   0.305938\n",
      "54     Transformer   0.595303)\n",
      "(('scaffold', 4),    model_full_name  test_corr\n",
      "40    Complex-EGNN   0.541816\n",
      "45  KiSSim DeepDTA   0.465321\n",
      "50      Ligand-GNN   0.283406\n",
      "55     Transformer   0.579719)\n"
     ]
    },
    {
     "name": "stderr",
     "output_type": "stream",
     "text": [
      "/Users/joschka/mambaforge/envs/kinodata/lib/python3.10/site-packages/seaborn/categorical.py:1680: UserWarning: You passed a edgecolor/edgecolors ([(0.5, 0.5, 0.5), (0.5, 0.5, 0.5), (0.5, 0.5, 0.5)]) for an unfilled marker ('x').  Matplotlib is ignoring the edgecolor in favor of the facecolor.  This behavior may change in the future.\n",
      "  ax.scatter(x, y,\n"
     ]
    },
    {
     "data": {
      "image/png": "[encoded data removed]",
      "text/plain": [
       "<Figure size 400x250 with 1 Axes>"
      ]
     },
     "metadata": {},
     "output_type": "display_data"
    }
   ],
   "source": [
    "model_1, model_2 = \"Transformer\", \"KiSSim DeepDTA\"\n",
    "index_1, index_2 = 3, 1\n",
    "mode = \"diff\"\n",
    "\n",
    "mask1 = (corr_data[\"split\"] != \"random\") | (corr_data[\"split_seed\"].isin([0,2]))\n",
    "mask2 = ~((corr_data[\"split\"] == \"pocket\") & (corr_data[\"split_seed\"] == 0))\n",
    "grouped = corr_data[mask1 & mask2].groupby([\"split\", \"split_seed\"])[[\"model_full_name\", \"test_corr\"]]\n",
    "\n",
    "\n",
    "for x in grouped:\n",
    "    print(x)\n",
    "if mode == \"ratio\":\n",
    "    corr_diff = grouped.apply(lambda x: x.test_corr.values[index_1] / x.test_corr.values[index_2])\n",
    "    corr_diff = corr_diff.reset_index().rename(columns={0: \"corr_ratio\"})\n",
    "    corr_diff[\"improvement\"] = (corr_diff[\"corr_ratio\"] - 1) * 100\n",
    "elif mode == \"diff\":\n",
    "    corr_diff = grouped.apply(lambda x: x.test_corr.values[index_1] - x.test_corr.values[index_2])\n",
    "    corr_diff = corr_diff.reset_index().rename(columns={0: \"corr_diff\"})\n",
    "    corr_diff[\"improvement\"] = corr_diff[\"corr_diff\"]\n",
    "    \n",
    "\n",
    "f, ax = plt.subplots(figsize=(4, 2.5))\n",
    "f.tight_layout()\n",
    "f.suptitle(f\"{model_1} vs. {model_2}\")\n",
    "sns.set_theme(style=\"ticks\")\n",
    "sns.stripplot(corr_diff, x=\"improvement\", y=\"split\", size=5, linewidth=0, color=\"lightblue\", order=[\"random\", \"scaffold\", \"pocket\"])\n",
    "sns.pointplot(corr_diff, x=\"improvement\", y=\"split\", order=[\"random\", \"scaffold\", \"pocket\"], join=False, color=\".5\", capsize=.4, markers=\"x\")\n",
    "ax.xaxis.grid(True)\n",
    "ax.set(ylabel=\"\")\n",
    "if mode == \"ratio\":\n",
    "    ax.set_xlabel(r\"Improvement % (explained variance)\")\n",
    "elif mode == \"diff\":\n",
    "    ax.set_xlabel(\"Difference\")\n",
    "sns.despine(trim=True, left=True)\n",
    "# ax.set_xlim(left=0, right=2.0)\n",
    "f.savefig(\"corr_diff_kinodata.pdf\")"
   ]
  },
  {
   "cell_type": "code",
   "execution_count": 31,
   "metadata": {},
   "outputs": [],
   "source": [
    "eval_data[\"abs_error\"] = (eval_data[\"pred\"] - eval_data[\"activities.standard_value\"]).abs()"
   ]
  },
  {
   "cell_type": "code",
   "execution_count": 32,
   "metadata": {},
   "outputs": [
    {
     "name": "stdout",
     "output_type": "stream",
     "text": [
      "                          mean       std\n",
      "model       split                       \n",
      "DTI         pocket    0.923207  0.081473\n",
      "            random    0.681560  0.008739\n",
      "            scaffold  0.811859  0.030459\n",
      "EGNN        pocket    0.887086  0.063667\n",
      "            random    0.658575  0.013575\n",
      "            scaffold  0.779452  0.021651\n",
      "GIN         pocket    1.257423  0.181086\n",
      "            random    0.687846  0.009813\n",
      "            scaffold  1.097443  0.096543\n",
      "Transformer pocket    1.006005  0.120430\n",
      "            random    0.586301  0.010535\n",
      "            scaffold  0.726594  0.026359\n"
     ]
    }
   ],
   "source": [
    "mae = (\n",
    "    eval_data.groupby([\"split\", \"split_seed\", \"model\"])[\"abs_error\"]\n",
    "    .mean()\n",
    "    .to_frame()\n",
    "    .reset_index()\n",
    "    .rename(columns={\"abs_error\": \"mae\"})\n",
    ")\n",
    "print(mae.groupby([\"model\", \"split\"])[\"mae\"].agg([\"mean\", \"std\"]))"
   ]
  },
  {
   "cell_type": "code",
   "execution_count": 21,
   "metadata": {},
   "outputs": [
    {
     "name": "stderr",
     "output_type": "stream",
     "text": [
      "/Users/joschka/mambaforge/envs/kinodata/lib/python3.10/site-packages/tqdm/auto.py:22: TqdmWarning: IProgress not found. Please update jupyter and ipywidgets. See https://ipywidgets.readthedocs.io/en/stable/user_install.html\n",
      "  from .autonotebook import tqdm as notebook_tqdm\n"
     ]
    }
   ],
   "source": [
    "import biotite.sequence.align as align\n",
    "import numpy as np\n",
    "import seaborn as sns\n",
    "import matplotlib.pyplot as plt\n",
    "import pandas as pd\n",
    "from kinodata.data.utils. similarity import _normalize_score_matrix"
   ]
  },
  {
   "cell_type": "code",
   "execution_count": 22,
   "metadata": {},
   "outputs": [
    {
     "data": {
      "text/plain": [
       "array([[1.        , 0.39223227, 0.2236068 , 0.35355339, 0.2236068 ,\n",
       "        0.4472136 , 0.20412415, 0.375     , 0.35355339, 0.375     ,\n",
       "        0.35355339, 0.2236068 , 0.31980107, 0.35355339, 0.35355339,\n",
       "        0.625     , 0.47140452, 0.5       , 0.09128709, 0.21320072,\n",
       "        0.25      , 0.375     , 0.81649658, 0.        ],\n",
       "       [0.39223227, 1.        , 0.0877058 , 0.        , 0.1754116 ,\n",
       "        0.0877058 , 0.08006408, 0.2941742 , 0.09245003, 0.2941742 ,\n",
       "        0.2773501 , 0.0877058 , 0.0836242 , 0.09245003, 0.09245003,\n",
       "        0.2941742 , 0.2773501 , 0.2941742 , 0.14322297, 0.1672484 ,\n",
       "        0.09805807, 0.09805807, 0.32025631, 0.        ],\n",
       "       [0.2236068 , 0.0877058 , 1.        , 0.63245553, 0.1       ,\n",
       "        0.3       , 0.27386128, 0.1118034 , 0.31622777, 0.        ,\n",
       "        0.10540926, 0.5       , 0.28603878, 0.42163702, 0.21081851,\n",
       "        0.4472136 , 0.31622777, 0.1118034 , 0.        , 0.09534626,\n",
       "        0.89442719, 0.55901699, 0.54772256, 0.        ],\n",
       "       [0.35355339, 0.        , 0.63245553, 1.        , 0.10540926,\n",
       "        0.21081851, 0.38490018, 0.11785113, 0.55555556, 0.11785113,\n",
       "        0.22222222, 0.42163702, 0.30151134, 0.66666667, 0.44444444,\n",
       "        0.47140452, 0.33333333, 0.23570226, 0.0860663 , 0.20100756,\n",
       "        0.58925565, 0.94280904, 0.57735027, 0.        ],\n",
       "       [0.2236068 , 0.1754116 , 0.1       , 0.10540926, 1.        ,\n",
       "        0.1       , 0.27386128, 0.4472136 , 0.10540926, 0.4472136 ,\n",
       "        0.42163702, 0.1       , 0.        , 0.10540926, 0.10540926,\n",
       "        0.2236068 , 0.21081851, 0.3354102 , 0.40824829, 0.66742381,\n",
       "        0.1118034 , 0.1118034 , 0.54772256, 0.        ],\n",
       "       [0.4472136 , 0.0877058 , 0.3       , 0.21081851, 0.1       ,\n",
       "        1.        , 0.18257419, 0.        , 0.21081851, 0.        ,\n",
       "        0.10540926, 0.4       , 0.19069252, 0.21081851, 0.21081851,\n",
       "        0.4472136 , 0.21081851, 0.1118034 , 0.16329932, 0.09534626,\n",
       "        0.3354102 , 0.2236068 , 0.54772256, 0.        ],\n",
       "       [0.20412415, 0.08006408, 0.27386128, 0.38490018, 0.27386128,\n",
       "        0.18257419, 1.        , 0.10206207, 0.28867513, 0.10206207,\n",
       "        0.19245009, 0.45643546, 0.17407766, 0.38490018, 0.38490018,\n",
       "        0.30618622, 0.19245009, 0.10206207, 0.1490712 , 0.52223297,\n",
       "        0.40824829, 0.40824829, 0.5       , 0.        ],\n",
       "       [0.375     , 0.2941742 , 0.1118034 , 0.11785113, 0.4472136 ,\n",
       "        0.        , 0.10206207, 1.        , 0.11785113, 0.75      ,\n",
       "        0.58925565, 0.1118034 , 0.10660036, 0.11785113, 0.11785113,\n",
       "        0.25      , 0.35355339, 0.875     , 0.09128709, 0.31980107,\n",
       "        0.125     , 0.125     , 0.61237244, 0.        ],\n",
       "       [0.35355339, 0.09245003, 0.31622777, 0.55555556, 0.10540926,\n",
       "        0.21081851, 0.28867513, 0.11785113, 1.        , 0.23570226,\n",
       "        0.33333333, 0.42163702, 0.30151134, 0.55555556, 0.66666667,\n",
       "        0.47140452, 0.33333333, 0.23570226, 0.0860663 , 0.20100756,\n",
       "        0.47140452, 0.58925565, 0.57735027, 0.        ],\n",
       "       [0.375     , 0.2941742 , 0.        , 0.11785113, 0.4472136 ,\n",
       "        0.        , 0.10206207, 0.75      , 0.23570226, 1.        ,\n",
       "        0.70710678, 0.1118034 , 0.10660036, 0.23570226, 0.23570226,\n",
       "        0.25      , 0.35355339, 0.625     , 0.18257419, 0.31980107,\n",
       "        0.        , 0.125     , 0.61237244, 0.        ],\n",
       "       [0.35355339, 0.2773501 , 0.10540926, 0.22222222, 0.42163702,\n",
       "        0.10540926, 0.19245009, 0.58925565, 0.33333333, 0.70710678,\n",
       "        1.        , 0.21081851, 0.20100756, 0.44444444, 0.33333333,\n",
       "        0.35355339, 0.33333333, 0.58925565, 0.25819889, 0.30151134,\n",
       "        0.11785113, 0.35355339, 0.57735027, 0.        ],\n",
       "       [0.2236068 , 0.0877058 , 0.5       , 0.42163702, 0.1       ,\n",
       "        0.4       , 0.45643546, 0.1118034 , 0.42163702, 0.1118034 ,\n",
       "        0.21081851, 1.        , 0.19069252, 0.42163702, 0.42163702,\n",
       "        0.55901699, 0.42163702, 0.1118034 , 0.        , 0.19069252,\n",
       "        0.78262379, 0.4472136 , 0.54772256, 0.        ],\n",
       "       [0.31980107, 0.0836242 , 0.28603878, 0.30151134, 0.        ,\n",
       "        0.19069252, 0.17407766, 0.10660036, 0.30151134, 0.10660036,\n",
       "        0.20100756, 0.19069252, 1.        , 0.30151134, 0.20100756,\n",
       "        0.31980107, 0.30151134, 0.21320072, 0.        , 0.09090909,\n",
       "        0.21320072, 0.31980107, 0.34815531, 0.        ],\n",
       "       [0.35355339, 0.09245003, 0.42163702, 0.66666667, 0.10540926,\n",
       "        0.21081851, 0.38490018, 0.11785113, 0.55555556, 0.23570226,\n",
       "        0.44444444, 0.42163702, 0.30151134, 1.        , 0.55555556,\n",
       "        0.47140452, 0.33333333, 0.23570226, 0.17213259, 0.30151134,\n",
       "        0.47140452, 0.82495791, 0.57735027, 0.        ],\n",
       "       [0.35355339, 0.09245003, 0.21081851, 0.44444444, 0.10540926,\n",
       "        0.21081851, 0.38490018, 0.11785113, 0.66666667, 0.23570226,\n",
       "        0.33333333, 0.42163702, 0.20100756, 0.55555556, 1.        ,\n",
       "        0.35355339, 0.33333333, 0.11785113, 0.0860663 , 0.20100756,\n",
       "        0.35355339, 0.47140452, 0.57735027, 0.        ],\n",
       "       [0.625     , 0.2941742 , 0.4472136 , 0.47140452, 0.2236068 ,\n",
       "        0.4472136 , 0.30618622, 0.25      , 0.47140452, 0.25      ,\n",
       "        0.35355339, 0.55901699, 0.31980107, 0.47140452, 0.35355339,\n",
       "        1.        , 0.58925565, 0.25      , 0.09128709, 0.21320072,\n",
       "        0.5       , 0.5       , 0.81649658, 0.        ],\n",
       "       [0.47140452, 0.2773501 , 0.31622777, 0.33333333, 0.21081851,\n",
       "        0.21081851, 0.19245009, 0.35355339, 0.33333333, 0.35355339,\n",
       "        0.33333333, 0.42163702, 0.30151134, 0.33333333, 0.33333333,\n",
       "        0.58925565, 1.        , 0.47140452, 0.17213259, 0.20100756,\n",
       "        0.35355339, 0.35355339, 0.76980036, 0.        ],\n",
       "       [0.5       , 0.2941742 , 0.1118034 , 0.23570226, 0.3354102 ,\n",
       "        0.1118034 , 0.10206207, 0.875     , 0.23570226, 0.625     ,\n",
       "        0.58925565, 0.1118034 , 0.21320072, 0.23570226, 0.11785113,\n",
       "        0.25      , 0.47140452, 1.        , 0.09128709, 0.31980107,\n",
       "        0.125     , 0.25      , 0.61237244, 0.        ],\n",
       "       [0.09128709, 0.14322297, 0.        , 0.0860663 , 0.40824829,\n",
       "        0.16329932, 0.1490712 , 0.09128709, 0.0860663 , 0.18257419,\n",
       "        0.25819889, 0.        , 0.        , 0.17213259, 0.0860663 ,\n",
       "        0.09128709, 0.17213259, 0.09128709, 1.        , 0.46709937,\n",
       "        0.        , 0.09128709, 0.2981424 , 0.        ],\n",
       "       [0.21320072, 0.1672484 , 0.09534626, 0.20100756, 0.66742381,\n",
       "        0.09534626, 0.52223297, 0.31980107, 0.20100756, 0.31980107,\n",
       "        0.30151134, 0.19069252, 0.09090909, 0.30151134, 0.20100756,\n",
       "        0.21320072, 0.20100756, 0.31980107, 0.46709937, 1.        ,\n",
       "        0.10660036, 0.21320072, 0.52223297, 0.        ],\n",
       "       [0.25      , 0.09805807, 0.89442719, 0.58925565, 0.1118034 ,\n",
       "        0.3354102 , 0.40824829, 0.125     , 0.47140452, 0.        ,\n",
       "        0.11785113, 0.78262379, 0.21320072, 0.47140452, 0.35355339,\n",
       "        0.5       , 0.35355339, 0.125     , 0.        , 0.10660036,\n",
       "        1.        , 0.625     , 0.61237244, 0.        ],\n",
       "       [0.375     , 0.09805807, 0.55901699, 0.94280904, 0.1118034 ,\n",
       "        0.2236068 , 0.40824829, 0.125     , 0.58925565, 0.125     ,\n",
       "        0.35355339, 0.4472136 , 0.31980107, 0.82495791, 0.47140452,\n",
       "        0.5       , 0.35355339, 0.25      , 0.09128709, 0.21320072,\n",
       "        0.625     , 1.        , 0.61237244, 0.        ],\n",
       "       [0.81649658, 0.32025631, 0.54772256, 0.57735027, 0.54772256,\n",
       "        0.54772256, 0.5       , 0.61237244, 0.57735027, 0.61237244,\n",
       "        0.57735027, 0.54772256, 0.34815531, 0.57735027, 0.57735027,\n",
       "        0.81649658, 0.76980036, 0.61237244, 0.2981424 , 0.52223297,\n",
       "        0.61237244, 0.61237244, 1.        , 0.        ],\n",
       "       [0.        , 0.        , 0.        , 0.        , 0.        ,\n",
       "        0.        , 0.        , 0.        , 0.        , 0.        ,\n",
       "        0.        , 0.        , 0.        , 0.        , 0.        ,\n",
       "        0.        , 0.        , 0.        , 0.        , 0.        ,\n",
       "        0.        , 0.        , 0.        , 1.        ]])"
      ]
     },
     "execution_count": 22,
     "metadata": {},
     "output_type": "execute_result"
    }
   ],
   "source": [
    "blosum = align.SubstitutionMatrix.std_protein_matrix()\n",
    "score_matrix = blosum.score_matrix()\n",
    "alph = blosum.get_alphabet1()\n",
    "score_matrix = _normalize_score_matrix(score_matrix)\n",
    "score_matrix"
   ]
  },
  {
   "cell_type": "code",
   "execution_count": 23,
   "metadata": {},
   "outputs": [
    {
     "data": {
      "image/png": "[encoded data removed]",
      "text/plain": [
       "<Figure size 640x480 with 2 Axes>"
      ]
     },
     "metadata": {},
     "output_type": "display_data"
    }
   ],
   "source": [
    "# sns.set_context(\"talk\")\n",
    "hm = sns.heatmap(score_matrix, xticklabels=alph, yticklabels=alph, cmap=\"crest\", fmt=\"g\")\n",
    "hm.set_title(\"Blocks Substitution Matrix (BLOSUM)\")\n",
    "plt.tight_layout()"
   ]
  },
  {
   "cell_type": "code",
   "execution_count": 24,
   "metadata": {},
   "outputs": [],
   "source": [
    "EGFR = \"KVLGSGAFGTVYKVAIKVLEILDEAYVMAGVGPYVSRLLGIQLVTQLMPYGCLLDHVREYLEDVRLVHRDLAARNVLVITDFGLA\"\n",
    "KDR = \"KPLGRGAFGQVIEVAVKMLALMSELKILIHIGLNVVNLLGAMVIVEFCKFGNLSTYLRSFLASRKCIHRDLAARNILLICDFGLA\""
   ]
  },
  {
   "cell_type": "code",
   "execution_count": null,
   "metadata": {},
   "outputs": [],
   "source": []
  },
  {
   "cell_type": "code",
   "execution_count": 25,
   "metadata": {},
   "outputs": [],
   "source": [
    "iEGFR = alph.encode_multiple(EGFR)\n",
    "iKDR = alph.encode_multiple(KDR)"
   ]
  },
  {
   "cell_type": "code",
   "execution_count": 26,
   "metadata": {},
   "outputs": [],
   "source": [
    "data = pd.DataFrame({\n",
    "    \"Residue sim.\": score_matrix[iEGFR, iKDR]\n",
    "}, index=[f\"{a}{b}\" for a,b in zip(EGFR, KDR)])"
   ]
  },
  {
   "cell_type": "code",
   "execution_count": 27,
   "metadata": {},
   "outputs": [
    {
     "data": {
      "text/html": [
       "<div>\n",
       "<style scoped>\n",
       "    .dataframe tbody tr th:only-of-type {\n",
       "        vertical-align: middle;\n",
       "    }\n",
       "\n",
       "    .dataframe tbody tr th {\n",
       "        vertical-align: top;\n",
       "    }\n",
       "\n",
       "    .dataframe thead th {\n",
       "        text-align: right;\n",
       "    }\n",
       "</style>\n",
       "<table border=\"1\" class=\"dataframe\">\n",
       "  <thead>\n",
       "    <tr style=\"text-align: right;\">\n",
       "      <th></th>\n",
       "      <th>Residue sim.</th>\n",
       "    </tr>\n",
       "  </thead>\n",
       "  <tbody>\n",
       "    <tr>\n",
       "      <th>KK</th>\n",
       "      <td>1.000000</td>\n",
       "    </tr>\n",
       "    <tr>\n",
       "      <th>VP</th>\n",
       "      <td>0.213201</td>\n",
       "    </tr>\n",
       "    <tr>\n",
       "      <th>LL</th>\n",
       "      <td>1.000000</td>\n",
       "    </tr>\n",
       "    <tr>\n",
       "      <th>GG</th>\n",
       "      <td>1.000000</td>\n",
       "    </tr>\n",
       "    <tr>\n",
       "      <th>SR</th>\n",
       "      <td>0.353553</td>\n",
       "    </tr>\n",
       "    <tr>\n",
       "      <th>GG</th>\n",
       "      <td>1.000000</td>\n",
       "    </tr>\n",
       "    <tr>\n",
       "      <th>AA</th>\n",
       "      <td>1.000000</td>\n",
       "    </tr>\n",
       "    <tr>\n",
       "      <th>FF</th>\n",
       "      <td>1.000000</td>\n",
       "    </tr>\n",
       "    <tr>\n",
       "      <th>GG</th>\n",
       "      <td>1.000000</td>\n",
       "    </tr>\n",
       "    <tr>\n",
       "      <th>${\\dots}$</th>\n",
       "      <td>0.000000</td>\n",
       "    </tr>\n",
       "  </tbody>\n",
       "</table>\n",
       "</div>"
      ],
      "text/plain": [
       "           Residue sim.\n",
       "KK             1.000000\n",
       "VP             0.213201\n",
       "LL             1.000000\n",
       "GG             1.000000\n",
       "SR             0.353553\n",
       "GG             1.000000\n",
       "AA             1.000000\n",
       "FF             1.000000\n",
       "GG             1.000000\n",
       "${\\dots}$      0.000000"
      ]
     },
     "execution_count": 27,
     "metadata": {},
     "output_type": "execute_result"
    }
   ],
   "source": [
    "sample = data.iloc[:9]\n",
    "dummy = pd.DataFrame({\n",
    "    \"Residue sim.\": 0\n",
    "}, index=[\"${\\\\dots}$\"])\n",
    "sample = pd.concat((sample, dummy))\n",
    "sample"
   ]
  },
  {
   "cell_type": "code",
   "execution_count": 28,
   "metadata": {},
   "outputs": [
    {
     "data": {
      "text/plain": [
       "(array([0.5, 1.5, 2.5, 3.5, 4.5, 5.5, 6.5, 7.5, 8.5, 9.5]),\n",
       " [Text(0, 0.5, 'KK'),\n",
       "  Text(0, 1.5, 'VP'),\n",
       "  Text(0, 2.5, 'LL'),\n",
       "  Text(0, 3.5, 'GG'),\n",
       "  Text(0, 4.5, 'SR'),\n",
       "  Text(0, 5.5, 'GG'),\n",
       "  Text(0, 6.5, 'AA'),\n",
       "  Text(0, 7.5, 'FF'),\n",
       "  Text(0, 8.5, 'GG'),\n",
       "  Text(0, 9.5, '${\\\\dots}$')])"
      ]
     },
     "execution_count": 28,
     "metadata": {},
     "output_type": "execute_result"
    },
    {
     "data": {
      "image/png": "[encoded data removed]",
      "text/plain": [
       "<Figure size 200x800 with 1 Axes>"
      ]
     },
     "metadata": {},
     "output_type": "display_data"
    }
   ],
   "source": [
    "f, ax = plt.subplots(figsize=(2, 8))\n",
    "sns.heatmap(sample, cmap=\"crest\", vmin=score_matrix.min(), vmax=score_matrix.max(), annot=True, cbar=False)\n",
    "plt.yticks(rotation=0)"
   ]
  }
 ],
 "metadata": {
  "kernelspec": {
   "display_name": "Python 3.10.8 ('kinodata')",
   "language": "python",
   "name": "python3"
  },
  "language_info": {
   "codemirror_mode": {
    "name": "ipython",
    "version": 3
   },
   "file_extension": ".py",
   "mimetype": "text/x-python",
   "name": "python",
   "nbconvert_exporter": "python",
   "pygments_lexer": "ipython3",
   "version": "3.10.8"
  },
  "orig_nbformat": 4,
  "vscode": {
   "interpreter": {
    "hash": "528a87b2665604848835e963d9b59f6a2ef408edd78da891397a1684bf62ca9e"
   }
  }
 },
 "nbformat": 4,
 "nbformat_minor": 2
}
