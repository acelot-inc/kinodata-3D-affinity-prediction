{
 "cells": [
  {
   "cell_type": "code",
   "execution_count": 1,
   "metadata": {},
   "outputs": [
    {
     "data": {
      "text/plain": [
       "[PosixPath('/Users/joschka/projects/kinodata-docked-rescore/eval_data/egnnr12_eval_data.csv'),\n",
       " PosixPath('/Users/joschka/projects/kinodata-docked-rescore/eval_data/relegnn_eval_data.csv'),\n",
       " PosixPath('/Users/joschka/projects/kinodata-docked-rescore/eval_data/pocket_clusters_with_klifs.csv'),\n",
       " PosixPath('/Users/joschka/projects/kinodata-docked-rescore/eval_data/eval_data.csv'),\n",
       " PosixPath('/Users/joschka/projects/kinodata-docked-rescore/eval_data/egnnr_eval_data.csv'),\n",
       " PosixPath('/Users/joschka/projects/kinodata-docked-rescore/eval_data/pocket_klifs_metadata.csv'),\n",
       " PosixPath('/Users/joschka/projects/kinodata-docked-rescore/eval_data/README.md'),\n",
       " PosixPath('/Users/joschka/projects/kinodata-docked-rescore/eval_data/dti_less_features_eval_data.csv'),\n",
       " PosixPath('/Users/joschka/projects/kinodata-docked-rescore/eval_data/train_runs.csv'),\n",
       " PosixPath('/Users/joschka/projects/kinodata-docked-rescore/eval_data/transformer_eval_data.csv'),\n",
       " PosixPath('/Users/joschka/projects/kinodata-docked-rescore/eval_data/dti_eval_data.csv'),\n",
       " PosixPath('/Users/joschka/projects/kinodata-docked-rescore/eval_data/dti_runs.csv'),\n",
       " PosixPath('/Users/joschka/projects/kinodata-docked-rescore/eval_data/covalent_transformer_eval_data.csv'),\n",
       " PosixPath('/Users/joschka/projects/kinodata-docked-rescore/eval_data/pocket_clusters_with_klifs_full.csv')]"
      ]
     },
     "execution_count": 1,
     "metadata": {},
     "output_type": "execute_result"
    }
   ],
   "source": [
    "import pandas as pd\n",
    "import seaborn as sns\n",
    "import matplotlib.pyplot as plt\n",
    "import matplotlib\n",
    "from pathlib import Path\n",
    "sns.set_context(\"paper\")\n",
    "EVAL_DATA = Path().absolute().parents[0] / \"eval_data\"\n",
    "list(EVAL_DATA.iterdir())"
   ]
  },
  {
   "cell_type": "markdown",
   "metadata": {},
   "source": [
    "## Load eval data"
   ]
  },
  {
   "cell_type": "code",
   "execution_count": 2,
   "metadata": {},
   "outputs": [
    {
     "data": {
      "text/html": [
       "<div>\n",
       "<style scoped>\n",
       "    .dataframe tbody tr th:only-of-type {\n",
       "        vertical-align: middle;\n",
       "    }\n",
       "\n",
       "    .dataframe tbody tr th {\n",
       "        vertical-align: top;\n",
       "    }\n",
       "\n",
       "    .dataframe thead th {\n",
       "        text-align: right;\n",
       "    }\n",
       "</style>\n",
       "<table border=\"1\" class=\"dataframe\">\n",
       "  <thead>\n",
       "    <tr style=\"text-align: right;\">\n",
       "      <th></th>\n",
       "      <th>pred</th>\n",
       "      <th>ident</th>\n",
       "      <th>model</th>\n",
       "      <th>split</th>\n",
       "      <th>split_seed</th>\n",
       "      <th>activities.standard_value</th>\n",
       "      <th>target</th>\n",
       "    </tr>\n",
       "  </thead>\n",
       "  <tbody>\n",
       "    <tr>\n",
       "      <th>0</th>\n",
       "      <td>5.668407</td>\n",
       "      <td>44685</td>\n",
       "      <td>GIN</td>\n",
       "      <td>scaffold</td>\n",
       "      <td>4</td>\n",
       "      <td>6.000000</td>\n",
       "      <td>6.000000</td>\n",
       "    </tr>\n",
       "    <tr>\n",
       "      <th>1</th>\n",
       "      <td>5.251923</td>\n",
       "      <td>44685</td>\n",
       "      <td>GIN</td>\n",
       "      <td>pocket</td>\n",
       "      <td>4</td>\n",
       "      <td>6.000000</td>\n",
       "      <td>6.000000</td>\n",
       "    </tr>\n",
       "    <tr>\n",
       "      <th>2</th>\n",
       "      <td>6.395972</td>\n",
       "      <td>44685</td>\n",
       "      <td>EGNN</td>\n",
       "      <td>scaffold</td>\n",
       "      <td>4</td>\n",
       "      <td>6.000000</td>\n",
       "      <td>6.000000</td>\n",
       "    </tr>\n",
       "    <tr>\n",
       "      <th>3</th>\n",
       "      <td>5.828227</td>\n",
       "      <td>44685</td>\n",
       "      <td>EGNN</td>\n",
       "      <td>pocket</td>\n",
       "      <td>4</td>\n",
       "      <td>6.000000</td>\n",
       "      <td>6.000000</td>\n",
       "    </tr>\n",
       "    <tr>\n",
       "      <th>4</th>\n",
       "      <td>4.179743</td>\n",
       "      <td>105738</td>\n",
       "      <td>GIN</td>\n",
       "      <td>scaffold</td>\n",
       "      <td>4</td>\n",
       "      <td>8.376751</td>\n",
       "      <td>8.376751</td>\n",
       "    </tr>\n",
       "  </tbody>\n",
       "</table>\n",
       "</div>"
      ],
      "text/plain": [
       "       pred   ident model     split  split_seed  activities.standard_value  \\\n",
       "0  5.668407   44685   GIN  scaffold           4                   6.000000   \n",
       "1  5.251923   44685   GIN    pocket           4                   6.000000   \n",
       "2  6.395972   44685  EGNN  scaffold           4                   6.000000   \n",
       "3  5.828227   44685  EGNN    pocket           4                   6.000000   \n",
       "4  4.179743  105738   GIN  scaffold           4                   8.376751   \n",
       "\n",
       "     target  \n",
       "0  6.000000  \n",
       "1  6.000000  \n",
       "2  6.000000  \n",
       "3  6.000000  \n",
       "4  8.376751  "
      ]
     },
     "execution_count": 2,
     "metadata": {},
     "output_type": "execute_result"
    }
   ],
   "source": [
    "eval_data = pd.read_csv(EVAL_DATA / \"eval_data.csv\")\n",
    "eval_data.head()"
   ]
  },
  {
   "cell_type": "code",
   "execution_count": 3,
   "metadata": {},
   "outputs": [
    {
     "data": {
      "text/html": [
       "<div>\n",
       "<style scoped>\n",
       "    .dataframe tbody tr th:only-of-type {\n",
       "        vertical-align: middle;\n",
       "    }\n",
       "\n",
       "    .dataframe tbody tr th {\n",
       "        vertical-align: top;\n",
       "    }\n",
       "\n",
       "    .dataframe thead th {\n",
       "        text-align: right;\n",
       "    }\n",
       "</style>\n",
       "<table border=\"1\" class=\"dataframe\">\n",
       "  <thead>\n",
       "    <tr style=\"text-align: right;\">\n",
       "      <th></th>\n",
       "      <th>pred</th>\n",
       "      <th>ident</th>\n",
       "      <th>model</th>\n",
       "      <th>split</th>\n",
       "      <th>split_seed</th>\n",
       "      <th>activities.standard_value</th>\n",
       "      <th>target</th>\n",
       "    </tr>\n",
       "  </thead>\n",
       "  <tbody>\n",
       "    <tr>\n",
       "      <th>0</th>\n",
       "      <td>7.199682</td>\n",
       "      <td>198998</td>\n",
       "      <td>DTI</td>\n",
       "      <td>scaffold</td>\n",
       "      <td>0</td>\n",
       "      <td>5.853872</td>\n",
       "      <td>5.853872</td>\n",
       "    </tr>\n",
       "    <tr>\n",
       "      <th>1</th>\n",
       "      <td>7.647483</td>\n",
       "      <td>198998</td>\n",
       "      <td>DTI</td>\n",
       "      <td>scaffold</td>\n",
       "      <td>1</td>\n",
       "      <td>5.853872</td>\n",
       "      <td>5.853872</td>\n",
       "    </tr>\n",
       "    <tr>\n",
       "      <th>2</th>\n",
       "      <td>6.981037</td>\n",
       "      <td>198998</td>\n",
       "      <td>DTI</td>\n",
       "      <td>random</td>\n",
       "      <td>2</td>\n",
       "      <td>5.853872</td>\n",
       "      <td>5.853872</td>\n",
       "    </tr>\n",
       "    <tr>\n",
       "      <th>3</th>\n",
       "      <td>7.434746</td>\n",
       "      <td>198998</td>\n",
       "      <td>DTI</td>\n",
       "      <td>pocket</td>\n",
       "      <td>3</td>\n",
       "      <td>5.853872</td>\n",
       "      <td>5.853872</td>\n",
       "    </tr>\n",
       "    <tr>\n",
       "      <th>4</th>\n",
       "      <td>6.067016</td>\n",
       "      <td>198998</td>\n",
       "      <td>DTI</td>\n",
       "      <td>random</td>\n",
       "      <td>3</td>\n",
       "      <td>5.853872</td>\n",
       "      <td>5.853872</td>\n",
       "    </tr>\n",
       "  </tbody>\n",
       "</table>\n",
       "</div>"
      ],
      "text/plain": [
       "       pred   ident model     split  split_seed  activities.standard_value  \\\n",
       "0  7.199682  198998   DTI  scaffold           0                   5.853872   \n",
       "1  7.647483  198998   DTI  scaffold           1                   5.853872   \n",
       "2  6.981037  198998   DTI    random           2                   5.853872   \n",
       "3  7.434746  198998   DTI    pocket           3                   5.853872   \n",
       "4  6.067016  198998   DTI    random           3                   5.853872   \n",
       "\n",
       "     target  \n",
       "0  5.853872  \n",
       "1  5.853872  \n",
       "2  5.853872  \n",
       "3  5.853872  \n",
       "4  5.853872  "
      ]
     },
     "execution_count": 3,
     "metadata": {},
     "output_type": "execute_result"
    }
   ],
   "source": [
    "dti_eval_data = pd.read_csv(EVAL_DATA / \"dti_eval_data.csv\")\n",
    "dti_eval_data.head()"
   ]
  },
  {
   "cell_type": "code",
   "execution_count": 4,
   "metadata": {},
   "outputs": [
    {
     "data": {
      "text/html": [
       "<div>\n",
       "<style scoped>\n",
       "    .dataframe tbody tr th:only-of-type {\n",
       "        vertical-align: middle;\n",
       "    }\n",
       "\n",
       "    .dataframe tbody tr th {\n",
       "        vertical-align: top;\n",
       "    }\n",
       "\n",
       "    .dataframe thead th {\n",
       "        text-align: right;\n",
       "    }\n",
       "</style>\n",
       "<table border=\"1\" class=\"dataframe\">\n",
       "  <thead>\n",
       "    <tr style=\"text-align: right;\">\n",
       "      <th></th>\n",
       "      <th>pred</th>\n",
       "      <th>ident</th>\n",
       "      <th>model</th>\n",
       "      <th>split</th>\n",
       "      <th>split_seed</th>\n",
       "      <th>activities.standard_value</th>\n",
       "      <th>target</th>\n",
       "    </tr>\n",
       "  </thead>\n",
       "  <tbody>\n",
       "    <tr>\n",
       "      <th>0</th>\n",
       "      <td>6.861015</td>\n",
       "      <td>13841248</td>\n",
       "      <td>Covalent  Transformer</td>\n",
       "      <td>random</td>\n",
       "      <td>4</td>\n",
       "      <td>6.136677</td>\n",
       "      <td>6.136677</td>\n",
       "    </tr>\n",
       "    <tr>\n",
       "      <th>1</th>\n",
       "      <td>6.836371</td>\n",
       "      <td>13841248</td>\n",
       "      <td>Covalent  Transformer</td>\n",
       "      <td>random</td>\n",
       "      <td>3</td>\n",
       "      <td>6.136677</td>\n",
       "      <td>6.136677</td>\n",
       "    </tr>\n",
       "    <tr>\n",
       "      <th>2</th>\n",
       "      <td>6.633666</td>\n",
       "      <td>13841248</td>\n",
       "      <td>Transformer</td>\n",
       "      <td>random</td>\n",
       "      <td>4</td>\n",
       "      <td>6.136677</td>\n",
       "      <td>6.136677</td>\n",
       "    </tr>\n",
       "    <tr>\n",
       "      <th>3</th>\n",
       "      <td>6.653460</td>\n",
       "      <td>13841248</td>\n",
       "      <td>Transformer</td>\n",
       "      <td>random</td>\n",
       "      <td>3</td>\n",
       "      <td>6.136677</td>\n",
       "      <td>6.136677</td>\n",
       "    </tr>\n",
       "    <tr>\n",
       "      <th>4</th>\n",
       "      <td>8.251204</td>\n",
       "      <td>17641064</td>\n",
       "      <td>Covalent  Transformer</td>\n",
       "      <td>random</td>\n",
       "      <td>4</td>\n",
       "      <td>7.995679</td>\n",
       "      <td>7.995679</td>\n",
       "    </tr>\n",
       "  </tbody>\n",
       "</table>\n",
       "</div>"
      ],
      "text/plain": [
       "       pred     ident                  model   split  split_seed  \\\n",
       "0  6.861015  13841248  Covalent  Transformer  random           4   \n",
       "1  6.836371  13841248  Covalent  Transformer  random           3   \n",
       "2  6.633666  13841248            Transformer  random           4   \n",
       "3  6.653460  13841248            Transformer  random           3   \n",
       "4  8.251204  17641064  Covalent  Transformer  random           4   \n",
       "\n",
       "   activities.standard_value    target  \n",
       "0                   6.136677  6.136677  \n",
       "1                   6.136677  6.136677  \n",
       "2                   6.136677  6.136677  \n",
       "3                   6.136677  6.136677  \n",
       "4                   7.995679  7.995679  "
      ]
     },
     "execution_count": 4,
     "metadata": {},
     "output_type": "execute_result"
    }
   ],
   "source": [
    "st_eval_data = pd.read_csv(EVAL_DATA / \"transformer_eval_data.csv\")\n",
    "st_eval_data.head()"
   ]
  },
  {
   "cell_type": "code",
   "execution_count": 5,
   "metadata": {},
   "outputs": [
    {
     "data": {
      "text/plain": [
       "model\n",
       " Transformer             52211\n",
       "Covalent  Transformer    55839\n",
       "DTI                      51556\n",
       "EGNN                     59467\n",
       "GIN                      55839\n",
       "dtype: int64"
      ]
     },
     "execution_count": 5,
     "metadata": {},
     "output_type": "execute_result"
    }
   ],
   "source": [
    "eval_data = pd.concat((eval_data, dti_eval_data, st_eval_data), axis=0).reset_index()\n",
    "eval_data.groupby(\"model\").size()"
   ]
  },
  {
   "cell_type": "markdown",
   "metadata": {},
   "source": [
    "### Calculate absolute prediction errors\n",
    "(and filter some weird outliers)"
   ]
  },
  {
   "cell_type": "code",
   "execution_count": 6,
   "metadata": {},
   "outputs": [],
   "source": [
    "eval_data[\"error\"] = (eval_data[\"pred\"] - eval_data[\"target\"]).abs()"
   ]
  },
  {
   "cell_type": "code",
   "execution_count": 7,
   "metadata": {},
   "outputs": [
    {
     "data": {
      "text/plain": [
       "model\n",
       "DTI    18\n",
       "dtype: int64"
      ]
     },
     "execution_count": 7,
     "metadata": {},
     "output_type": "execute_result"
    }
   ],
   "source": [
    "eval_data[eval_data[\"error\"] > 10].groupby(\"model\").size() # ????"
   ]
  },
  {
   "cell_type": "code",
   "execution_count": 8,
   "metadata": {},
   "outputs": [],
   "source": [
    "eval_data = eval_data[eval_data[\"error\"] < 100]"
   ]
  },
  {
   "cell_type": "code",
   "execution_count": 9,
   "metadata": {},
   "outputs": [],
   "source": [
    "eval_data[\"model\"] = eval_data[\"model\"].str.strip()"
   ]
  },
  {
   "cell_type": "code",
   "execution_count": 10,
   "metadata": {},
   "outputs": [],
   "source": [
    "# sanity check that we use the same targets for all models\n",
    "assert (eval_data.groupby(\"ident\")[\"target\"].std() == 0).all()"
   ]
  },
  {
   "cell_type": "markdown",
   "metadata": {},
   "source": [
    "### Define model full names, useful for plotting"
   ]
  },
  {
   "cell_type": "code",
   "execution_count": 11,
   "metadata": {},
   "outputs": [
    {
     "data": {
      "text/plain": [
       "model_full_name\n",
       "Complex-EGNN              59467\n",
       "Covalent Transformer      55839\n",
       "KiSSim DeepDTA            51538\n",
       "Ligand-GNN                55839\n",
       "Structural Transformer    52211\n",
       "dtype: int64"
      ]
     },
     "execution_count": 11,
     "metadata": {},
     "output_type": "execute_result"
    }
   ],
   "source": [
    "full_names = {\n",
    "    \"Transformer\": \"Structural Transformer\",\n",
    "    \"Covalent  Transformer\": \"Covalent Transformer\",\n",
    "    \"EGNN (R)\": \"Complex-EGNN (R)\",\n",
    "    \"EGNN (R/12)\": \"Complex-EGNN (R/12)\",\n",
    "    \"EGNN\": \"Complex-EGNN\",\n",
    "    \"GIN\": \"Ligand-GNN\",\n",
    "    \"DTI\": \"KiSSim DeepDTA\"\n",
    "}\n",
    "\n",
    "eval_data[\"model_full_name\"] = eval_data[\"model\"].apply(full_names.get)\n",
    "eval_data.groupby(\"model_full_name\").size()"
   ]
  },
  {
   "cell_type": "code",
   "execution_count": 83,
   "metadata": {},
   "outputs": [],
   "source": [
    "eval_data = eval_data[eval_data[\"model_full_name\"] != \"Ligand-GNN\"]"
   ]
  },
  {
   "cell_type": "markdown",
   "metadata": {},
   "source": [
    "### Calculate test metrics\n",
    "* Correlation of test prediction and target\n",
    "* Mean absolute error"
   ]
  },
  {
   "cell_type": "code",
   "execution_count": 12,
   "metadata": {},
   "outputs": [
    {
     "data": {
      "text/html": [
       "<div>\n",
       "<style scoped>\n",
       "    .dataframe tbody tr th:only-of-type {\n",
       "        vertical-align: middle;\n",
       "    }\n",
       "\n",
       "    .dataframe tbody tr th {\n",
       "        vertical-align: top;\n",
       "    }\n",
       "\n",
       "    .dataframe thead th {\n",
       "        text-align: right;\n",
       "    }\n",
       "</style>\n",
       "<table border=\"1\" class=\"dataframe\">\n",
       "  <thead>\n",
       "    <tr style=\"text-align: right;\">\n",
       "      <th></th>\n",
       "      <th>split</th>\n",
       "      <th>model_full_name</th>\n",
       "      <th>split_seed</th>\n",
       "      <th>test_corr</th>\n",
       "    </tr>\n",
       "  </thead>\n",
       "  <tbody>\n",
       "    <tr>\n",
       "      <th>0</th>\n",
       "      <td>pocket</td>\n",
       "      <td>Complex-EGNN</td>\n",
       "      <td>0</td>\n",
       "      <td>0.419050</td>\n",
       "    </tr>\n",
       "    <tr>\n",
       "      <th>1</th>\n",
       "      <td>pocket</td>\n",
       "      <td>Complex-EGNN</td>\n",
       "      <td>1</td>\n",
       "      <td>0.375618</td>\n",
       "    </tr>\n",
       "    <tr>\n",
       "      <th>2</th>\n",
       "      <td>pocket</td>\n",
       "      <td>Complex-EGNN</td>\n",
       "      <td>2</td>\n",
       "      <td>0.348831</td>\n",
       "    </tr>\n",
       "    <tr>\n",
       "      <th>3</th>\n",
       "      <td>pocket</td>\n",
       "      <td>Complex-EGNN</td>\n",
       "      <td>3</td>\n",
       "      <td>0.227266</td>\n",
       "    </tr>\n",
       "    <tr>\n",
       "      <th>4</th>\n",
       "      <td>pocket</td>\n",
       "      <td>Complex-EGNN</td>\n",
       "      <td>4</td>\n",
       "      <td>0.271939</td>\n",
       "    </tr>\n",
       "  </tbody>\n",
       "</table>\n",
       "</div>"
      ],
      "text/plain": [
       "    split model_full_name  split_seed  test_corr\n",
       "0  pocket    Complex-EGNN           0   0.419050\n",
       "1  pocket    Complex-EGNN           1   0.375618\n",
       "2  pocket    Complex-EGNN           2   0.348831\n",
       "3  pocket    Complex-EGNN           3   0.227266\n",
       "4  pocket    Complex-EGNN           4   0.271939"
      ]
     },
     "execution_count": 12,
     "metadata": {},
     "output_type": "execute_result"
    }
   ],
   "source": [
    "corr_data = eval_data.groupby([\"split\", \"model_full_name\", \"split_seed\"])[[\"pred\", \"target\"]].corr(\"pearson\").iloc[0::2, -1]\n",
    "corr_data = corr_data.unstack().reset_index().rename(columns={\"pred\": \"test_corr\"})\n",
    "corr_data.head()"
   ]
  },
  {
   "cell_type": "code",
   "execution_count": 13,
   "metadata": {},
   "outputs": [
    {
     "data": {
      "text/html": [
       "<div>\n",
       "<style scoped>\n",
       "    .dataframe tbody tr th:only-of-type {\n",
       "        vertical-align: middle;\n",
       "    }\n",
       "\n",
       "    .dataframe tbody tr th {\n",
       "        vertical-align: top;\n",
       "    }\n",
       "\n",
       "    .dataframe thead th {\n",
       "        text-align: right;\n",
       "    }\n",
       "</style>\n",
       "<table border=\"1\" class=\"dataframe\">\n",
       "  <thead>\n",
       "    <tr style=\"text-align: right;\">\n",
       "      <th></th>\n",
       "      <th>split</th>\n",
       "      <th>model_full_name</th>\n",
       "      <th>split_seed</th>\n",
       "      <th>error</th>\n",
       "    </tr>\n",
       "  </thead>\n",
       "  <tbody>\n",
       "    <tr>\n",
       "      <th>0</th>\n",
       "      <td>pocket</td>\n",
       "      <td>Complex-EGNN</td>\n",
       "      <td>0</td>\n",
       "      <td>0.849410</td>\n",
       "    </tr>\n",
       "    <tr>\n",
       "      <th>1</th>\n",
       "      <td>pocket</td>\n",
       "      <td>Complex-EGNN</td>\n",
       "      <td>1</td>\n",
       "      <td>0.940820</td>\n",
       "    </tr>\n",
       "    <tr>\n",
       "      <th>2</th>\n",
       "      <td>pocket</td>\n",
       "      <td>Complex-EGNN</td>\n",
       "      <td>2</td>\n",
       "      <td>0.798744</td>\n",
       "    </tr>\n",
       "    <tr>\n",
       "      <th>3</th>\n",
       "      <td>pocket</td>\n",
       "      <td>Complex-EGNN</td>\n",
       "      <td>3</td>\n",
       "      <td>0.895928</td>\n",
       "    </tr>\n",
       "    <tr>\n",
       "      <th>4</th>\n",
       "      <td>pocket</td>\n",
       "      <td>Complex-EGNN</td>\n",
       "      <td>4</td>\n",
       "      <td>0.950526</td>\n",
       "    </tr>\n",
       "  </tbody>\n",
       "</table>\n",
       "</div>"
      ],
      "text/plain": [
       "    split model_full_name  split_seed     error\n",
       "0  pocket    Complex-EGNN           0  0.849410\n",
       "1  pocket    Complex-EGNN           1  0.940820\n",
       "2  pocket    Complex-EGNN           2  0.798744\n",
       "3  pocket    Complex-EGNN           3  0.895928\n",
       "4  pocket    Complex-EGNN           4  0.950526"
      ]
     },
     "execution_count": 13,
     "metadata": {},
     "output_type": "execute_result"
    }
   ],
   "source": [
    "mae_data = eval_data.groupby([\"split\", \"model_full_name\", \"split_seed\"])[\"error\"].mean().reset_index()\n",
    "mae_data.head()"
   ]
  },
  {
   "cell_type": "code",
   "execution_count": 14,
   "metadata": {},
   "outputs": [
    {
     "data": {
      "text/plain": [
       "<seaborn.axisgrid.FacetGrid at 0x12dd525f0>"
      ]
     },
     "execution_count": 14,
     "metadata": {},
     "output_type": "execute_result"
    },
    {
     "data": {
      "image/png": "[encoded data removed]",
      "text/plain": [
       "<Figure size 682.5x500 with 1 Axes>"
      ]
     },
     "metadata": {},
     "output_type": "display_data"
    },
    {
     "data": {
      "image/png": "[encoded data removed]",
      "text/plain": [
       "<Figure size 682.5x500 with 1 Axes>"
      ]
     },
     "metadata": {},
     "output_type": "display_data"
    }
   ],
   "source": [
    "sns.catplot(mae_data, x=\"error\", y=\"split\", hue=\"model_full_name\", kind=\"strip\")\n",
    "sns.catplot(mae_data, x=\"error\", y=\"split\", hue=\"model_full_name\", kind=\"box\")"
   ]
  },
  {
   "cell_type": "code",
   "execution_count": 15,
   "metadata": {},
   "outputs": [
    {
     "data": {
      "text/html": [
       "<div>\n",
       "<style scoped>\n",
       "    .dataframe tbody tr th:only-of-type {\n",
       "        vertical-align: middle;\n",
       "    }\n",
       "\n",
       "    .dataframe tbody tr th {\n",
       "        vertical-align: top;\n",
       "    }\n",
       "\n",
       "    .dataframe thead th {\n",
       "        text-align: right;\n",
       "    }\n",
       "</style>\n",
       "<table border=\"1\" class=\"dataframe\">\n",
       "  <thead>\n",
       "    <tr style=\"text-align: right;\">\n",
       "      <th></th>\n",
       "      <th></th>\n",
       "      <th>mean</th>\n",
       "      <th>std</th>\n",
       "    </tr>\n",
       "    <tr>\n",
       "      <th>split</th>\n",
       "      <th>model_full_name</th>\n",
       "      <th></th>\n",
       "      <th></th>\n",
       "    </tr>\n",
       "  </thead>\n",
       "  <tbody>\n",
       "    <tr>\n",
       "      <th rowspan=\"5\" valign=\"top\">pocket</th>\n",
       "      <th>Complex-EGNN</th>\n",
       "      <td>0.328541</td>\n",
       "      <td>0.077911</td>\n",
       "    </tr>\n",
       "    <tr>\n",
       "      <th>Covalent Transformer</th>\n",
       "      <td>0.223617</td>\n",
       "      <td>0.133064</td>\n",
       "    </tr>\n",
       "    <tr>\n",
       "      <th>KiSSim DeepDTA</th>\n",
       "      <td>0.302315</td>\n",
       "      <td>0.088441</td>\n",
       "    </tr>\n",
       "    <tr>\n",
       "      <th>Ligand-GNN</th>\n",
       "      <td>0.127514</td>\n",
       "      <td>0.080811</td>\n",
       "    </tr>\n",
       "    <tr>\n",
       "      <th>Structural Transformer</th>\n",
       "      <td>0.279851</td>\n",
       "      <td>0.099029</td>\n",
       "    </tr>\n",
       "    <tr>\n",
       "      <th rowspan=\"5\" valign=\"top\">random</th>\n",
       "      <th>Complex-EGNN</th>\n",
       "      <td>0.705912</td>\n",
       "      <td>0.006077</td>\n",
       "    </tr>\n",
       "    <tr>\n",
       "      <th>Covalent Transformer</th>\n",
       "      <td>0.741128</td>\n",
       "      <td>0.006808</td>\n",
       "    </tr>\n",
       "    <tr>\n",
       "      <th>KiSSim DeepDTA</th>\n",
       "      <td>0.688463</td>\n",
       "      <td>0.005211</td>\n",
       "    </tr>\n",
       "    <tr>\n",
       "      <th>Ligand-GNN</th>\n",
       "      <td>0.680698</td>\n",
       "      <td>0.007914</td>\n",
       "    </tr>\n",
       "    <tr>\n",
       "      <th>Structural Transformer</th>\n",
       "      <td>0.760945</td>\n",
       "      <td>0.007423</td>\n",
       "    </tr>\n",
       "    <tr>\n",
       "      <th rowspan=\"5\" valign=\"top\">scaffold</th>\n",
       "      <th>Complex-EGNN</th>\n",
       "      <td>0.571332</td>\n",
       "      <td>0.047771</td>\n",
       "    </tr>\n",
       "    <tr>\n",
       "      <th>Covalent Transformer</th>\n",
       "      <td>0.604305</td>\n",
       "      <td>0.055763</td>\n",
       "    </tr>\n",
       "    <tr>\n",
       "      <th>KiSSim DeepDTA</th>\n",
       "      <td>0.535466</td>\n",
       "      <td>0.062262</td>\n",
       "    </tr>\n",
       "    <tr>\n",
       "      <th>Ligand-GNN</th>\n",
       "      <td>0.313690</td>\n",
       "      <td>0.040838</td>\n",
       "    </tr>\n",
       "    <tr>\n",
       "      <th>Structural Transformer</th>\n",
       "      <td>0.642139</td>\n",
       "      <td>0.045607</td>\n",
       "    </tr>\n",
       "  </tbody>\n",
       "</table>\n",
       "</div>"
      ],
      "text/plain": [
       "                                     mean       std\n",
       "split    model_full_name                           \n",
       "pocket   Complex-EGNN            0.328541  0.077911\n",
       "         Covalent Transformer    0.223617  0.133064\n",
       "         KiSSim DeepDTA          0.302315  0.088441\n",
       "         Ligand-GNN              0.127514  0.080811\n",
       "         Structural Transformer  0.279851  0.099029\n",
       "random   Complex-EGNN            0.705912  0.006077\n",
       "         Covalent Transformer    0.741128  0.006808\n",
       "         KiSSim DeepDTA          0.688463  0.005211\n",
       "         Ligand-GNN              0.680698  0.007914\n",
       "         Structural Transformer  0.760945  0.007423\n",
       "scaffold Complex-EGNN            0.571332  0.047771\n",
       "         Covalent Transformer    0.604305  0.055763\n",
       "         KiSSim DeepDTA          0.535466  0.062262\n",
       "         Ligand-GNN              0.313690  0.040838\n",
       "         Structural Transformer  0.642139  0.045607"
      ]
     },
     "execution_count": 15,
     "metadata": {},
     "output_type": "execute_result"
    }
   ],
   "source": [
    "corr_data.groupby([\"split\", \"model_full_name\"])[\"test_corr\"].agg([\"mean\", \"std\"])"
   ]
  },
  {
   "cell_type": "code",
   "execution_count": 16,
   "metadata": {},
   "outputs": [
    {
     "data": {
      "text/plain": [
       "<seaborn.axisgrid.FacetGrid at 0x12e158190>"
      ]
     },
     "execution_count": 16,
     "metadata": {},
     "output_type": "execute_result"
    },
    {
     "data": {
      "image/png": "[encoded data removed]",
      "text/plain": [
       "<Figure size 682.5x500 with 1 Axes>"
      ]
     },
     "metadata": {},
     "output_type": "display_data"
    },
    {
     "data": {
      "image/png": "[encoded data removed]",
      "text/plain": [
       "<Figure size 682.5x500 with 1 Axes>"
      ]
     },
     "metadata": {},
     "output_type": "display_data"
    }
   ],
   "source": [
    "mask = corr_data[\"model_full_name\"] != \"Ligand-GNN\"\n",
    "sns.catplot(corr_data, x=\"test_corr\", y=\"split\", kind=\"strip\", hue=\"model_full_name\")\n",
    "sns.catplot(corr_data, x=\"test_corr\", y=\"split\", kind=\"box\", hue=\"model_full_name\")"
   ]
  },
  {
   "cell_type": "markdown",
   "metadata": {},
   "source": [
    "### Model improvement plot\n",
    "Let $r_1$ and $r_2$ be the correlation of prediction and target of two models. We define the relative improvement of model $1$ over $2$ as\n",
    "$$\n",
    "\\delta_{1,2} = \\frac{r_1}{r_2} - 1 \\in (-\\infty, \\infty)\n",
    "$$"
   ]
  },
  {
   "cell_type": "code",
   "execution_count": 61,
   "metadata": {},
   "outputs": [],
   "source": [
    "corr_data = corr_data.query(\"split != 'pocket'\")"
   ]
  },
  {
   "cell_type": "code",
   "execution_count": 19,
   "metadata": {},
   "outputs": [
    {
     "name": "stdout",
     "output_type": "stream",
     "text": [
      "(('pocket', 2),            model_full_name  test_corr\n",
      "2             Complex-EGNN   0.348831\n",
      "7     Covalent Transformer   0.417808\n",
      "11          KiSSim DeepDTA   0.374634\n",
      "16              Ligand-GNN   0.101294\n",
      "21  Structural Transformer   0.349226)\n",
      "(('pocket', 3),            model_full_name  test_corr\n",
      "3             Complex-EGNN   0.227266\n",
      "8     Covalent Transformer   0.196178\n",
      "12          KiSSim DeepDTA   0.173415\n",
      "17              Ligand-GNN   0.002174\n",
      "22  Structural Transformer   0.323968)\n",
      "(('pocket', 4),            model_full_name  test_corr\n",
      "4             Complex-EGNN   0.271939\n",
      "9     Covalent Transformer   0.200293\n",
      "13          KiSSim DeepDTA   0.327494\n",
      "18              Ligand-GNN   0.144067\n",
      "23  Structural Transformer   0.136228)\n",
      "(('random', 0),            model_full_name  test_corr\n",
      "24            Complex-EGNN   0.713362\n",
      "29    Covalent Transformer   0.738884\n",
      "34          KiSSim DeepDTA   0.684791\n",
      "39              Ligand-GNN   0.678324\n",
      "44  Structural Transformer   0.762344)\n",
      "(('random', 2),            model_full_name  test_corr\n",
      "26            Complex-EGNN   0.698922\n",
      "31    Covalent Transformer   0.744909\n",
      "36          KiSSim DeepDTA   0.687990\n",
      "41              Ligand-GNN   0.686345\n",
      "45  Structural Transformer   0.768367)\n",
      "(('scaffold', 0),            model_full_name  test_corr\n",
      "48            Complex-EGNN   0.543024\n",
      "53    Covalent Transformer   0.581829\n",
      "58          KiSSim DeepDTA   0.522380\n",
      "63              Ligand-GNN   0.269241\n",
      "68  Structural Transformer   0.641629)\n",
      "(('scaffold', 1),            model_full_name  test_corr\n",
      "49            Complex-EGNN   0.649985\n",
      "54    Covalent Transformer   0.703945\n",
      "59          KiSSim DeepDTA   0.636149\n",
      "64              Ligand-GNN   0.318818\n",
      "69  Structural Transformer   0.717884)\n",
      "(('scaffold', 2),            model_full_name  test_corr\n",
      "50            Complex-EGNN   0.529923\n",
      "55    Covalent Transformer   0.581970\n",
      "60          KiSSim DeepDTA   0.519862\n",
      "65              Ligand-GNN   0.373740\n",
      "70  Structural Transformer   0.626232)\n",
      "(('scaffold', 3),            model_full_name  test_corr\n",
      "51            Complex-EGNN   0.580758\n",
      "56    Covalent Transformer   0.575664\n",
      "61          KiSSim DeepDTA   0.533841\n",
      "66              Ligand-GNN   0.323918\n",
      "71  Structural Transformer   0.629351)\n",
      "(('scaffold', 4),            model_full_name  test_corr\n",
      "52            Complex-EGNN   0.552972\n",
      "57    Covalent Transformer   0.578119\n",
      "62          KiSSim DeepDTA   0.465097\n",
      "67              Ligand-GNN   0.282733\n",
      "72  Structural Transformer   0.595601)\n"
     ]
    },
    {
     "name": "stderr",
     "output_type": "stream",
     "text": [
      "/Users/joschka/mambaforge/envs/kinodata/lib/python3.10/site-packages/seaborn/categorical.py:1680: UserWarning: You passed a edgecolor/edgecolors ([(0.5, 0.5, 0.5), (0.5, 0.5, 0.5)]) for an unfilled marker ('x').  Matplotlib is ignoring the edgecolor in favor of the facecolor.  This behavior may change in the future.\n",
      "  ax.scatter(x, y,\n"
     ]
    },
    {
     "data": {
      "image/png": "[encoded data removed]",
      "text/plain": [
       "<Figure size 400x250 with 1 Axes>"
      ]
     },
     "metadata": {},
     "output_type": "display_data"
    }
   ],
   "source": [
    "model_1, model_2 = \"Structural Transformer\", \"Covalent Transformer\"\n",
    "index_1, index_2 = -1, 1\n",
    "mode = \"diff\"\n",
    "\n",
    "mask1 = (corr_data[\"split\"] != \"random\") | (corr_data[\"split_seed\"].isin([0,2]))\n",
    "mask2 = ~((corr_data[\"split\"] == \"pocket\") & (corr_data[\"split_seed\"] == 0))\n",
    "mask3 = ~((corr_data[\"split\"] == \"pocket\") & (corr_data[\"split_seed\"] == 1))\n",
    "grouped = corr_data[mask1 & mask2 & mask3].groupby([\"split\", \"split_seed\"])[[\"model_full_name\", \"test_corr\"]]\n",
    "\n",
    "\n",
    "for x in grouped:\n",
    "    print(x)\n",
    "if mode == \"ratio\":\n",
    "    corr_diff = grouped.apply(lambda x: x.test_corr.values[index_1] / x.test_corr.values[index_2])\n",
    "    corr_diff = corr_diff.reset_index().rename(columns={0: \"corr_ratio\"})\n",
    "    corr_diff[\"improvement\"] = (corr_diff[\"corr_ratio\"] - 1) * 100\n",
    "elif mode == \"diff\":\n",
    "    corr_diff = grouped.apply(lambda x: x.test_corr.values[index_1] - x.test_corr.values[index_2])\n",
    "    corr_diff = corr_diff.reset_index().rename(columns={0: \"corr_diff\"})\n",
    "    corr_diff[\"improvement\"] = corr_diff[\"corr_diff\"]\n",
    "    \n",
    "\n",
    "f, ax = plt.subplots(figsize=(4, 2.5))\n",
    "f.tight_layout()\n",
    "f.suptitle(f\"{model_1} vs. {model_2}\")\n",
    "sns.set_theme(style=\"ticks\")\n",
    "sns.stripplot(corr_diff, x=\"improvement\", y=\"split\", size=5, linewidth=0, color=\"lightblue\", order=[\"random\", \"scaffold\"])\n",
    "sns.pointplot(corr_diff, x=\"improvement\", y=\"split\", order=[\"random\", \"scaffold\"], join=False, color=\".5\", capsize=.4, markers=\"x\")\n",
    "ax.xaxis.grid(True)\n",
    "ax.set(ylabel=\"\")\n",
    "if mode == \"ratio\":\n",
    "    ax.set_xlabel(r\"Improvement % (explained variance)\")\n",
    "elif mode == \"diff\":\n",
    "    ax.set_xlabel(\"Difference\")\n",
    "sns.despine(trim=True, left=True)\n",
    "# ax.set_xlim(left=0, right=2.0)\n",
    "f.savefig(\"corr_diff_kinodata.pdf\")"
   ]
  },
  {
   "cell_type": "code",
   "execution_count": 31,
   "metadata": {},
   "outputs": [],
   "source": [
    "eval_data[\"abs_error\"] = (eval_data[\"pred\"] - eval_data[\"activities.standard_value\"]).abs()"
   ]
  },
  {
   "cell_type": "code",
   "execution_count": 32,
   "metadata": {},
   "outputs": [
    {
     "name": "stdout",
     "output_type": "stream",
     "text": [
      "                          mean       std\n",
      "model       split                       \n",
      "DTI         pocket    0.923207  0.081473\n",
      "            random    0.681560  0.008739\n",
      "            scaffold  0.811859  0.030459\n",
      "EGNN        pocket    0.887086  0.063667\n",
      "            random    0.658575  0.013575\n",
      "            scaffold  0.779452  0.021651\n",
      "GIN         pocket    1.257423  0.181086\n",
      "            random    0.687846  0.009813\n",
      "            scaffold  1.097443  0.096543\n",
      "Transformer pocket    1.006005  0.120430\n",
      "            random    0.586301  0.010535\n",
      "            scaffold  0.726594  0.026359\n"
     ]
    }
   ],
   "source": [
    "mae = (\n",
    "    eval_data.groupby([\"split\", \"split_seed\", \"model\"])[\"abs_error\"]\n",
    "    .mean()\n",
    "    .to_frame()\n",
    "    .reset_index()\n",
    "    .rename(columns={\"abs_error\": \"mae\"})\n",
    ")\n",
    "print(mae.groupby([\"model\", \"split\"])[\"mae\"].agg([\"mean\", \"std\"]))"
   ]
  },
  {
   "cell_type": "code",
   "execution_count": 21,
   "metadata": {},
   "outputs": [
    {
     "name": "stderr",
     "output_type": "stream",
     "text": [
      "/Users/joschka/mambaforge/envs/kinodata/lib/python3.10/site-packages/tqdm/auto.py:22: TqdmWarning: IProgress not found. Please update jupyter and ipywidgets. See https://ipywidgets.readthedocs.io/en/stable/user_install.html\n",
      "  from .autonotebook import tqdm as notebook_tqdm\n"
     ]
    }
   ],
   "source": [
    "import biotite.sequence.align as align\n",
    "import numpy as np\n",
    "import seaborn as sns\n",
    "import matplotlib.pyplot as plt\n",
    "import pandas as pd\n",
    "from kinodata.data.utils. similarity import _normalize_score_matrix"
   ]
  },
  {
   "cell_type": "code",
   "execution_count": 22,
   "metadata": {},
   "outputs": [
    {
     "data": {
      "text/plain": [
       "array([[1.        , 0.39223227, 0.2236068 , 0.35355339, 0.2236068 ,\n",
       "        0.4472136 , 0.20412415, 0.375     , 0.35355339, 0.375     ,\n",
       "        0.35355339, 0.2236068 , 0.31980107, 0.35355339, 0.35355339,\n",
       "        0.625     , 0.47140452, 0.5       , 0.09128709, 0.21320072,\n",
       "        0.25      , 0.375     , 0.81649658, 0.        ],\n",
       "       [0.39223227, 1.        , 0.0877058 , 0.        , 0.1754116 ,\n",
       "        0.0877058 , 0.08006408, 0.2941742 , 0.09245003, 0.2941742 ,\n",
       "        0.2773501 , 0.0877058 , 0.0836242 , 0.09245003, 0.09245003,\n",
       "        0.2941742 , 0.2773501 , 0.2941742 , 0.14322297, 0.1672484 ,\n",
       "        0.09805807, 0.09805807, 0.32025631, 0.        ],\n",
       "       [0.2236068 , 0.0877058 , 1.        , 0.63245553, 0.1       ,\n",
       "        0.3       , 0.27386128, 0.1118034 , 0.31622777, 0.        ,\n",
       "        0.10540926, 0.5       , 0.28603878, 0.42163702, 0.21081851,\n",
       "        0.4472136 , 0.31622777, 0.1118034 , 0.        , 0.09534626,\n",
       "        0.89442719, 0.55901699, 0.54772256, 0.        ],\n",
       "       [0.35355339, 0.        , 0.63245553, 1.        , 0.10540926,\n",
       "        0.21081851, 0.38490018, 0.11785113, 0.55555556, 0.11785113,\n",
       "        0.22222222, 0.42163702, 0.30151134, 0.66666667, 0.44444444,\n",
       "        0.47140452, 0.33333333, 0.23570226, 0.0860663 , 0.20100756,\n",
       "        0.58925565, 0.94280904, 0.57735027, 0.        ],\n",
       "       [0.2236068 , 0.1754116 , 0.1       , 0.10540926, 1.        ,\n",
       "        0.1       , 0.27386128, 0.4472136 , 0.10540926, 0.4472136 ,\n",
       "        0.42163702, 0.1       , 0.        , 0.10540926, 0.10540926,\n",
       "        0.2236068 , 0.21081851, 0.3354102 , 0.40824829, 0.66742381,\n",
       "        0.1118034 , 0.1118034 , 0.54772256, 0.        ],\n",
       "       [0.4472136 , 0.0877058 , 0.3       , 0.21081851, 0.1       ,\n",
       "        1.        , 0.18257419, 0.        , 0.21081851, 0.        ,\n",
       "        0.10540926, 0.4       , 0.19069252, 0.21081851, 0.21081851,\n",
       "        0.4472136 , 0.21081851, 0.1118034 , 0.16329932, 0.09534626,\n",
       "        0.3354102 , 0.2236068 , 0.54772256, 0.        ],\n",
       "       [0.20412415, 0.08006408, 0.27386128, 0.38490018, 0.27386128,\n",
       "        0.18257419, 1.        , 0.10206207, 0.28867513, 0.10206207,\n",
       "        0.19245009, 0.45643546, 0.17407766, 0.38490018, 0.38490018,\n",
       "        0.30618622, 0.19245009, 0.10206207, 0.1490712 , 0.52223297,\n",
       "        0.40824829, 0.40824829, 0.5       , 0.        ],\n",
       "       [0.375     , 0.2941742 , 0.1118034 , 0.11785113, 0.4472136 ,\n",
       "        0.        , 0.10206207, 1.        , 0.11785113, 0.75      ,\n",
       "        0.58925565, 0.1118034 , 0.10660036, 0.11785113, 0.11785113,\n",
       "        0.25      , 0.35355339, 0.875     , 0.09128709, 0.31980107,\n",
       "        0.125     , 0.125     , 0.61237244, 0.        ],\n",
       "       [0.35355339, 0.09245003, 0.31622777, 0.55555556, 0.10540926,\n",
       "        0.21081851, 0.28867513, 0.11785113, 1.        , 0.23570226,\n",
       "        0.33333333, 0.42163702, 0.30151134, 0.55555556, 0.66666667,\n",
       "        0.47140452, 0.33333333, 0.23570226, 0.0860663 , 0.20100756,\n",
       "        0.47140452, 0.58925565, 0.57735027, 0.        ],\n",
       "       [0.375     , 0.2941742 , 0.        , 0.11785113, 0.4472136 ,\n",
       "        0.        , 0.10206207, 0.75      , 0.23570226, 1.        ,\n",
       "        0.70710678, 0.1118034 , 0.10660036, 0.23570226, 0.23570226,\n",
       "        0.25      , 0.35355339, 0.625     , 0.18257419, 0.31980107,\n",
       "        0.        , 0.125     , 0.61237244, 0.        ],\n",
       "       [0.35355339, 0.2773501 , 0.10540926, 0.22222222, 0.42163702,\n",
       "        0.10540926, 0.19245009, 0.58925565, 0.33333333, 0.70710678,\n",
       "        1.        , 0.21081851, 0.20100756, 0.44444444, 0.33333333,\n",
       "        0.35355339, 0.33333333, 0.58925565, 0.25819889, 0.30151134,\n",
       "        0.11785113, 0.35355339, 0.57735027, 0.        ],\n",
       "       [0.2236068 , 0.0877058 , 0.5       , 0.42163702, 0.1       ,\n",
       "        0.4       , 0.45643546, 0.1118034 , 0.42163702, 0.1118034 ,\n",
       "        0.21081851, 1.        , 0.19069252, 0.42163702, 0.42163702,\n",
       "        0.55901699, 0.42163702, 0.1118034 , 0.        , 0.19069252,\n",
       "        0.78262379, 0.4472136 , 0.54772256, 0.        ],\n",
       "       [0.31980107, 0.0836242 , 0.28603878, 0.30151134, 0.        ,\n",
       "        0.19069252, 0.17407766, 0.10660036, 0.30151134, 0.10660036,\n",
       "        0.20100756, 0.19069252, 1.        , 0.30151134, 0.20100756,\n",
       "        0.31980107, 0.30151134, 0.21320072, 0.        , 0.09090909,\n",
       "        0.21320072, 0.31980107, 0.34815531, 0.        ],\n",
       "       [0.35355339, 0.09245003, 0.42163702, 0.66666667, 0.10540926,\n",
       "        0.21081851, 0.38490018, 0.11785113, 0.55555556, 0.23570226,\n",
       "        0.44444444, 0.42163702, 0.30151134, 1.        , 0.55555556,\n",
       "        0.47140452, 0.33333333, 0.23570226, 0.17213259, 0.30151134,\n",
       "        0.47140452, 0.82495791, 0.57735027, 0.        ],\n",
       "       [0.35355339, 0.09245003, 0.21081851, 0.44444444, 0.10540926,\n",
       "        0.21081851, 0.38490018, 0.11785113, 0.66666667, 0.23570226,\n",
       "        0.33333333, 0.42163702, 0.20100756, 0.55555556, 1.        ,\n",
       "        0.35355339, 0.33333333, 0.11785113, 0.0860663 , 0.20100756,\n",
       "        0.35355339, 0.47140452, 0.57735027, 0.        ],\n",
       "       [0.625     , 0.2941742 , 0.4472136 , 0.47140452, 0.2236068 ,\n",
       "        0.4472136 , 0.30618622, 0.25      , 0.47140452, 0.25      ,\n",
       "        0.35355339, 0.55901699, 0.31980107, 0.47140452, 0.35355339,\n",
       "        1.        , 0.58925565, 0.25      , 0.09128709, 0.21320072,\n",
       "        0.5       , 0.5       , 0.81649658, 0.        ],\n",
       "       [0.47140452, 0.2773501 , 0.31622777, 0.33333333, 0.21081851,\n",
       "        0.21081851, 0.19245009, 0.35355339, 0.33333333, 0.35355339,\n",
       "        0.33333333, 0.42163702, 0.30151134, 0.33333333, 0.33333333,\n",
       "        0.58925565, 1.        , 0.47140452, 0.17213259, 0.20100756,\n",
       "        0.35355339, 0.35355339, 0.76980036, 0.        ],\n",
       "       [0.5       , 0.2941742 , 0.1118034 , 0.23570226, 0.3354102 ,\n",
       "        0.1118034 , 0.10206207, 0.875     , 0.23570226, 0.625     ,\n",
       "        0.58925565, 0.1118034 , 0.21320072, 0.23570226, 0.11785113,\n",
       "        0.25      , 0.47140452, 1.        , 0.09128709, 0.31980107,\n",
       "        0.125     , 0.25      , 0.61237244, 0.        ],\n",
       "       [0.09128709, 0.14322297, 0.        , 0.0860663 , 0.40824829,\n",
       "        0.16329932, 0.1490712 , 0.09128709, 0.0860663 , 0.18257419,\n",
       "        0.25819889, 0.        , 0.        , 0.17213259, 0.0860663 ,\n",
       "        0.09128709, 0.17213259, 0.09128709, 1.        , 0.46709937,\n",
       "        0.        , 0.09128709, 0.2981424 , 0.        ],\n",
       "       [0.21320072, 0.1672484 , 0.09534626, 0.20100756, 0.66742381,\n",
       "        0.09534626, 0.52223297, 0.31980107, 0.20100756, 0.31980107,\n",
       "        0.30151134, 0.19069252, 0.09090909, 0.30151134, 0.20100756,\n",
       "        0.21320072, 0.20100756, 0.31980107, 0.46709937, 1.        ,\n",
       "        0.10660036, 0.21320072, 0.52223297, 0.        ],\n",
       "       [0.25      , 0.09805807, 0.89442719, 0.58925565, 0.1118034 ,\n",
       "        0.3354102 , 0.40824829, 0.125     , 0.47140452, 0.        ,\n",
       "        0.11785113, 0.78262379, 0.21320072, 0.47140452, 0.35355339,\n",
       "        0.5       , 0.35355339, 0.125     , 0.        , 0.10660036,\n",
       "        1.        , 0.625     , 0.61237244, 0.        ],\n",
       "       [0.375     , 0.09805807, 0.55901699, 0.94280904, 0.1118034 ,\n",
       "        0.2236068 , 0.40824829, 0.125     , 0.58925565, 0.125     ,\n",
       "        0.35355339, 0.4472136 , 0.31980107, 0.82495791, 0.47140452,\n",
       "        0.5       , 0.35355339, 0.25      , 0.09128709, 0.21320072,\n",
       "        0.625     , 1.        , 0.61237244, 0.        ],\n",
       "       [0.81649658, 0.32025631, 0.54772256, 0.57735027, 0.54772256,\n",
       "        0.54772256, 0.5       , 0.61237244, 0.57735027, 0.61237244,\n",
       "        0.57735027, 0.54772256, 0.34815531, 0.57735027, 0.57735027,\n",
       "        0.81649658, 0.76980036, 0.61237244, 0.2981424 , 0.52223297,\n",
       "        0.61237244, 0.61237244, 1.        , 0.        ],\n",
       "       [0.        , 0.        , 0.        , 0.        , 0.        ,\n",
       "        0.        , 0.        , 0.        , 0.        , 0.        ,\n",
       "        0.        , 0.        , 0.        , 0.        , 0.        ,\n",
       "        0.        , 0.        , 0.        , 0.        , 0.        ,\n",
       "        0.        , 0.        , 0.        , 1.        ]])"
      ]
     },
     "execution_count": 22,
     "metadata": {},
     "output_type": "execute_result"
    }
   ],
   "source": [
    "blosum = align.SubstitutionMatrix.std_protein_matrix()\n",
    "score_matrix = blosum.score_matrix()\n",
    "alph = blosum.get_alphabet1()\n",
    "score_matrix = _normalize_score_matrix(score_matrix)\n",
    "score_matrix"
   ]
  },
  {
   "cell_type": "code",
   "execution_count": 23,
   "metadata": {},
   "outputs": [
    {
     "data": {
      "image/png": "[encoded data removed]",
      "text/plain": [
       "<Figure size 640x480 with 2 Axes>"
      ]
     },
     "metadata": {},
     "output_type": "display_data"
    }
   ],
   "source": [
    "# sns.set_context(\"talk\")\n",
    "hm = sns.heatmap(score_matrix, xticklabels=alph, yticklabels=alph, cmap=\"crest\", fmt=\"g\")\n",
    "hm.set_title(\"Blocks Substitution Matrix (BLOSUM)\")\n",
    "plt.tight_layout()"
   ]
  },
  {
   "cell_type": "code",
   "execution_count": 24,
   "metadata": {},
   "outputs": [],
   "source": [
    "EGFR = \"KVLGSGAFGTVYKVAIKVLEILDEAYVMAGVGPYVSRLLGIQLVTQLMPYGCLLDHVREYLEDVRLVHRDLAARNVLVITDFGLA\"\n",
    "KDR = \"KPLGRGAFGQVIEVAVKMLALMSELKILIHIGLNVVNLLGAMVIVEFCKFGNLSTYLRSFLASRKCIHRDLAARNILLICDFGLA\""
   ]
  },
  {
   "cell_type": "code",
   "execution_count": null,
   "metadata": {},
   "outputs": [],
   "source": []
  },
  {
   "cell_type": "code",
   "execution_count": 25,
   "metadata": {},
   "outputs": [],
   "source": [
    "iEGFR = alph.encode_multiple(EGFR)\n",
    "iKDR = alph.encode_multiple(KDR)"
   ]
  },
  {
   "cell_type": "code",
   "execution_count": 26,
   "metadata": {},
   "outputs": [],
   "source": [
    "data = pd.DataFrame({\n",
    "    \"Residue sim.\": score_matrix[iEGFR, iKDR]\n",
    "}, index=[f\"{a}{b}\" for a,b in zip(EGFR, KDR)])"
   ]
  },
  {
   "cell_type": "code",
   "execution_count": 27,
   "metadata": {},
   "outputs": [
    {
     "data": {
      "text/html": [
       "<div>\n",
       "<style scoped>\n",
       "    .dataframe tbody tr th:only-of-type {\n",
       "        vertical-align: middle;\n",
       "    }\n",
       "\n",
       "    .dataframe tbody tr th {\n",
       "        vertical-align: top;\n",
       "    }\n",
       "\n",
       "    .dataframe thead th {\n",
       "        text-align: right;\n",
       "    }\n",
       "</style>\n",
       "<table border=\"1\" class=\"dataframe\">\n",
       "  <thead>\n",
       "    <tr style=\"text-align: right;\">\n",
       "      <th></th>\n",
       "      <th>Residue sim.</th>\n",
       "    </tr>\n",
       "  </thead>\n",
       "  <tbody>\n",
       "    <tr>\n",
       "      <th>KK</th>\n",
       "      <td>1.000000</td>\n",
       "    </tr>\n",
       "    <tr>\n",
       "      <th>VP</th>\n",
       "      <td>0.213201</td>\n",
       "    </tr>\n",
       "    <tr>\n",
       "      <th>LL</th>\n",
       "      <td>1.000000</td>\n",
       "    </tr>\n",
       "    <tr>\n",
       "      <th>GG</th>\n",
       "      <td>1.000000</td>\n",
       "    </tr>\n",
       "    <tr>\n",
       "      <th>SR</th>\n",
       "      <td>0.353553</td>\n",
       "    </tr>\n",
       "    <tr>\n",
       "      <th>GG</th>\n",
       "      <td>1.000000</td>\n",
       "    </tr>\n",
       "    <tr>\n",
       "      <th>AA</th>\n",
       "      <td>1.000000</td>\n",
       "    </tr>\n",
       "    <tr>\n",
       "      <th>FF</th>\n",
       "      <td>1.000000</td>\n",
       "    </tr>\n",
       "    <tr>\n",
       "      <th>GG</th>\n",
       "      <td>1.000000</td>\n",
       "    </tr>\n",
       "    <tr>\n",
       "      <th>${\\dots}$</th>\n",
       "      <td>0.000000</td>\n",
       "    </tr>\n",
       "  </tbody>\n",
       "</table>\n",
       "</div>"
      ],
      "text/plain": [
       "           Residue sim.\n",
       "KK             1.000000\n",
       "VP             0.213201\n",
       "LL             1.000000\n",
       "GG             1.000000\n",
       "SR             0.353553\n",
       "GG             1.000000\n",
       "AA             1.000000\n",
       "FF             1.000000\n",
       "GG             1.000000\n",
       "${\\dots}$      0.000000"
      ]
     },
     "execution_count": 27,
     "metadata": {},
     "output_type": "execute_result"
    }
   ],
   "source": [
    "sample = data.iloc[:9]\n",
    "dummy = pd.DataFrame({\n",
    "    \"Residue sim.\": 0\n",
    "}, index=[\"${\\\\dots}$\"])\n",
    "sample = pd.concat((sample, dummy))\n",
    "sample"
   ]
  },
  {
   "cell_type": "code",
   "execution_count": 28,
   "metadata": {},
   "outputs": [
    {
     "data": {
      "text/plain": [
       "(array([0.5, 1.5, 2.5, 3.5, 4.5, 5.5, 6.5, 7.5, 8.5, 9.5]),\n",
       " [Text(0, 0.5, 'KK'),\n",
       "  Text(0, 1.5, 'VP'),\n",
       "  Text(0, 2.5, 'LL'),\n",
       "  Text(0, 3.5, 'GG'),\n",
       "  Text(0, 4.5, 'SR'),\n",
       "  Text(0, 5.5, 'GG'),\n",
       "  Text(0, 6.5, 'AA'),\n",
       "  Text(0, 7.5, 'FF'),\n",
       "  Text(0, 8.5, 'GG'),\n",
       "  Text(0, 9.5, '${\\\\dots}$')])"
      ]
     },
     "execution_count": 28,
     "metadata": {},
     "output_type": "execute_result"
    },
    {
     "data": {
      "image/png": "[encoded data removed]",
      "text/plain": [
       "<Figure size 200x800 with 1 Axes>"
      ]
     },
     "metadata": {},
     "output_type": "display_data"
    }
   ],
   "source": [
    "f, ax = plt.subplots(figsize=(2, 8))\n",
    "sns.heatmap(sample, cmap=\"crest\", vmin=score_matrix.min(), vmax=score_matrix.max(), annot=True, cbar=False)\n",
    "plt.yticks(rotation=0)"
   ]
  }
 ],
 "metadata": {
  "kernelspec": {
   "display_name": "Python 3.10.8 ('kinodata')",
   "language": "python",
   "name": "python3"
  },
  "language_info": {
   "codemirror_mode": {
    "name": "ipython",
    "version": 3
   },
   "file_extension": ".py",
   "mimetype": "text/x-python",
   "name": "python",
   "nbconvert_exporter": "python",
   "pygments_lexer": "ipython3",
   "version": "3.10.8"
  },
  "orig_nbformat": 4,
  "vscode": {
   "interpreter": {
    "hash": "528a87b2665604848835e963d9b59f6a2ef408edd78da891397a1684bf62ca9e"
   }
  }
 },
 "nbformat": 4,
 "nbformat_minor": 2
}
