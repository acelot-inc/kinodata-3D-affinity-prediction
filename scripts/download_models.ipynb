{
 "cells": [
  {
   "cell_type": "code",
   "execution_count": 75,
   "metadata": {},
   "outputs": [],
   "source": [
    "import pandas as pd\n",
    "from wandb import Api\n",
    "from wandb_utils import retrieve_best_model_artifact\n",
    "import shutil\n",
    "from pathlib import Path\n",
    "from collections import defaultdict\n",
    "from tqdm import tqdm\n",
    "import json\n",
    "\n",
    "api = Api()"
   ]
  },
  {
   "cell_type": "code",
   "execution_count": 41,
   "metadata": {},
   "outputs": [
    {
     "data": {
      "text/plain": [
       "PosixPath('../models/rmsd_cutoff_2/random-k-fold/0/CGNN')"
      ]
     },
     "execution_count": 41,
     "metadata": {},
     "output_type": "execute_result"
    }
   ],
   "source": [
    "root = Path(\"..\")\n",
    "model_dir = root / \"models\"\n",
    "if not model_dir.exists():\n",
    "    model_dir.mkdir()\n",
    "    \n",
    "def get_path(rmsd_threshold: int, split_type: str, split_fold: int, model: str) -> Path:\n",
    "    p = model_dir / f\"rmsd_cutoff_{rmsd_threshold}\" / split_type / str(split_fold) / model\n",
    "    if not p.exists():\n",
    "        p.mkdir(parents=True)\n",
    "    return p\n",
    "\n",
    "get_path(2, \"random-k-fold\", 0, \"CGNN\")"
   ]
  },
  {
   "cell_type": "code",
   "execution_count": 42,
   "metadata": {},
   "outputs": [
    {
     "data": {
      "text/html": [
       "<div>\n",
       "<style scoped>\n",
       "    .dataframe tbody tr th:only-of-type {\n",
       "        vertical-align: middle;\n",
       "    }\n",
       "\n",
       "    .dataframe tbody tr th {\n",
       "        vertical-align: top;\n",
       "    }\n",
       "\n",
       "    .dataframe thead th {\n",
       "        text-align: right;\n",
       "    }\n",
       "</style>\n",
       "<table border=\"1\" class=\"dataframe\">\n",
       "  <thead>\n",
       "    <tr style=\"text-align: right;\">\n",
       "      <th></th>\n",
       "      <th>wandb_id</th>\n",
       "      <th>split_type</th>\n",
       "      <th>split_fold</th>\n",
       "      <th>rmsd_threshold</th>\n",
       "      <th>test/corr</th>\n",
       "      <th>test/mae</th>\n",
       "      <th>model</th>\n",
       "    </tr>\n",
       "  </thead>\n",
       "  <tbody>\n",
       "    <tr>\n",
       "      <th>0</th>\n",
       "      <td>1abvnegf</td>\n",
       "      <td>random-k-fold</td>\n",
       "      <td>1</td>\n",
       "      <td>6</td>\n",
       "      <td>0.740718</td>\n",
       "      <td>0.642563</td>\n",
       "      <td>CGNN-3D</td>\n",
       "    </tr>\n",
       "    <tr>\n",
       "      <th>1</th>\n",
       "      <td>ko4x8wyq</td>\n",
       "      <td>pocket-k-fold</td>\n",
       "      <td>4</td>\n",
       "      <td>6</td>\n",
       "      <td>0.448779</td>\n",
       "      <td>0.945433</td>\n",
       "      <td>DTI</td>\n",
       "    </tr>\n",
       "    <tr>\n",
       "      <th>2</th>\n",
       "      <td>2iymo937</td>\n",
       "      <td>pocket-k-fold</td>\n",
       "      <td>4</td>\n",
       "      <td>4</td>\n",
       "      <td>0.359720</td>\n",
       "      <td>0.867832</td>\n",
       "      <td>DTI</td>\n",
       "    </tr>\n",
       "    <tr>\n",
       "      <th>3</th>\n",
       "      <td>3m7da3ej</td>\n",
       "      <td>pocket-k-fold</td>\n",
       "      <td>3</td>\n",
       "      <td>2</td>\n",
       "      <td>0.283482</td>\n",
       "      <td>0.928143</td>\n",
       "      <td>DTI</td>\n",
       "    </tr>\n",
       "    <tr>\n",
       "      <th>4</th>\n",
       "      <td>3hvgex5f</td>\n",
       "      <td>pocket-k-fold</td>\n",
       "      <td>2</td>\n",
       "      <td>2</td>\n",
       "      <td>0.313985</td>\n",
       "      <td>0.907610</td>\n",
       "      <td>DTI</td>\n",
       "    </tr>\n",
       "    <tr>\n",
       "      <th>...</th>\n",
       "      <td>...</td>\n",
       "      <td>...</td>\n",
       "      <td>...</td>\n",
       "      <td>...</td>\n",
       "      <td>...</td>\n",
       "      <td>...</td>\n",
       "      <td>...</td>\n",
       "    </tr>\n",
       "    <tr>\n",
       "      <th>170</th>\n",
       "      <td>3oapxub7</td>\n",
       "      <td>scaffold-k-fold</td>\n",
       "      <td>1</td>\n",
       "      <td>4</td>\n",
       "      <td>0.560074</td>\n",
       "      <td>0.788821</td>\n",
       "      <td>DTI</td>\n",
       "    </tr>\n",
       "    <tr>\n",
       "      <th>171</th>\n",
       "      <td>1qjju40e</td>\n",
       "      <td>scaffold-k-fold</td>\n",
       "      <td>0</td>\n",
       "      <td>4</td>\n",
       "      <td>0.512872</td>\n",
       "      <td>0.822356</td>\n",
       "      <td>DTI</td>\n",
       "    </tr>\n",
       "    <tr>\n",
       "      <th>172</th>\n",
       "      <td>1yhqbdfi</td>\n",
       "      <td>scaffold-k-fold</td>\n",
       "      <td>4</td>\n",
       "      <td>2</td>\n",
       "      <td>0.559146</td>\n",
       "      <td>0.760455</td>\n",
       "      <td>DTI</td>\n",
       "    </tr>\n",
       "    <tr>\n",
       "      <th>173</th>\n",
       "      <td>13quy6hs</td>\n",
       "      <td>scaffold-k-fold</td>\n",
       "      <td>0</td>\n",
       "      <td>2</td>\n",
       "      <td>0.528767</td>\n",
       "      <td>0.813634</td>\n",
       "      <td>DTI</td>\n",
       "    </tr>\n",
       "    <tr>\n",
       "      <th>179</th>\n",
       "      <td>xadpk2ng</td>\n",
       "      <td>scaffold-k-fold</td>\n",
       "      <td>1</td>\n",
       "      <td>2</td>\n",
       "      <td>0.513496</td>\n",
       "      <td>0.753876</td>\n",
       "      <td>DTI</td>\n",
       "    </tr>\n",
       "  </tbody>\n",
       "</table>\n",
       "<p>135 rows × 7 columns</p>\n",
       "</div>"
      ],
      "text/plain": [
       "     wandb_id       split_type  split_fold  rmsd_threshold  test/corr  \\\n",
       "0    1abvnegf    random-k-fold           1               6   0.740718   \n",
       "1    ko4x8wyq    pocket-k-fold           4               6   0.448779   \n",
       "2    2iymo937    pocket-k-fold           4               4   0.359720   \n",
       "3    3m7da3ej    pocket-k-fold           3               2   0.283482   \n",
       "4    3hvgex5f    pocket-k-fold           2               2   0.313985   \n",
       "..        ...              ...         ...             ...        ...   \n",
       "170  3oapxub7  scaffold-k-fold           1               4   0.560074   \n",
       "171  1qjju40e  scaffold-k-fold           0               4   0.512872   \n",
       "172  1yhqbdfi  scaffold-k-fold           4               2   0.559146   \n",
       "173  13quy6hs  scaffold-k-fold           0               2   0.528767   \n",
       "179  xadpk2ng  scaffold-k-fold           1               2   0.513496   \n",
       "\n",
       "     test/mae    model  \n",
       "0    0.642563  CGNN-3D  \n",
       "1    0.945433      DTI  \n",
       "2    0.867832      DTI  \n",
       "3    0.928143      DTI  \n",
       "4    0.907610      DTI  \n",
       "..        ...      ...  \n",
       "170  0.788821      DTI  \n",
       "171  0.822356      DTI  \n",
       "172  0.760455      DTI  \n",
       "173  0.813634      DTI  \n",
       "179  0.753876      DTI  \n",
       "\n",
       "[135 rows x 7 columns]"
      ]
     },
     "execution_count": 42,
     "metadata": {},
     "output_type": "execute_result"
    }
   ],
   "source": [
    "eval_data = pd.read_csv(\"eval_data_final.csv\")\n",
    "eval_data = eval_data[eval_data[\"model\"] != \"LGNN\"]\n",
    "eval_data"
   ]
  },
  {
   "cell_type": "code",
   "execution_count": 49,
   "metadata": {},
   "outputs": [
    {
     "name": "stderr",
     "output_type": "stream",
     "text": [
      "0it [00:00, ?it/s]\u001b[34m\u001b[1mwandb\u001b[0m:   1 of 1 files downloaded.  \n",
      "1it [00:00,  1.35it/s]\u001b[34m\u001b[1mwandb\u001b[0m:   1 of 1 files downloaded.  \n",
      "2it [00:01,  1.02it/s]\u001b[34m\u001b[1mwandb\u001b[0m:   1 of 1 files downloaded.  \n",
      "3it [00:02,  1.01s/it]\u001b[34m\u001b[1mwandb\u001b[0m:   1 of 1 files downloaded.  \n",
      "4it [00:03,  1.00it/s]\u001b[34m\u001b[1mwandb\u001b[0m:   1 of 1 files downloaded.  \n",
      "5it [00:04,  1.02s/it]\u001b[34m\u001b[1mwandb\u001b[0m:   1 of 1 files downloaded.  \n",
      "6it [00:06,  1.06s/it]\u001b[34m\u001b[1mwandb\u001b[0m:   1 of 1 files downloaded.  \n",
      "7it [00:07,  1.14s/it]\u001b[34m\u001b[1mwandb\u001b[0m:   1 of 1 files downloaded.  \n",
      "8it [00:09,  1.29s/it]\u001b[34m\u001b[1mwandb\u001b[0m:   1 of 1 files downloaded.  \n",
      "9it [00:10,  1.25s/it]\u001b[34m\u001b[1mwandb\u001b[0m:   1 of 1 files downloaded.  \n",
      "10it [00:11,  1.22s/it]\u001b[34m\u001b[1mwandb\u001b[0m:   1 of 1 files downloaded.  \n",
      "11it [00:12,  1.20s/it]\u001b[34m\u001b[1mwandb\u001b[0m:   1 of 1 files downloaded.  \n",
      "12it [00:13,  1.16s/it]\u001b[34m\u001b[1mwandb\u001b[0m:   1 of 1 files downloaded.  \n",
      "13it [00:15,  1.42s/it]\u001b[34m\u001b[1mwandb\u001b[0m:   1 of 1 files downloaded.  \n",
      "14it [00:16,  1.30s/it]\u001b[34m\u001b[1mwandb\u001b[0m:   1 of 1 files downloaded.  \n",
      "15it [00:17,  1.20s/it]\u001b[34m\u001b[1mwandb\u001b[0m:   1 of 1 files downloaded.  \n",
      "16it [00:18,  1.12s/it]\u001b[34m\u001b[1mwandb\u001b[0m:   1 of 1 files downloaded.  \n",
      "17it [00:19,  1.08s/it]\u001b[34m\u001b[1mwandb\u001b[0m:   1 of 1 files downloaded.  \n",
      "18it [00:20,  1.16s/it]\u001b[34m\u001b[1mwandb\u001b[0m:   1 of 1 files downloaded.  \n",
      "19it [00:22,  1.19s/it]\u001b[34m\u001b[1mwandb\u001b[0m:   1 of 1 files downloaded.  \n",
      "20it [00:23,  1.14s/it]\u001b[34m\u001b[1mwandb\u001b[0m:   1 of 1 files downloaded.  \n",
      "21it [00:24,  1.18s/it]\u001b[34m\u001b[1mwandb\u001b[0m:   1 of 1 files downloaded.  \n",
      "22it [00:25,  1.15s/it]\u001b[34m\u001b[1mwandb\u001b[0m:   1 of 1 files downloaded.  \n",
      "23it [00:26,  1.14s/it]\u001b[34m\u001b[1mwandb\u001b[0m:   1 of 1 files downloaded.  \n",
      "24it [00:27,  1.17s/it]\u001b[34m\u001b[1mwandb\u001b[0m:   1 of 1 files downloaded.  \n",
      "25it [00:29,  1.26s/it]\u001b[34m\u001b[1mwandb\u001b[0m:   1 of 1 files downloaded.  \n",
      "26it [00:30,  1.24s/it]\u001b[34m\u001b[1mwandb\u001b[0m:   1 of 1 files downloaded.  \n",
      "27it [00:31,  1.25s/it]\u001b[34m\u001b[1mwandb\u001b[0m:   1 of 1 files downloaded.  \n",
      "28it [00:32,  1.18s/it]\u001b[34m\u001b[1mwandb\u001b[0m:   1 of 1 files downloaded.  \n",
      "29it [00:33,  1.17s/it]\u001b[34m\u001b[1mwandb\u001b[0m:   1 of 1 files downloaded.  \n",
      "30it [00:35,  1.22s/it]\u001b[34m\u001b[1mwandb\u001b[0m:   1 of 1 files downloaded.  \n",
      "31it [00:36,  1.18s/it]\u001b[34m\u001b[1mwandb\u001b[0m:   1 of 1 files downloaded.  \n",
      "32it [00:37,  1.16s/it]\u001b[34m\u001b[1mwandb\u001b[0m:   1 of 1 files downloaded.  \n",
      "33it [00:38,  1.18s/it]\u001b[34m\u001b[1mwandb\u001b[0m:   1 of 1 files downloaded.  \n",
      "34it [00:39,  1.21s/it]\u001b[34m\u001b[1mwandb\u001b[0m:   1 of 1 files downloaded.  \n",
      "35it [00:41,  1.24s/it]\u001b[34m\u001b[1mwandb\u001b[0m:   1 of 1 files downloaded.  \n",
      "36it [00:42,  1.17s/it]\u001b[34m\u001b[1mwandb\u001b[0m:   1 of 1 files downloaded.  \n",
      "37it [00:43,  1.16s/it]\u001b[34m\u001b[1mwandb\u001b[0m:   1 of 1 files downloaded.  \n",
      "38it [00:44,  1.16s/it]\u001b[34m\u001b[1mwandb\u001b[0m:   1 of 1 files downloaded.  \n",
      "39it [00:45,  1.14s/it]\u001b[34m\u001b[1mwandb\u001b[0m:   1 of 1 files downloaded.  \n",
      "40it [00:47,  1.22s/it]\u001b[34m\u001b[1mwandb\u001b[0m:   1 of 1 files downloaded.  \n",
      "41it [00:47,  1.13s/it]\u001b[34m\u001b[1mwandb\u001b[0m:   1 of 1 files downloaded.  \n",
      "42it [00:49,  1.17s/it]\u001b[34m\u001b[1mwandb\u001b[0m:   1 of 1 files downloaded.  \n",
      "43it [00:50,  1.17s/it]\u001b[34m\u001b[1mwandb\u001b[0m:   1 of 1 files downloaded.  \n",
      "44it [00:51,  1.22s/it]\u001b[34m\u001b[1mwandb\u001b[0m:   1 of 1 files downloaded.  \n",
      "45it [00:52,  1.20s/it]\u001b[34m\u001b[1mwandb\u001b[0m:   1 of 1 files downloaded.  \n",
      "46it [00:53,  1.15s/it]\u001b[34m\u001b[1mwandb\u001b[0m:   1 of 1 files downloaded.  \n",
      "47it [00:55,  1.13s/it]\u001b[34m\u001b[1mwandb\u001b[0m:   1 of 1 files downloaded.  \n",
      "48it [00:56,  1.19s/it]\u001b[34m\u001b[1mwandb\u001b[0m:   1 of 1 files downloaded.  \n",
      "49it [00:57,  1.18s/it]\u001b[34m\u001b[1mwandb\u001b[0m:   1 of 1 files downloaded.  \n",
      "50it [00:58,  1.14s/it]\u001b[34m\u001b[1mwandb\u001b[0m:   1 of 1 files downloaded.  \n",
      "51it [00:59,  1.15s/it]\u001b[34m\u001b[1mwandb\u001b[0m:   1 of 1 files downloaded.  \n",
      "52it [01:00,  1.15s/it]\u001b[34m\u001b[1mwandb\u001b[0m:   1 of 1 files downloaded.  \n",
      "53it [01:02,  1.15s/it]\u001b[34m\u001b[1mwandb\u001b[0m:   1 of 1 files downloaded.  \n",
      "54it [01:03,  1.12s/it]\u001b[34m\u001b[1mwandb\u001b[0m:   1 of 1 files downloaded.  \n",
      "55it [01:04,  1.11s/it]\u001b[34m\u001b[1mwandb\u001b[0m:   1 of 1 files downloaded.  \n",
      "56it [01:05,  1.10s/it]\u001b[34m\u001b[1mwandb\u001b[0m:   1 of 1 files downloaded.  \n",
      "57it [01:06,  1.07s/it]\u001b[34m\u001b[1mwandb\u001b[0m:   1 of 1 files downloaded.  \n",
      "58it [01:07,  1.06s/it]\u001b[34m\u001b[1mwandb\u001b[0m:   1 of 1 files downloaded.  \n",
      "59it [01:08,  1.04s/it]\u001b[34m\u001b[1mwandb\u001b[0m:   1 of 1 files downloaded.  \n",
      "60it [01:09,  1.04s/it]\u001b[34m\u001b[1mwandb\u001b[0m:   1 of 1 files downloaded.  \n",
      "61it [01:10,  1.09s/it]\u001b[34m\u001b[1mwandb\u001b[0m:   1 of 1 files downloaded.  \n",
      "62it [01:11,  1.07s/it]\u001b[34m\u001b[1mwandb\u001b[0m:   1 of 1 files downloaded.  \n",
      "63it [01:12,  1.12s/it]\u001b[34m\u001b[1mwandb\u001b[0m:   1 of 1 files downloaded.  \n",
      "64it [02:28, 23.60s/it]\u001b[34m\u001b[1mwandb\u001b[0m:   1 of 1 files downloaded.  \n",
      "65it [02:30, 16.88s/it]\u001b[34m\u001b[1mwandb\u001b[0m:   1 of 1 files downloaded.  \n",
      "66it [02:31, 12.13s/it]\u001b[34m\u001b[1mwandb\u001b[0m:   1 of 1 files downloaded.  \n",
      "67it [02:32,  8.87s/it]\u001b[34m\u001b[1mwandb\u001b[0m:   1 of 1 files downloaded.  \n",
      "68it [02:33,  6.52s/it]\u001b[34m\u001b[1mwandb\u001b[0m:   1 of 1 files downloaded.  \n",
      "69it [02:34,  4.89s/it]\u001b[34m\u001b[1mwandb\u001b[0m:   1 of 1 files downloaded.  \n",
      "70it [02:35,  3.74s/it]\u001b[34m\u001b[1mwandb\u001b[0m:   1 of 1 files downloaded.  \n",
      "71it [02:36,  2.95s/it]\u001b[34m\u001b[1mwandb\u001b[0m:   1 of 1 files downloaded.  \n",
      "72it [02:37,  2.42s/it]\u001b[34m\u001b[1mwandb\u001b[0m:   1 of 1 files downloaded.  \n",
      "73it [02:38,  2.05s/it]\u001b[34m\u001b[1mwandb\u001b[0m:   1 of 1 files downloaded.  \n",
      "74it [02:40,  1.77s/it]\u001b[34m\u001b[1mwandb\u001b[0m:   1 of 1 files downloaded.  \n",
      "75it [02:41,  1.61s/it]\u001b[34m\u001b[1mwandb\u001b[0m:   1 of 1 files downloaded.  \n",
      "76it [02:42,  1.47s/it]\u001b[34m\u001b[1mwandb\u001b[0m:   1 of 1 files downloaded.  \n",
      "77it [02:43,  1.38s/it]\u001b[34m\u001b[1mwandb\u001b[0m:   1 of 1 files downloaded.  \n",
      "78it [02:44,  1.27s/it]\u001b[34m\u001b[1mwandb\u001b[0m:   1 of 1 files downloaded.  \n",
      "79it [02:45,  1.27s/it]\u001b[34m\u001b[1mwandb\u001b[0m:   1 of 1 files downloaded.  \n",
      "80it [02:47,  1.24s/it]\u001b[34m\u001b[1mwandb\u001b[0m:   1 of 1 files downloaded.  \n",
      "81it [02:48,  1.24s/it]\u001b[34m\u001b[1mwandb\u001b[0m:   1 of 1 files downloaded.  \n",
      "82it [02:49,  1.24s/it]\u001b[34m\u001b[1mwandb\u001b[0m:   1 of 1 files downloaded.  \n",
      "83it [02:50,  1.21s/it]\u001b[34m\u001b[1mwandb\u001b[0m:   1 of 1 files downloaded.  \n",
      "84it [02:51,  1.16s/it]\u001b[34m\u001b[1mwandb\u001b[0m:   1 of 1 files downloaded.  \n",
      "85it [02:53,  1.23s/it]\u001b[34m\u001b[1mwandb\u001b[0m:   1 of 1 files downloaded.  \n",
      "86it [02:54,  1.23s/it]\u001b[34m\u001b[1mwandb\u001b[0m:   1 of 1 files downloaded.  \n",
      "87it [02:55,  1.27s/it]\u001b[34m\u001b[1mwandb\u001b[0m:   1 of 1 files downloaded.  \n",
      "88it [02:56,  1.26s/it]\u001b[34m\u001b[1mwandb\u001b[0m:   1 of 1 files downloaded.  \n",
      "89it [02:58,  1.25s/it]\u001b[34m\u001b[1mwandb\u001b[0m:   1 of 1 files downloaded.  \n",
      "90it [02:59,  1.27s/it]\u001b[34m\u001b[1mwandb\u001b[0m:   1 of 1 files downloaded.  \n",
      "91it [03:00,  1.18s/it]\u001b[34m\u001b[1mwandb\u001b[0m:   1 of 1 files downloaded.  \n",
      "92it [03:01,  1.13s/it]\u001b[34m\u001b[1mwandb\u001b[0m:   1 of 1 files downloaded.  \n",
      "93it [03:02,  1.21s/it]\u001b[34m\u001b[1mwandb\u001b[0m:   1 of 1 files downloaded.  \n",
      "94it [03:04,  1.25s/it]\u001b[34m\u001b[1mwandb\u001b[0m:   1 of 1 files downloaded.  \n",
      "95it [03:05,  1.19s/it]\u001b[34m\u001b[1mwandb\u001b[0m:   1 of 1 files downloaded.  \n",
      "96it [03:06,  1.18s/it]\u001b[34m\u001b[1mwandb\u001b[0m:   1 of 1 files downloaded.  \n",
      "97it [03:07,  1.14s/it]\u001b[34m\u001b[1mwandb\u001b[0m:   1 of 1 files downloaded.  \n",
      "98it [03:09,  1.25s/it]\u001b[34m\u001b[1mwandb\u001b[0m:   1 of 1 files downloaded.  \n",
      "99it [03:10,  1.25s/it]\u001b[34m\u001b[1mwandb\u001b[0m:   1 of 1 files downloaded.  \n",
      "100it [03:11,  1.26s/it]\u001b[34m\u001b[1mwandb\u001b[0m:   1 of 1 files downloaded.  \n",
      "101it [03:12,  1.22s/it]\u001b[34m\u001b[1mwandb\u001b[0m:   1 of 1 files downloaded.  \n",
      "102it [03:13,  1.22s/it]\u001b[34m\u001b[1mwandb\u001b[0m:   1 of 1 files downloaded.  \n",
      "103it [03:15,  1.25s/it]\u001b[34m\u001b[1mwandb\u001b[0m:   1 of 1 files downloaded.  \n",
      "104it [03:16,  1.26s/it]\u001b[34m\u001b[1mwandb\u001b[0m:   1 of 1 files downloaded.  \n",
      "105it [03:17,  1.30s/it]\u001b[34m\u001b[1mwandb\u001b[0m:   1 of 1 files downloaded.  \n",
      "106it [03:19,  1.27s/it]\u001b[34m\u001b[1mwandb\u001b[0m:   1 of 1 files downloaded.  \n",
      "107it [03:20,  1.25s/it]\u001b[34m\u001b[1mwandb\u001b[0m:   1 of 1 files downloaded.  \n",
      "108it [03:21,  1.31s/it]\u001b[34m\u001b[1mwandb\u001b[0m:   1 of 1 files downloaded.  \n",
      "109it [03:22,  1.28s/it]\u001b[34m\u001b[1mwandb\u001b[0m:   1 of 1 files downloaded.  \n",
      "110it [03:24,  1.30s/it]\u001b[34m\u001b[1mwandb\u001b[0m:   1 of 1 files downloaded.  \n",
      "111it [03:25,  1.28s/it]\u001b[34m\u001b[1mwandb\u001b[0m:   1 of 1 files downloaded.  \n",
      "112it [03:26,  1.27s/it]\u001b[34m\u001b[1mwandb\u001b[0m:   1 of 1 files downloaded.  \n",
      "113it [03:28,  1.27s/it]\u001b[34m\u001b[1mwandb\u001b[0m:   1 of 1 files downloaded.  \n",
      "114it [03:29,  1.23s/it]\u001b[34m\u001b[1mwandb\u001b[0m:   1 of 1 files downloaded.  \n",
      "115it [03:30,  1.21s/it]\u001b[34m\u001b[1mwandb\u001b[0m:   1 of 1 files downloaded.  \n",
      "116it [03:31,  1.19s/it]\u001b[34m\u001b[1mwandb\u001b[0m:   1 of 1 files downloaded.  \n",
      "117it [03:32,  1.12s/it]\u001b[34m\u001b[1mwandb\u001b[0m:   1 of 1 files downloaded.  \n",
      "118it [03:33,  1.10s/it]\u001b[34m\u001b[1mwandb\u001b[0m:   1 of 1 files downloaded.  \n",
      "119it [03:34,  1.06s/it]\u001b[34m\u001b[1mwandb\u001b[0m:   1 of 1 files downloaded.  \n",
      "120it [03:35,  1.10s/it]\u001b[34m\u001b[1mwandb\u001b[0m:   1 of 1 files downloaded.  \n",
      "121it [03:36,  1.14s/it]\u001b[34m\u001b[1mwandb\u001b[0m:   1 of 1 files downloaded.  \n",
      "122it [03:37,  1.12s/it]\u001b[34m\u001b[1mwandb\u001b[0m:   1 of 1 files downloaded.  \n",
      "123it [03:39,  1.12s/it]\u001b[34m\u001b[1mwandb\u001b[0m:   1 of 1 files downloaded.  \n",
      "124it [03:40,  1.16s/it]\u001b[34m\u001b[1mwandb\u001b[0m:   1 of 1 files downloaded.  \n",
      "125it [03:41,  1.25s/it]\u001b[34m\u001b[1mwandb\u001b[0m:   1 of 1 files downloaded.  \n",
      "126it [03:42,  1.23s/it]\u001b[34m\u001b[1mwandb\u001b[0m:   1 of 1 files downloaded.  \n",
      "127it [03:44,  1.25s/it]\u001b[34m\u001b[1mwandb\u001b[0m:   1 of 1 files downloaded.  \n",
      "128it [03:45,  1.26s/it]\u001b[34m\u001b[1mwandb\u001b[0m:   1 of 1 files downloaded.  \n",
      "129it [03:46,  1.18s/it]\u001b[34m\u001b[1mwandb\u001b[0m:   1 of 1 files downloaded.  \n",
      "130it [03:47,  1.18s/it]\u001b[34m\u001b[1mwandb\u001b[0m:   1 of 1 files downloaded.  \n",
      "131it [03:48,  1.18s/it]\u001b[34m\u001b[1mwandb\u001b[0m:   1 of 1 files downloaded.  \n",
      "132it [03:50,  1.16s/it]\u001b[34m\u001b[1mwandb\u001b[0m:   1 of 1 files downloaded.  \n",
      "133it [03:51,  1.19s/it]\u001b[34m\u001b[1mwandb\u001b[0m:   1 of 1 files downloaded.  \n",
      "134it [03:52,  1.19s/it]\u001b[34m\u001b[1mwandb\u001b[0m:   1 of 1 files downloaded.  \n",
      "135it [03:53,  1.73s/it]\n"
     ]
    }
   ],
   "source": [
    "for _, row in tqdm(eval_data.iterrows()):\n",
    "    run_id = row[\"wandb_id\"]\n",
    "    \n",
    "    run = api.run(f\"nextaids/kinodata-docked-rescore/{run_id}\")\n",
    "    json_config = run.json_config\n",
    "    artifact = retrieve_best_model_artifact(run)\n",
    "    artifact_path = Path(artifact.download())\n",
    "    \n",
    "    target_path = get_path(\n",
    "        row[\"rmsd_threshold\"],\n",
    "        row[\"split_type\"],\n",
    "        row[\"split_fold\"],\n",
    "        row[\"model\"]\n",
    "    )\n",
    "    for subdir in target_path.iterdir():\n",
    "        shutil.rmtree(subdir)\n",
    "    \n",
    "    shutil.move(artifact_path, target_path)\n",
    "    with open(target_path / \"config.json\", \"w\") as f_config:\n",
    "        f_config.write(json_config)"
   ]
  },
  {
   "cell_type": "code",
   "execution_count": 80,
   "metadata": {},
   "outputs": [
    {
     "name": "stderr",
     "output_type": "stream",
     "text": [
      "Failed to detect the name of this notebook, you can set it manually with the WANDB_NOTEBOOK_NAME environment variable to enable code saving.\n",
      "\u001b[34m\u001b[1mwandb\u001b[0m: Currently logged in as: \u001b[33mjoschka\u001b[0m (\u001b[33mnextaids\u001b[0m). Use \u001b[1m`wandb login --relogin`\u001b[0m to force relogin\n"
     ]
    },
    {
     "data": {
      "text/html": [
       "wandb version 0.16.1 is available!  To upgrade, please run:\n",
       " $ pip install wandb --upgrade"
      ],
      "text/plain": [
       "<IPython.core.display.HTML object>"
      ]
     },
     "metadata": {},
     "output_type": "display_data"
    },
    {
     "data": {
      "text/html": [
       "Tracking run with wandb version 0.13.9"
      ],
      "text/plain": [
       "<IPython.core.display.HTML object>"
      ]
     },
     "metadata": {},
     "output_type": "display_data"
    },
    {
     "data": {
      "text/html": [
       "Run data is saved locally in <code>/Users/joschka/projects/kinodata-docked-rescore/scripts/wandb/run-20231218_113307-zw0mupfo</code>"
      ],
      "text/plain": [
       "<IPython.core.display.HTML object>"
      ]
     },
     "metadata": {},
     "output_type": "display_data"
    },
    {
     "data": {
      "text/html": [
       "Syncing run <strong><a href=\"https://wandb.ai/nextaids/kinodata-docked-rescore-scripts/runs/zw0mupfo\" target=\"_blank\">super-yogurt-1</a></strong> to <a href=\"https://wandb.ai/nextaids/kinodata-docked-rescore-scripts\" target=\"_blank\">Weights & Biases</a> (<a href=\"https://wandb.me/run\" target=\"_blank\">docs</a>)<br/>"
      ],
      "text/plain": [
       "<IPython.core.display.HTML object>"
      ]
     },
     "metadata": {},
     "output_type": "display_data"
    },
    {
     "data": {
      "text/html": [
       " View project at <a href=\"https://wandb.ai/nextaids/kinodata-docked-rescore-scripts\" target=\"_blank\">https://wandb.ai/nextaids/kinodata-docked-rescore-scripts</a>"
      ],
      "text/plain": [
       "<IPython.core.display.HTML object>"
      ]
     },
     "metadata": {},
     "output_type": "display_data"
    },
    {
     "data": {
      "text/html": [
       " View run at <a href=\"https://wandb.ai/nextaids/kinodata-docked-rescore-scripts/runs/zw0mupfo\" target=\"_blank\">https://wandb.ai/nextaids/kinodata-docked-rescore-scripts/runs/zw0mupfo</a>"
      ],
      "text/plain": [
       "<IPython.core.display.HTML object>"
      ]
     },
     "metadata": {},
     "output_type": "display_data"
    },
    {
     "data": {
      "text/html": [
       "<button onClick=\"this.nextSibling.style.display='block';this.style.display='none';\">Display W&B run</button><iframe src=\"https://wandb.ai/nextaids/kinodata-docked-rescore-scripts/runs/zw0mupfo?jupyter=true\" style=\"border:none;width:100%;height:420px;display:none;\"></iframe>"
      ],
      "text/plain": [
       "<wandb.sdk.wandb_run.Run at 0x1353c4640>"
      ]
     },
     "execution_count": 80,
     "metadata": {},
     "output_type": "execute_result"
    }
   ],
   "source": [
    "import wandb\n",
    "wandb.init()"
   ]
  },
  {
   "cell_type": "code",
   "execution_count": 81,
   "metadata": {},
   "outputs": [],
   "source": [
    "from kinodata.model.complex_transformer import ComplexTransformer\n",
    "from kinodata.model.dti import DTIModel\n",
    "\n",
    "model_cls = {\n",
    "    \"DTI\": DTIModel,\n",
    "    \"CGNN\": ComplexTransformer,\n",
    "    \"CGNN-3D\": ComplexTransformer\n",
    "}\n",
    "\n",
    "p = get_path(2, \"scaffold-k-fold\", 0, \"CGNN\")\n",
    "mp = p / \"model.ckpt\"\n",
    "\n",
    "def load_from_checkpoint(\n",
    "    rmsd_threshold,\n",
    "    split_type,\n",
    "    fold,\n",
    "    model\n",
    "):\n",
    "    cls = model_cls[model]\n",
    "    p = get_path(rmsd_threshold, split_type, fold, model)\n",
    "    ckp_path = p / \"model.ckpt\"\n",
    "    with open(p / \"config.json\", \"r\") as f_config:\n",
    "        config = json.load(f_config)\n",
    "    config = {key: value[\"value\"] for key, value in config.items()}\n",
    "    model = cls.load_from_checkpoint(ckp_path, **config)\n",
    "    return model"
   ]
  },
  {
   "cell_type": "code",
   "execution_count": null,
   "metadata": {},
   "outputs": [],
   "source": [
    "ComplexTransformer.load_from_checkpoint()"
   ]
  },
  {
   "cell_type": "code",
   "execution_count": 82,
   "metadata": {},
   "outputs": [
    {
     "ename": "AttributeError",
     "evalue": "'dict' object has no attribute 'loss_type'",
     "output_type": "error",
     "traceback": [
      "\u001b[0;31m---------------------------------------------------------------------------\u001b[0m",
      "\u001b[0;31mAttributeError\u001b[0m                            Traceback (most recent call last)",
      "Cell \u001b[0;32mIn[82], line 1\u001b[0m\n\u001b[0;32m----> 1\u001b[0m \u001b[43mload_from_checkpoint\u001b[49m\u001b[43m(\u001b[49m\u001b[38;5;241;43m2\u001b[39;49m\u001b[43m,\u001b[49m\u001b[43m \u001b[49m\u001b[38;5;124;43m\"\u001b[39;49m\u001b[38;5;124;43mscaffold-k-fold\u001b[39;49m\u001b[38;5;124;43m\"\u001b[39;49m\u001b[43m,\u001b[49m\u001b[43m \u001b[49m\u001b[38;5;241;43m0\u001b[39;49m\u001b[43m,\u001b[49m\u001b[43m \u001b[49m\u001b[38;5;124;43m\"\u001b[39;49m\u001b[38;5;124;43mCGNN\u001b[39;49m\u001b[38;5;124;43m\"\u001b[39;49m\u001b[43m)\u001b[49m\n",
      "Cell \u001b[0;32mIn[81], line 25\u001b[0m, in \u001b[0;36mload_from_checkpoint\u001b[0;34m(rmsd_threshold, split_type, fold, model)\u001b[0m\n\u001b[1;32m     23\u001b[0m     config \u001b[38;5;241m=\u001b[39m json\u001b[38;5;241m.\u001b[39mload(f_config)\n\u001b[1;32m     24\u001b[0m config \u001b[38;5;241m=\u001b[39m {key: value[\u001b[38;5;124m\"\u001b[39m\u001b[38;5;124mvalue\u001b[39m\u001b[38;5;124m\"\u001b[39m] \u001b[38;5;28;01mfor\u001b[39;00m key, value \u001b[38;5;129;01min\u001b[39;00m config\u001b[38;5;241m.\u001b[39mitems()}\n\u001b[0;32m---> 25\u001b[0m model \u001b[38;5;241m=\u001b[39m \u001b[38;5;28;43mcls\u001b[39;49m\u001b[38;5;241;43m.\u001b[39;49m\u001b[43mload_from_checkpoint\u001b[49m\u001b[43m(\u001b[49m\u001b[43mckp_path\u001b[49m\u001b[43m,\u001b[49m\u001b[43m \u001b[49m\u001b[38;5;241;43m*\u001b[39;49m\u001b[38;5;241;43m*\u001b[39;49m\u001b[43mconfig\u001b[49m\u001b[43m)\u001b[49m\n\u001b[1;32m     26\u001b[0m \u001b[38;5;28;01mreturn\u001b[39;00m model\n",
      "File \u001b[0;32m~/mambaforge/envs/kinodata/lib/python3.10/site-packages/pytorch_lightning/core/saving.py:137\u001b[0m, in \u001b[0;36mModelIO.load_from_checkpoint\u001b[0;34m(cls, checkpoint_path, map_location, hparams_file, strict, **kwargs)\u001b[0m\n\u001b[1;32m     57\u001b[0m \u001b[39m@classmethod\u001b[39m\n\u001b[1;32m     58\u001b[0m \u001b[39mdef\u001b[39;00m \u001b[39mload_from_checkpoint\u001b[39m(\n\u001b[1;32m     59\u001b[0m     \u001b[39mcls\u001b[39m,\n\u001b[0;32m   (...)\u001b[0m\n\u001b[1;32m     64\u001b[0m     \u001b[39m*\u001b[39m\u001b[39m*\u001b[39mkwargs: Any,\n\u001b[1;32m     65\u001b[0m ) \u001b[39m-\u001b[39m\u001b[39m>\u001b[39m Self:  \u001b[39m# type: ignore[valid-type]\u001b[39;00m\n\u001b[1;32m     66\u001b[0m \u001b[39m    \u001b[39m\u001b[39mr\u001b[39m\u001b[39m\"\"\"\u001b[39;00m\n\u001b[1;32m     67\u001b[0m \u001b[39m    Primary way of loading a model from a checkpoint. When Lightning saves a checkpoint\u001b[39;00m\n\u001b[1;32m     68\u001b[0m \u001b[39m    it stores the arguments passed to ``__init__``  in the checkpoint under ``\"hyper_parameters\"``.\u001b[39;00m\n\u001b[0;32m   (...)\u001b[0m\n\u001b[1;32m    135\u001b[0m \u001b[39m        y_hat = pretrained_model(x)\u001b[39;00m\n\u001b[1;32m    136\u001b[0m \u001b[39m    \"\"\"\u001b[39;00m\n\u001b[0;32m--> 137\u001b[0m     \u001b[39mreturn\u001b[39;00m _load_from_checkpoint(\n\u001b[1;32m    138\u001b[0m         \u001b[39mcls\u001b[39;49m,\n\u001b[1;32m    139\u001b[0m         checkpoint_path,\n\u001b[1;32m    140\u001b[0m         map_location,\n\u001b[1;32m    141\u001b[0m         hparams_file,\n\u001b[1;32m    142\u001b[0m         strict,\n\u001b[1;32m    143\u001b[0m         \u001b[39m*\u001b[39;49m\u001b[39m*\u001b[39;49mkwargs,\n\u001b[1;32m    144\u001b[0m     )\n",
      "File \u001b[0;32m~/mambaforge/envs/kinodata/lib/python3.10/site-packages/pytorch_lightning/core/saving.py:180\u001b[0m, in \u001b[0;36m_load_from_checkpoint\u001b[0;34m(cls, checkpoint_path, map_location, hparams_file, strict, **kwargs)\u001b[0m\n\u001b[1;32m    178\u001b[0m     \u001b[39mreturn\u001b[39;00m _load_state(\u001b[39mcls\u001b[39m, checkpoint, \u001b[39m*\u001b[39m\u001b[39m*\u001b[39mkwargs)\n\u001b[1;32m    179\u001b[0m \u001b[39mif\u001b[39;00m \u001b[39missubclass\u001b[39m(\u001b[39mcls\u001b[39m, pl\u001b[39m.\u001b[39mLightningModule):\n\u001b[0;32m--> 180\u001b[0m     \u001b[39mreturn\u001b[39;00m _load_state(\u001b[39mcls\u001b[39;49m, checkpoint, strict\u001b[39m=\u001b[39;49mstrict, \u001b[39m*\u001b[39;49m\u001b[39m*\u001b[39;49mkwargs)\n\u001b[1;32m    181\u001b[0m \u001b[39mraise\u001b[39;00m \u001b[39mNotImplementedError\u001b[39;00m(\u001b[39mf\u001b[39m\u001b[39m\"\u001b[39m\u001b[39mUnsupported \u001b[39m\u001b[39m{\u001b[39;00m\u001b[39mcls\u001b[39m\u001b[39m}\u001b[39;00m\u001b[39m\"\u001b[39m)\n",
      "File \u001b[0;32m~/mambaforge/envs/kinodata/lib/python3.10/site-packages/pytorch_lightning/core/saving.py:225\u001b[0m, in \u001b[0;36m_load_state\u001b[0;34m(cls, checkpoint, strict, **cls_kwargs_new)\u001b[0m\n\u001b[1;32m    221\u001b[0m \u001b[39mif\u001b[39;00m \u001b[39mnot\u001b[39;00m cls_spec\u001b[39m.\u001b[39mvarkw:\n\u001b[1;32m    222\u001b[0m     \u001b[39m# filter kwargs according to class init unless it allows any argument via kwargs\u001b[39;00m\n\u001b[1;32m    223\u001b[0m     _cls_kwargs \u001b[39m=\u001b[39m {k: v \u001b[39mfor\u001b[39;00m k, v \u001b[39min\u001b[39;00m _cls_kwargs\u001b[39m.\u001b[39mitems() \u001b[39mif\u001b[39;00m k \u001b[39min\u001b[39;00m cls_init_args_name}\n\u001b[0;32m--> 225\u001b[0m obj \u001b[39m=\u001b[39m \u001b[39mcls\u001b[39;49m(\u001b[39m*\u001b[39;49m\u001b[39m*\u001b[39;49m_cls_kwargs)\n\u001b[1;32m    227\u001b[0m \u001b[39mif\u001b[39;00m \u001b[39misinstance\u001b[39m(obj, pl\u001b[39m.\u001b[39mLightningModule):\n\u001b[1;32m    228\u001b[0m     \u001b[39m# give model a chance to load something\u001b[39;00m\n\u001b[1;32m    229\u001b[0m     obj\u001b[39m.\u001b[39mon_load_checkpoint(checkpoint)\n",
      "File \u001b[0;32m~/projects/kinodata-docked-rescore/kinodata/model/complex_transformer.py:159\u001b[0m, in \u001b[0;36mComplexTransformer.__init__\u001b[0;34m(self, config, hidden_channels, num_heads, num_attention_blocks, interaction_radius, max_num_neighbors, act, max_atomic_number, atom_attr_size, ln1, ln2, ln3, graph_norm, decoder_hidden_layers, interaction_modes, dropout)\u001b[0m\n\u001b[1;32m    140\u001b[0m \u001b[39mdef\u001b[39;00m \u001b[39m__init__\u001b[39m(\n\u001b[1;32m    141\u001b[0m     \u001b[39mself\u001b[39m,\n\u001b[1;32m    142\u001b[0m     config,\n\u001b[0;32m   (...)\u001b[0m\n\u001b[1;32m    157\u001b[0m     dropout: \u001b[39mfloat\u001b[39m \u001b[39m=\u001b[39m \u001b[39m0.1\u001b[39m,\n\u001b[1;32m    158\u001b[0m ) \u001b[39m-\u001b[39m\u001b[39m>\u001b[39m \u001b[39mNone\u001b[39;00m:\n\u001b[0;32m--> 159\u001b[0m     \u001b[39msuper\u001b[39;49m()\u001b[39m.\u001b[39;49m\u001b[39m__init__\u001b[39;49m(config)\n\u001b[1;32m    160\u001b[0m     \u001b[39massert\u001b[39;00m \u001b[39mlen\u001b[39m(config[\u001b[39m\"\u001b[39m\u001b[39mnode_types\u001b[39m\u001b[39m\"\u001b[39m]) \u001b[39m==\u001b[39m \u001b[39m1\u001b[39m\n\u001b[1;32m    161\u001b[0m     \u001b[39massert\u001b[39;00m config[\u001b[39m\"\u001b[39m\u001b[39mnode_types\u001b[39m\u001b[39m\"\u001b[39m][\u001b[39m0\u001b[39m] \u001b[39m==\u001b[39m NodeType\u001b[39m.\u001b[39mComplex\n",
      "File \u001b[0;32m~/projects/kinodata-docked-rescore/kinodata/model/regression.py:48\u001b[0m, in \u001b[0;36mRegressionModel.__init__\u001b[0;34m(self, config)\u001b[0m\n\u001b[1;32m     46\u001b[0m \u001b[39mself\u001b[39m\u001b[39m.\u001b[39msave_hyperparameters(config)  \u001b[39m# triggers wandb hook\u001b[39;00m\n\u001b[1;32m     47\u001b[0m \u001b[39mself\u001b[39m\u001b[39m.\u001b[39mdefine_metrics()\n\u001b[0;32m---> 48\u001b[0m \u001b[39mself\u001b[39;49m\u001b[39m.\u001b[39;49mset_criterion()\n",
      "File \u001b[0;32m~/projects/kinodata-docked-rescore/kinodata/model/regression.py:51\u001b[0m, in \u001b[0;36mRegressionModel.set_criterion\u001b[0;34m(self)\u001b[0m\n\u001b[1;32m     50\u001b[0m \u001b[39mdef\u001b[39;00m \u001b[39mset_criterion\u001b[39m(\u001b[39mself\u001b[39m):\n\u001b[0;32m---> 51\u001b[0m     \u001b[39mself\u001b[39m\u001b[39m.\u001b[39mcriterion \u001b[39m=\u001b[39m resolve_loss(\u001b[39mself\u001b[39;49m\u001b[39m.\u001b[39;49mconfig\u001b[39m.\u001b[39;49mloss_type)\n",
      "\u001b[0;31mAttributeError\u001b[0m: 'dict' object has no attribute 'loss_type'"
     ]
    }
   ],
   "source": [
    "load_from_checkpoint(2, \"scaffold-k-fold\", 0, \"CGNN\")"
   ]
  },
  {
   "cell_type": "code",
   "execution_count": null,
   "metadata": {},
   "outputs": [],
   "source": []
  }
 ],
 "metadata": {
  "kernelspec": {
   "display_name": "Python 3.10.8 ('kinodata')",
   "language": "python",
   "name": "python3"
  },
  "language_info": {
   "codemirror_mode": {
    "name": "ipython",
    "version": 3
   },
   "file_extension": ".py",
   "mimetype": "text/x-python",
   "name": "python",
   "nbconvert_exporter": "python",
   "pygments_lexer": "ipython3",
   "version": "3.10.8"
  },
  "orig_nbformat": 4,
  "vscode": {
   "interpreter": {
    "hash": "528a87b2665604848835e963d9b59f6a2ef408edd78da891397a1684bf62ca9e"
   }
  }
 },
 "nbformat": 4,
 "nbformat_minor": 2
}
