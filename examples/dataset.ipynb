{
 "cells": [
  {
   "cell_type": "markdown",
   "metadata": {},
   "source": [
    "# Working with the Kinodata-3D dataset"
   ]
  },
  {
   "cell_type": "markdown",
   "metadata": {},
   "source": [
    "If you plan to use Kinodata-3D within any projects that involve geometric deep learning based on [PyTorch Geometric](https://pytorch-geometric.readthedocs.io/en/latest/) you can re-use [our PyG dataset](#pyg-dataset).\n",
    "\n",
    "For all other cases, we provide a [framework-agnostic dataset](#framework-agnostic-dataset)."
   ]
  },
  {
   "cell_type": "markdown",
   "metadata": {},
   "source": [
    "## Framework-agnostic dataset"
   ]
  },
  {
   "cell_type": "code",
   "execution_count": null,
   "metadata": {},
   "outputs": [
    {
     "name": "stdout",
     "output_type": "stream",
     "text": [
      "Loading raw data from /Users/joschka/projects/kinodata-docked-rescore/data/raw...\n",
      "Reading data frame from /Users/joschka/projects/kinodata-docked-rescore/data/raw/kinodata_docked_with_rmsd.sdf.gz...\n",
      "Deduping data frame (current size: 124761)...\n",
      "122747 complexes remain after deduplication.\n",
      "Checking for missing pocket mol2 files...\n"
     ]
    },
    {
     "name": "stderr",
     "output_type": "stream",
     "text": [
      "100%|██████████| 2885/2885 [00:00<00:00, 18687.87it/s]\n"
     ]
    },
    {
     "name": "stdout",
     "output_type": "stream",
     "text": [
      "Adding pocket sequences from cached file /Users/joschka/projects/kinodata-docked-rescore/data/raw/pocket_sequences.csv.\n",
      "Converting to data list...\n",
      "Done!\n"
     ]
    }
   ],
   "source": [
    "from kinodata.data import KinodataDockedAgnostic\n",
    "\n",
    "dataset = KinodataDockedAgnostic()"
   ]
  },
  {
   "cell_type": "code",
   "execution_count": null,
   "metadata": {},
   "outputs": [
    {
     "data": {
      "text/plain": [
       "ComplexInformation(kinodata_ident='32336', compound_smiles='Nc1ncnc2c1c(-c1cccc(Oc3ccccc3)c1)cn2C1CCCC1', molecule=<rdkit.Chem.rdchem.Mol object at 0x1360f87b0>, activity_value=5.468521, activity_type='pIC50', pocket_mol2_file=PosixPath('/Users/joschka/projects/kinodata-docked-rescore/data/raw/mol2/pocket/5553_pocket.mol2'), docking_score=-10.307055, posit_probability=0.24, klifs_structure_id=5553, pocket_sequence='DVIGEG__GQVLKAAIKRM____ELEVLCKLGPNIINLLGAYLAIEYAPHGNLLDFLRKYLSQKQFIHRNLAARNILVIADFGLS', predicted_rmsd=4.790116, remove_hydrogen=True)"
      ]
     },
     "execution_count": 4,
     "metadata": {},
     "output_type": "execute_result"
    }
   ],
   "source": [
    "next(iter(dataset))"
   ]
  },
  {
   "cell_type": "markdown",
   "metadata": {},
   "source": [
    "## PyG Dataset"
   ]
  },
  {
   "cell_type": "code",
   "execution_count": null,
   "metadata": {},
   "outputs": [],
   "source": [
    "from kinodata.data.dataset import KinodataDocked"
   ]
  },
  {
   "cell_type": "markdown",
   "metadata": {},
   "source": [
    "### Create/load the dataset\n",
    "Instantiating the dataset for the first time will trigger the data preprocessing, which creates the PyG data objects.\n",
    "This process takes a while (~ 1 hour on a 2021 MacBook Pro), but the result is cached on disk to accelerate future instantiations.\n",
    "\n",
    "**Note**: you may also obtain our [preprocessed version of the dataset](...)."
   ]
  },
  {
   "cell_type": "code",
   "execution_count": null,
   "metadata": {},
   "outputs": [
    {
     "data": {
      "text/plain": [
       "KinodataDocked(104836)"
      ]
     },
     "execution_count": 37,
     "metadata": {},
     "output_type": "execute_result"
    }
   ],
   "source": [
    "dataset = KinodataDocked()\n",
    "dataset"
   ]
  },
  {
   "cell_type": "markdown",
   "metadata": {},
   "source": [
    "### Data representation and data loading\n",
    "Docked complexes are stored/represented as [heterogenous graph data](https://pytorch-geometric.readthedocs.io/en/latest/generated/torch_geometric.data.HeteroData.html?highlight=heterodata) objects."
   ]
  },
  {
   "cell_type": "code",
   "execution_count": null,
   "metadata": {},
   "outputs": [
    {
     "name": "stdout",
     "output_type": "stream",
     "text": [
      "HeteroData(\n",
      "  kissim_fp=[1, 85, 12],\n",
      "  y=[1],\n",
      "  docking_score=[1],\n",
      "  posit_prob=[1],\n",
      "  predicted_rmsd=[1],\n",
      "  pocket_sequence='KSLGRGAFGKVVQVAVKMLALMTELKILTHIGLNVVNLLGAMVIVEYCKYGNLSNYLKSFLSSRKCIHRDLAARNILLICDFGLA',\n",
      "  scaffold='C1CCC(CC2CCCC2)CC1',\n",
      "  activity_type='pIC50',\n",
      "  ident='53974',\n",
      "  smiles='Cc1cnc(Nc2ccccn2)s1',\n",
      "  \u001b[1mligand\u001b[0m={\n",
      "    z=[13],\n",
      "    x=[13, 12],\n",
      "    pos=[13, 3]\n",
      "  },\n",
      "  \u001b[1mpocket\u001b[0m={\n",
      "    z=[652],\n",
      "    x=[652, 12],\n",
      "    pos=[652, 3]\n",
      "  },\n",
      "  \u001b[1mpocket_residue\u001b[0m={ x=[85, 23] },\n",
      "  \u001b[1m(ligand, bond, ligand)\u001b[0m={\n",
      "    edge_index=[2, 28],\n",
      "    edge_attr=[28, 4]\n",
      "  },\n",
      "  \u001b[1m(pocket, bond, pocket)\u001b[0m={\n",
      "    edge_index=[2, 1306],\n",
      "    edge_attr=[1306, 4]\n",
      "  }\n",
      ")\n"
     ]
    }
   ],
   "source": [
    "data = dataset[42]\n",
    "print(data)"
   ]
  },
  {
   "cell_type": "code",
   "execution_count": null,
   "metadata": {},
   "outputs": [
    {
     "name": "stdout",
     "output_type": "stream",
     "text": [
      "Node types: ligand, pocket, pocket_residue\n",
      "Edge types: ('ligand', 'bond', 'ligand'), ('pocket', 'bond', 'pocket')\n",
      "Number of ligand heavy atoms: 13\n",
      "Number of pocket heavy atoms: 652\n",
      "Position of ligand atom indexed 0: tensor([ 1.3422, 21.6702, 38.2683])\n",
      "Position of pocket atom indexed 0: tensor([ 9.7198, 18.2420, 49.8679])\n"
     ]
    }
   ],
   "source": [
    "node_types, edge_types = data.metadata()\n",
    "print(f\"Node types: {', '.join([nt for nt in node_types])}\")\n",
    "print(f\"Edge types: {', '.join([str(et) for et in edge_types])}\")\n",
    "print(f\"Number of ligand heavy atoms: {data['ligand'].x.size(0)}\")\n",
    "print(f\"Number of pocket heavy atoms: {data['pocket'].x.size(0)}\")\n",
    "print(f\"Position of ligand atom indexed 0: {data['ligand'].pos[0]}\")\n",
    "print(f\"Position of pocket atom indexed 0: {data['pocket'].pos[0]}\")"
   ]
  },
  {
   "cell_type": "markdown",
   "metadata": {},
   "source": [
    "Typically you'll want split data into train, test (and validation) sets.\n",
    "You can choose to reuse our code for creating a data module that hosts datasets and loaders for train, test and validation splits."
   ]
  },
  {
   "cell_type": "code",
   "execution_count": null,
   "metadata": {},
   "outputs": [],
   "source": [
    "from kinodata.data.data_module import make_data_module\n",
    "from kinodata.data.grouped_split import KinodataKFoldSplit"
   ]
  },
  {
   "cell_type": "markdown",
   "metadata": {},
   "source": [
    "We support the three types of $k$-fold data splits, random, scaffold-based and pocket sequence-based. For details see the Kinodata-3D publication."
   ]
  },
  {
   "cell_type": "code",
   "execution_count": null,
   "metadata": {},
   "outputs": [],
   "source": [
    "from typing import Literal\n",
    "\n",
    "split_type: Literal[\"random-k-fold\", \"scaffold-k-fold\", \"pocket-k-fold\"] = \"random-k-fold\"\n",
    "demo_split = KinodataKFoldSplit(split_type, k=5).split(dataset)[0]"
   ]
  },
  {
   "cell_type": "code",
   "execution_count": null,
   "metadata": {},
   "outputs": [],
   "source": [
    "# this could take a while, expect ~60 seconds\n",
    "data_module = make_data_module(\n",
    "   split=demo_split,\n",
    "   batch_size=32,\n",
    "   dataset_cls=KinodataDocked,\n",
    "   num_workers=0,\n",
    "   train_kwargs=dict(),\n",
    ")"
   ]
  },
  {
   "cell_type": "code",
   "execution_count": null,
   "metadata": {},
   "outputs": [
    {
     "data": {
      "text/plain": [
       "HeteroDataBatch(\n",
       "  kissim_fp=[32, 85, 12],\n",
       "  y=[32],\n",
       "  docking_score=[32],\n",
       "  posit_prob=[32],\n",
       "  predicted_rmsd=[32],\n",
       "  pocket_sequence=[32],\n",
       "  scaffold=[32],\n",
       "  activity_type=[32],\n",
       "  ident=[32],\n",
       "  smiles=[32],\n",
       "  \u001b[1mligand\u001b[0m={\n",
       "    z=[938],\n",
       "    x=[938, 12],\n",
       "    pos=[938, 3],\n",
       "    batch=[938],\n",
       "    ptr=[33]\n",
       "  },\n",
       "  \u001b[1mpocket\u001b[0m={\n",
       "    z=[21109],\n",
       "    x=[21109, 12],\n",
       "    pos=[21109, 3],\n",
       "    batch=[21109],\n",
       "    ptr=[33]\n",
       "  },\n",
       "  \u001b[1mpocket_residue\u001b[0m={\n",
       "    x=[2720, 23],\n",
       "    batch=[2720],\n",
       "    ptr=[33]\n",
       "  },\n",
       "  \u001b[1m(ligand, bond, ligand)\u001b[0m={\n",
       "    edge_index=[2, 2074],\n",
       "    edge_attr=[2074, 4]\n",
       "  },\n",
       "  \u001b[1m(pocket, bond, pocket)\u001b[0m={\n",
       "    edge_index=[2, 42564],\n",
       "    edge_attr=[42564, 4]\n",
       "  }\n",
       ")"
      ]
     },
     "execution_count": 18,
     "metadata": {},
     "output_type": "execute_result"
    }
   ],
   "source": [
    "demo_batch = next(iter(data_module.train_dataloader()))\n",
    "demo_batch"
   ]
  },
  {
   "cell_type": "markdown",
   "metadata": {},
   "source": [
    "For more technical information on data splits see [examples/data_splits.ipynb](data_splits.ipynb)."
   ]
  },
  {
   "cell_type": "markdown",
   "metadata": {},
   "source": [
    "### Complex graph representation"
   ]
  },
  {
   "cell_type": "code",
   "execution_count": null,
   "metadata": {},
   "outputs": [],
   "source": [
    "import kinodata.transform as T"
   ]
  },
  {
   "cell_type": "markdown",
   "metadata": {},
   "source": [
    "If you want to use the complex graph representation from the Kinodata-3D publication use"
   ]
  },
  {
   "cell_type": "code",
   "execution_count": null,
   "metadata": {},
   "outputs": [],
   "source": [
    "dataset = KinodataDocked(\n",
    "    transform=T.TransformToComplexGraph(remove_heterogeneous_representation=True)\n",
    ")"
   ]
  },
  {
   "cell_type": "code",
   "execution_count": null,
   "metadata": {},
   "outputs": [
    {
     "name": "stdout",
     "output_type": "stream",
     "text": [
      "Node types: pocket_residue, complex\n",
      "Edge types: ('complex', 'bond', 'complex')\n",
      "Number of complex heavy atoms: 665\n"
     ]
    }
   ],
   "source": [
    "data = dataset[42]\n",
    "\n",
    "node_types, edge_types = data.metadata()\n",
    "print(f\"Node types: {', '.join([nt for nt in node_types])}\")\n",
    "print(f\"Edge types: {', '.join([str(et) for et in edge_types])}\")\n",
    "print(f\"Number of complex heavy atoms: {data['complex'].x.size(0)}\")"
   ]
  },
  {
   "cell_type": "code",
   "execution_count": null,
   "metadata": {},
   "outputs": [],
   "source": [
    "# this could take a while, expect ~60 seconds\n",
    "data_module = make_data_module(\n",
    "   split=demo_split,\n",
    "   batch_size=32,\n",
    "   dataset_cls=KinodataDocked,\n",
    "   num_workers=0,\n",
    "   train_kwargs=dict(\n",
    "       transform=T.TransformToComplexGraph(),\n",
    "   ),\n",
    ")"
   ]
  },
  {
   "cell_type": "code",
   "execution_count": null,
   "metadata": {},
   "outputs": [],
   "source": [
    "demo_batch = next(iter(data_module.train_dataloader()))"
   ]
  },
  {
   "cell_type": "markdown",
   "metadata": {},
   "source": [
    "### Relative structural information\n",
    "\n",
    "Note that the structural information is encoded as absolute 3D coordinates in the above data sets.\n",
    "\n",
    "Our transformer adds distance-based edges on the fly, which is implemented in a separated PyTorch `nn.Module`."
   ]
  },
  {
   "cell_type": "code",
   "execution_count": null,
   "metadata": {},
   "outputs": [],
   "source": [
    "from kinodata.model.complex_transformer import StructuralInteractions"
   ]
  },
  {
   "cell_type": "code",
   "execution_count": null,
   "metadata": {},
   "outputs": [],
   "source": [
    "interaction_module = StructuralInteractions(\n",
    "    32,\n",
    "    interaction_radius=5.0,\n",
    "    max_num_neighbors=16,\n",
    "    rbf_size=32\n",
    ")"
   ]
  },
  {
   "cell_type": "code",
   "execution_count": null,
   "metadata": {},
   "outputs": [
    {
     "ename": "AttributeError",
     "evalue": "'HeteroDataBatch' has no attribute 'batch'",
     "output_type": "error",
     "traceback": [
      "\u001b[0;31m---------------------------------------------------------------------------\u001b[0m",
      "\u001b[0;31mAttributeError\u001b[0m                            Traceback (most recent call last)",
      "Cell \u001b[0;32mIn[44], line 5\u001b[0m\n\u001b[1;32m      2\u001b[0m edge_index, _, distances \u001b[38;5;241m=\u001b[39m interaction_module\u001b[38;5;241m.\u001b[39minteractions(demo_batch)\n\u001b[1;32m      4\u001b[0m fig \u001b[38;5;241m=\u001b[39m sns\u001b[38;5;241m.\u001b[39mdisplot(x\u001b[38;5;241m=\u001b[39mdistances\u001b[38;5;241m.\u001b[39mnumpy(), kde\u001b[38;5;241m=\u001b[39m\u001b[38;5;28;01mTrue\u001b[39;00m, rug\u001b[38;5;241m=\u001b[39m\u001b[38;5;28;01mTrue\u001b[39;00m)\n\u001b[0;32m----> 5\u001b[0m fig\u001b[38;5;241m.\u001b[39maxes[\u001b[38;5;241m0\u001b[39m,\u001b[38;5;241m0\u001b[39m]\u001b[38;5;241m.\u001b[39mset_title(\u001b[38;5;124mf\u001b[39m\u001b[38;5;124m\"\u001b[39m\u001b[38;5;124mBatch size \u001b[39m\u001b[38;5;132;01m{\u001b[39;00m\u001b[43mdemo_batch\u001b[49m\u001b[38;5;241;43m.\u001b[39;49m\u001b[43mbatch\u001b[49m\u001b[38;5;241m.\u001b[39mmax()\u001b[38;5;241m.\u001b[39mitem()\u001b[38;5;250m \u001b[39m\u001b[38;5;241m+\u001b[39m\u001b[38;5;250m \u001b[39m\u001b[38;5;241m1\u001b[39m\u001b[38;5;132;01m}\u001b[39;00m\u001b[38;5;124m\"\u001b[39m)\n\u001b[1;32m      6\u001b[0m _ \u001b[38;5;241m=\u001b[39m fig\u001b[38;5;241m.\u001b[39maxes[\u001b[38;5;241m0\u001b[39m,\u001b[38;5;241m0\u001b[39m]\u001b[38;5;241m.\u001b[39mset_xlabel(\u001b[38;5;124m\"\u001b[39m\u001b[38;5;124mDistance (angstrom)\u001b[39m\u001b[38;5;124m\"\u001b[39m)\n",
      "File \u001b[0;32m~/mambaforge/envs/kinodata/lib/python3.10/site-packages/torch_geometric/data/hetero_data.py:138\u001b[0m, in \u001b[0;36mHeteroData.__getattr__\u001b[0;34m(self, key)\u001b[0m\n\u001b[1;32m    136\u001b[0m \u001b[39melif\u001b[39;00m \u001b[39mbool\u001b[39m(re\u001b[39m.\u001b[39msearch(\u001b[39m'\u001b[39m\u001b[39m_dict$\u001b[39m\u001b[39m'\u001b[39m, key)):\n\u001b[1;32m    137\u001b[0m     \u001b[39mreturn\u001b[39;00m \u001b[39mself\u001b[39m\u001b[39m.\u001b[39mcollect(key[:\u001b[39m-\u001b[39m\u001b[39m5\u001b[39m])\n\u001b[0;32m--> 138\u001b[0m \u001b[39mraise\u001b[39;00m \u001b[39mAttributeError\u001b[39;00m(\u001b[39mf\u001b[39m\u001b[39m\"\u001b[39m\u001b[39m'\u001b[39m\u001b[39m{\u001b[39;00m\u001b[39mself\u001b[39m\u001b[39m.\u001b[39m\u001b[39m__class__\u001b[39m\u001b[39m.\u001b[39m\u001b[39m__name__\u001b[39m\u001b[39m}\u001b[39;00m\u001b[39m'\u001b[39m\u001b[39m has no \u001b[39m\u001b[39m\"\u001b[39m\n\u001b[1;32m    139\u001b[0m                      \u001b[39mf\u001b[39m\u001b[39m\"\u001b[39m\u001b[39mattribute \u001b[39m\u001b[39m'\u001b[39m\u001b[39m{\u001b[39;00mkey\u001b[39m}\u001b[39;00m\u001b[39m'\u001b[39m\u001b[39m\"\u001b[39m)\n",
      "\u001b[0;31mAttributeError\u001b[0m: 'HeteroDataBatch' has no attribute 'batch'"
     ]
    },
    {
     "data": {
      "image/png": "[encoded data removed]",
      "text/plain": [
       "<Figure size 500x500 with 1 Axes>"
      ]
     },
     "metadata": {},
     "output_type": "display_data"
    }
   ],
   "source": [
    "import seaborn as sns\n",
    "edge_index, _, distances = interaction_module.interactions(demo_batch)\n",
    "\n",
    "fig = sns.displot(x=distances.numpy(), kde=True, rug=True)\n",
    "fig.axes[0,0].set_title(f\"Batch size {demo_batch.batch.max().item() + 1}\")\n",
    "_ = fig.axes[0,0].set_xlabel(\"Distance (angstrom)\")"
   ]
  },
  {
   "cell_type": "markdown",
   "metadata": {},
   "source": [
    "### Adding proximity-based edges and distances to other representations"
   ]
  },
  {
   "cell_type": "markdown",
   "metadata": {},
   "source": [
    "We also "
   ]
  }
 ],
 "metadata": {
  "kernelspec": {
   "display_name": "Python 3.10.8 ('kinodata')",
   "language": "python",
   "name": "python3"
  },
  "language_info": {
   "codemirror_mode": {
    "name": "ipython",
    "version": 3
   },
   "file_extension": ".py",
   "mimetype": "text/x-python",
   "name": "python",
   "nbconvert_exporter": "python",
   "pygments_lexer": "ipython3",
   "version": "3.10.8"
  },
  "orig_nbformat": 4,
  "vscode": {
   "interpreter": {
    "hash": "528a87b2665604848835e963d9b59f6a2ef408edd78da891397a1684bf62ca9e"
   }
  }
 },
 "nbformat": 4,
 "nbformat_minor": 2
}
