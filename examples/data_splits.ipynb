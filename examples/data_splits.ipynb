{
 "cells": [
  {
   "cell_type": "markdown",
   "metadata": {},
   "source": [
    "## Kinodata-3D data splits and filtering\n"
   ]
  },
  {
   "cell_type": "markdown",
   "metadata": {},
   "source": [
    "### RMSD estimates and filtering\n",
    "The Kinodata-3D dataset can be associated with a confidence model that estimates the\n",
    "quality of docked poses in terms of their docking RMSD.\n",
    "\n",
    "More information regarding the RMSD prediction model and training data is found [here](add_repo_link).\n",
    "The raw data already encodes the precomputed RMSD estimates."
   ]
  },
  {
   "cell_type": "code",
   "execution_count": 1,
   "metadata": {},
   "outputs": [
    {
     "name": "stderr",
     "output_type": "stream",
     "text": [
      "/Users/joschka/mambaforge/envs/kinodata/lib/python3.10/site-packages/tqdm/auto.py:22: TqdmWarning: IProgress not found. Please update jupyter and ipywidgets. See https://ipywidgets.readthedocs.io/en/stable/user_install.html\n",
      "  from .autonotebook import tqdm as notebook_tqdm\n"
     ]
    }
   ],
   "source": [
    "from kinodata.data.dataset import KinodataDocked\n",
    "\n",
    "dataset = KinodataDocked()"
   ]
  },
  {
   "cell_type": "code",
   "execution_count": 2,
   "metadata": {},
   "outputs": [
    {
     "data": {
      "text/plain": [
       "<AxesSubplot: ylabel='Count'>"
      ]
     },
     "execution_count": 2,
     "metadata": {},
     "output_type": "execute_result"
    },
    {
     "data": {
      "image/png": "[encoded data removed]",
      "text/plain": [
       "<Figure size 640x480 with 1 Axes>"
      ]
     },
     "metadata": {},
     "output_type": "display_data"
    }
   ],
   "source": [
    "import seaborn as sns\n",
    "\n",
    "sns.histplot(\n",
    "    x=dataset.data.predicted_rmsd.numpy(),\n",
    "    bins=50\n",
    ")"
   ]
  },
  {
   "cell_type": "markdown",
   "metadata": {},
   "source": [
    "### Pre-computed splits and preprocessed dataset\n",
    "The splits used in [the Kinodata-3D publication](add_paper_link) can be downloaded here and\n",
    "guaranteed to be compatible with [this preprocessed version of the dataset](add_download_link_to_pth).\n",
    "\n",
    "The following code snippet briefly demonstrates how to recreate the data modules we used to train the published models."
   ]
  },
  {
   "cell_type": "code",
   "execution_count": 7,
   "metadata": {},
   "outputs": [],
   "source": [
    "from kinodata.data.data_module import make_kinodata_module\n",
    "import kinodata.configuration as config\n",
    "\n",
    "data_config = config.get(\n",
    "    \"data\",\n",
    "    \"training\"\n",
    ")"
   ]
  },
  {
   "cell_type": "markdown",
   "metadata": {},
   "source": [
    "The relevant configuration options are\n",
    "- `filter_rmsd_max_value`, type `float`\n",
    "- `split_type`, one of `\"random-k-fold\"`, `\"scaffold-k-fold\"` or `\"pocket-k-fold\"`\n",
    "- `k_fold`, type `int`, number of folds\n",
    "- `index`, type `int`, determines train/test assignment of folds"
   ]
  },
  {
   "cell_type": "markdown",
   "metadata": {},
   "source": [
    "You can set them by hand, or adapt the configuration based on [these files](add_yaml_configurations_for_all_experiments)."
   ]
  },
  {
   "cell_type": "code",
   "execution_count": 9,
   "metadata": {},
   "outputs": [],
   "source": [
    "data_config[\"filter_rmsd_max_value\"] = 2\n",
    "data_config[\"split_type\"] = \"scaffold-k-fold\"\n",
    "data_config[\"k_fold\"] = 5\n",
    "data_config[\"index\"] = 0"
   ]
  },
  {
   "cell_type": "code",
   "execution_count": 10,
   "metadata": {},
   "outputs": [
    {
     "name": "stdout",
     "output_type": "stream",
     "text": [
      "Creating data module:\n",
      "    split:Split[int](train=19364, val=2420, test=2421, source=/Users/joschka/projects/kinodata-docked-rescore/data/processed/filter_predicted_rmsd_le2.00/scaffold-k-fold/1:5.csv)\n",
      "    train_transform:Compose([\n",
      "  PerturbAtomPositions(ligand, 0.10),\n",
      "  PerturbAtomPositions(pocket, 0.10),\n",
      "  PerturbAtomPositions(complex, 0.10),\n",
      "  AddDistancesAndInteractions(defaultdict(<function AddDistancesAndInteractions.__init__.<locals>.<lambda> at 0x15b1e8c10>, {('ligand', 'ligand'): 6.0, ('ligand', 'pocket'): 6.0, ('pocket', 'ligand'): 6.0}))\n",
      "])\n",
      "    val_transform:Compose([\n",
      "  AddDistancesAndInteractions(defaultdict(<function AddDistancesAndInteractions.__init__.<locals>.<lambda> at 0x15b1e8c10>, {('ligand', 'ligand'): 6.0, ('ligand', 'pocket'): 6.0, ('pocket', 'ligand'): 6.0}))\n",
      "])\n"
     ]
    }
   ],
   "source": [
    "data_module = make_kinodata_module(data_config)"
   ]
  }
 ],
 "metadata": {
  "kernelspec": {
   "display_name": "Python 3.10.8 ('kinodata')",
   "language": "python",
   "name": "python3"
  },
  "language_info": {
   "codemirror_mode": {
    "name": "ipython",
    "version": 3
   },
   "file_extension": ".py",
   "mimetype": "text/x-python",
   "name": "python",
   "nbconvert_exporter": "python",
   "pygments_lexer": "ipython3",
   "version": "3.10.8"
  },
  "orig_nbformat": 4,
  "vscode": {
   "interpreter": {
    "hash": "528a87b2665604848835e963d9b59f6a2ef408edd78da891397a1684bf62ca9e"
   }
  }
 },
 "nbformat": 4,
 "nbformat_minor": 2
}
