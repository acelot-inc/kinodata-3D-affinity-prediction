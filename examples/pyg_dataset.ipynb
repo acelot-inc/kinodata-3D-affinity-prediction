{
 "cells": [
  {
   "cell_type": "code",
   "execution_count": 1,
   "metadata": {},
   "outputs": [
    {
     "name": "stderr",
     "output_type": "stream",
     "text": [
      "/Users/joschka/mambaforge/envs/kinodata/lib/python3.10/site-packages/tqdm/auto.py:22: TqdmWarning: IProgress not found. Please update jupyter and ipywidgets. See https://ipywidgets.readthedocs.io/en/stable/user_install.html\n",
      "  from .autonotebook import tqdm as notebook_tqdm\n"
     ]
    }
   ],
   "source": [
    "from kinodata.data.dataset import KinodataDocked"
   ]
  },
  {
   "cell_type": "markdown",
   "metadata": {},
   "source": [
    "## Create the dataset\n",
    "Creating the dataset for the first time will trigger the [main data processing](https://github.com/volkamerlab/kinodata-3D-affinity-prediction/blob/b6f795d82b612629ae07e96c8f497a9a73b8d778/kinodata/data/dataset.py#L270),\n",
    "the result of which is cached."
   ]
  },
  {
   "cell_type": "code",
   "execution_count": 2,
   "metadata": {},
   "outputs": [
    {
     "data": {
      "text/plain": [
       "KinodataDocked(104836)"
      ]
     },
     "execution_count": 2,
     "metadata": {},
     "output_type": "execute_result"
    }
   ],
   "source": [
    "dataset = KinodataDocked()\n",
    "dataset"
   ]
  },
  {
   "cell_type": "markdown",
   "metadata": {},
   "source": [
    "## Data representation and data loading\n",
    "Docked complexes are stored/represented as [heterogenous graph data](https://pytorch-geometric.readthedocs.io/en/latest/generated/torch_geometric.data.HeteroData.html?highlight=heterodata) objects."
   ]
  },
  {
   "cell_type": "code",
   "execution_count": 3,
   "metadata": {},
   "outputs": [
    {
     "name": "stdout",
     "output_type": "stream",
     "text": [
      "Node types: ligand, pocket, pocket_residue\n",
      "Edge types: ('ligand', 'bond', 'ligand'), ('pocket', 'bond', 'pocket')\n",
      "Number of ligand heavy atoms: 13\n",
      "Number of pocket heavy atoms: 652\n"
     ]
    }
   ],
   "source": [
    "data = dataset[42]\n",
    "\n",
    "node_types, edge_types = data.metadata()\n",
    "print(f\"Node types: {', '.join([nt for nt in node_types])}\")\n",
    "print(f\"Edge types: {', '.join([str(et) for et in edge_types])}\")\n",
    "print(f\"Number of ligand heavy atoms: {data['ligand'].x.size(0)}\")\n",
    "print(f\"Number of pocket heavy atoms: {data['pocket'].x.size(0)}\")"
   ]
  },
  {
   "cell_type": "markdown",
   "metadata": {},
   "source": [
    "Typically you'll want to load split the data into train, test (and validation) sets"
   ]
  },
  {
   "cell_type": "code",
   "execution_count": 19,
   "metadata": {},
   "outputs": [],
   "source": [
    "from kinodata.data.data_module import make_data_module\n",
    "from kinodata.data.grouped_split import KinodataKFoldSplit"
   ]
  },
  {
   "cell_type": "code",
   "execution_count": 24,
   "metadata": {},
   "outputs": [],
   "source": [
    "demo_split = KinodataKFoldSplit(\"random-k-fold\", k=5).split(dataset)[0]"
   ]
  },
  {
   "cell_type": "code",
   "execution_count": 29,
   "metadata": {},
   "outputs": [],
   "source": [
    "# this could take a while, expect ~60 seconds\n",
    "data_module = make_data_module(\n",
    "   split=demo_split,\n",
    "   batch_size=32,\n",
    "   dataset_cls=KinodataDocked,\n",
    "   num_workers=0,\n",
    "   train_kwargs=dict(),\n",
    ")"
   ]
  },
  {
   "cell_type": "code",
   "execution_count": 32,
   "metadata": {},
   "outputs": [
    {
     "data": {
      "text/plain": [
       "HeteroDataBatch(\n",
       "  kissim_fp=[32, 85, 12],\n",
       "  y=[32],\n",
       "  docking_score=[32],\n",
       "  posit_prob=[32],\n",
       "  predicted_rmsd=[32],\n",
       "  pocket_sequence=[32],\n",
       "  scaffold=[32],\n",
       "  activity_type=[32],\n",
       "  ident=[32],\n",
       "  smiles=[32],\n",
       "  \u001b[1mligand\u001b[0m={\n",
       "    z=[1019],\n",
       "    x=[1019, 12],\n",
       "    pos=[1019, 3],\n",
       "    batch=[1019],\n",
       "    ptr=[33]\n",
       "  },\n",
       "  \u001b[1mpocket\u001b[0m={\n",
       "    z=[21026],\n",
       "    x=[21026, 12],\n",
       "    pos=[21026, 3],\n",
       "    batch=[21026],\n",
       "    ptr=[33]\n",
       "  },\n",
       "  \u001b[1mpocket_residue\u001b[0m={\n",
       "    x=[2720, 23],\n",
       "    batch=[2720],\n",
       "    ptr=[33]\n",
       "  },\n",
       "  \u001b[1m(ligand, bond, ligand)\u001b[0m={\n",
       "    edge_index=[2, 2260],\n",
       "    edge_attr=[2260, 4]\n",
       "  },\n",
       "  \u001b[1m(pocket, bond, pocket)\u001b[0m={\n",
       "    edge_index=[2, 42376],\n",
       "    edge_attr=[42376, 4]\n",
       "  }\n",
       ")"
      ]
     },
     "execution_count": 32,
     "metadata": {},
     "output_type": "execute_result"
    }
   ],
   "source": [
    "batch = next(iter(data_module.train_dataloader()))\n",
    "batch"
   ]
  },
  {
   "cell_type": "markdown",
   "metadata": {},
   "source": [
    "## Make absolute structural information relative"
   ]
  },
  {
   "cell_type": "markdown",
   "metadata": {},
   "source": [
    "### Complex graph representation"
   ]
  },
  {
   "cell_type": "code",
   "execution_count": 33,
   "metadata": {},
   "outputs": [],
   "source": [
    "import kinodata.transform as T"
   ]
  },
  {
   "cell_type": "markdown",
   "metadata": {},
   "source": [
    "If you want to use the complex graph representation from our publication use"
   ]
  },
  {
   "cell_type": "code",
   "execution_count": 10,
   "metadata": {},
   "outputs": [],
   "source": [
    "dataset = KinodataDocked(\n",
    "    transform=T.TransformToComplexGraph(remove_heterogeneous_representation=True)\n",
    ")"
   ]
  },
  {
   "cell_type": "code",
   "execution_count": 15,
   "metadata": {},
   "outputs": [
    {
     "name": "stdout",
     "output_type": "stream",
     "text": [
      "Node types: pocket_residue, complex\n",
      "Edge types: ('complex', 'bond', 'complex')\n",
      "Number of complex heavy atoms: 665\n"
     ]
    }
   ],
   "source": [
    "data = dataset[42]\n",
    "\n",
    "node_types, edge_types = data.metadata()\n",
    "print(f\"Node types: {', '.join([nt for nt in node_types])}\")\n",
    "print(f\"Edge types: {', '.join([str(et) for et in edge_types])}\")\n",
    "print(f\"Number of complex heavy atoms: {data['complex'].x.size(0)}\")"
   ]
  },
  {
   "cell_type": "code",
   "execution_count": 34,
   "metadata": {},
   "outputs": [],
   "source": [
    "# this could take a while, expect ~60 seconds\n",
    "data_module = make_data_module(\n",
    "   split=demo_split,\n",
    "   batch_size=32,\n",
    "   dataset_cls=KinodataDocked,\n",
    "   num_workers=0,\n",
    "   train_kwargs=dict(\n",
    "       transform=T.TransformToComplexGraph(),\n",
    "   ),\n",
    ")"
   ]
  },
  {
   "cell_type": "code",
   "execution_count": 43,
   "metadata": {},
   "outputs": [
    {
     "data": {
      "text/plain": [
       "tensor([[ 8.9015, 14.1521, 51.9454],\n",
       "        [ 7.9257, 13.2832, 51.2874],\n",
       "        [ 7.6748, 13.6848, 49.8207],\n",
       "        ...,\n",
       "        [-2.4295, 25.8731, 30.9331],\n",
       "        [-2.9853, 23.7691, 30.9705],\n",
       "        [-2.3645, 24.7632, 32.7969]])"
      ]
     },
     "execution_count": 43,
     "metadata": {},
     "output_type": "execute_result"
    }
   ],
   "source": [
    "demo_batch = next(iter(data_module.train_dataloader()))"
   ]
  },
  {
   "cell_type": "markdown",
   "metadata": {},
   "source": [
    "Our transformer adds edges on the fly using a dedicated torch module."
   ]
  },
  {
   "cell_type": "code",
   "execution_count": 37,
   "metadata": {},
   "outputs": [],
   "source": [
    "from kinodata.model.complex_transformer import StructuralInteractions"
   ]
  },
  {
   "cell_type": "code",
   "execution_count": 39,
   "metadata": {},
   "outputs": [],
   "source": [
    "interaction_module = StructuralInteractions(\n",
    "    32,\n",
    "    interaction_radius=5.0,\n",
    "    max_num_neighbors=16,\n",
    "    rbf_size=32\n",
    ")"
   ]
  },
  {
   "cell_type": "code",
   "execution_count": 45,
   "metadata": {},
   "outputs": [],
   "source": [
    "edge_index, _, distances = interaction_module.interactions(demo_batch)"
   ]
  },
  {
   "cell_type": "markdown",
   "metadata": {},
   "source": [
    "### Adding proximity-based edges and distances to other representations"
   ]
  },
  {
   "cell_type": "code",
   "execution_count": null,
   "metadata": {},
   "outputs": [],
   "source": [
    "..."
   ]
  }
 ],
 "metadata": {
  "kernelspec": {
   "display_name": "Python 3.10.8 ('kinodata')",
   "language": "python",
   "name": "python3"
  },
  "language_info": {
   "codemirror_mode": {
    "name": "ipython",
    "version": 3
   },
   "file_extension": ".py",
   "mimetype": "text/x-python",
   "name": "python",
   "nbconvert_exporter": "python",
   "pygments_lexer": "ipython3",
   "version": "3.10.8"
  },
  "orig_nbformat": 4,
  "vscode": {
   "interpreter": {
    "hash": "528a87b2665604848835e963d9b59f6a2ef408edd78da891397a1684bf62ca9e"
   }
  }
 },
 "nbformat": 4,
 "nbformat_minor": 2
}
