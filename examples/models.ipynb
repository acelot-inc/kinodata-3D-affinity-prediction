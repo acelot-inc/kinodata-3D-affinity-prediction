{
 "cells": [
  {
   "cell_type": "markdown",
   "metadata": {},
   "source": [
    "## Validating pre-trained models\n",
    "This code demonstrates how to load our trained models and one way of doing using them for inference.\n",
    "It requires that you downloaded and extracted the [pretrained models and the corresponding preprocessed version of kinodata-3D](https://zenodo.org/records/10410594)\n",
    "in the root directory of this repository."
   ]
  },
  {
   "cell_type": "code",
   "execution_count": 1,
   "metadata": {},
   "outputs": [
    {
     "name": "stderr",
     "output_type": "stream",
     "text": [
      "/Users/joschka/mambaforge/envs/kinodata/lib/python3.10/site-packages/tqdm/auto.py:22: TqdmWarning: IProgress not found. Please update jupyter and ipywidgets. See https://ipywidgets.readthedocs.io/en/stable/user_install.html\n",
      "  from .autonotebook import tqdm as notebook_tqdm\n"
     ]
    }
   ],
   "source": [
    "import json\n",
    "from pathlib import Path\n",
    "from typing import Any\n",
    "\n",
    "import torch\n",
    "\n",
    "import kinodata.configuration as cfg\n",
    "from kinodata.model import ComplexTransformer, DTIModel, RegressionModel\n",
    "from kinodata.model.complex_transformer import make_model as make_complex_transformer\n",
    "from kinodata.model.dti import make_model as make_dti_baseline\n",
    "from kinodata.data.data_module import make_kinodata_module\n",
    "from kinodata.transform import TransformToComplexGraph"
   ]
  },
  {
   "cell_type": "code",
   "execution_count": 2,
   "metadata": {},
   "outputs": [
    {
     "name": "stdout",
     "output_type": "stream",
     "text": [
      "W&B disabled.\n"
     ]
    }
   ],
   "source": [
    "!wandb disabled"
   ]
  },
  {
   "cell_type": "markdown",
   "metadata": {},
   "source": [
    "Demo boilerplate code for loading model checkpoints, reuses parts of our training/evaluation code."
   ]
  },
  {
   "cell_type": "code",
   "execution_count": 3,
   "metadata": {},
   "outputs": [],
   "source": [
    "model_dir = Path(\"..\") / \"models\"\n",
    "assert model_dir.exists()\n",
    "\n",
    "def path_to_model(rmsd_threshold: int, split_type: str, split_fold: int, model_type: str) -> Path:\n",
    "    p = model_dir / f\"rmsd_cutoff_{rmsd_threshold}\" / split_type / str(split_fold) / model_type\n",
    "    if not p.exists():\n",
    "        p.mkdir(parents=True)\n",
    "    return p\n",
    "model_cls = {\n",
    "    \"DTI\": make_dti_baseline,\n",
    "    \"CGNN\": make_complex_transformer,\n",
    "    \"CGNN-3D\": make_complex_transformer\n",
    "}\n",
    "\n",
    "def load_wandb_config(\n",
    "    config_file: Path\n",
    ") -> dict[str, Any]:\n",
    "    with open(config_file, \"r\") as f_config:\n",
    "        config = json.load(f_config)\n",
    "    config = {str(key): value[\"value\"] for key, value in config.items()}\n",
    "    return config\n",
    "\n",
    "def load_from_checkpoint(\n",
    "    rmsd_threshold: int,\n",
    "    split_type: str,\n",
    "    fold: int,\n",
    "    model_type: str\n",
    ") -> RegressionModel:\n",
    "    cls = model_cls[model_type]\n",
    "    p = path_to_model(rmsd_threshold, split_type, fold, model_type)\n",
    "    ckp = torch.load(p / \"model.ckpt\", map_location=\"cpu\")\n",
    "    config = cfg.Config(load_wandb_config(p / \"config.json\"))\n",
    "    model = cls(config)\n",
    "    assert isinstance(model, RegressionModel)\n",
    "    model.load_state_dict(ckp[\"state_dict\"])\n",
    "    return model"
   ]
  },
  {
   "cell_type": "markdown",
   "metadata": {},
   "source": [
    "Load model checkpoints for *scaffold-split* data subject to predicted RMSD $\\leq 4\\text{Å}$, where the $0$-th fold is used as test set."
   ]
  },
  {
   "cell_type": "code",
   "execution_count": 4,
   "metadata": {},
   "outputs": [
    {
     "name": "stderr",
     "output_type": "stream",
     "text": [
      "Failed to detect the name of this notebook, you can set it manually with the WANDB_NOTEBOOK_NAME environment variable to enable code saving.\n"
     ]
    }
   ],
   "source": [
    "cgnn = load_from_checkpoint(4, \"scaffold-k-fold\", 0, \"CGNN\")\n",
    "cgnn_3d = load_from_checkpoint(4, \"scaffold-k-fold\", 0, \"CGNN-3D\") \n",
    "dti = load_from_checkpoint(4, \"scaffold-k-fold\", 0, \"DTI\")"
   ]
  },
  {
   "cell_type": "markdown",
   "metadata": {},
   "source": [
    "Create the matching data module"
   ]
  },
  {
   "cell_type": "code",
   "execution_count": 5,
   "metadata": {},
   "outputs": [
    {
     "name": "stdout",
     "output_type": "stream",
     "text": [
      "Creating data module:\n",
      "    split:Split[int](train=34784, val=4348, test=4349, source=/Users/joschka/projects/kinodata-docked-rescore/data/processed/filter_predicted_rmsd_le4.00/scaffold-k-fold/1:5.csv)\n",
      "    train_transform:Compose([\n",
      "  TransformToComplexGraph()\n",
      "])\n",
      "    val_transform:Compose([\n",
      "  TransformToComplexGraph()\n",
      "])\n"
     ]
    }
   ],
   "source": [
    "data_module = make_kinodata_module(\n",
    "    cfg.get(\"data\", \"training\").update(\n",
    "        dict(\n",
    "            batch_size=32,\n",
    "            split_type=\"scaffold-k-fold\",\n",
    "            filter_rmsd_max_value=4.0,\n",
    "            split_index=0,\n",
    "        )\n",
    "    ),\n",
    "    transforms=[TransformToComplexGraph(remove_heterogeneous_representation=False)],\n",
    ")"
   ]
  },
  {
   "cell_type": "markdown",
   "metadata": {},
   "source": [
    "Fast way of demonstrating inference on just one test batch:"
   ]
  },
  {
   "cell_type": "code",
   "execution_count": 6,
   "metadata": {},
   "outputs": [
    {
     "name": "stderr",
     "output_type": "stream",
     "text": [
      "/Users/joschka/mambaforge/envs/kinodata/lib/python3.10/site-packages/pytorch_lightning/core/module.py:377: UserWarning: You are trying to `self.log()` but the `self.trainer` reference is not registered on the model yet. This is most likely because the model hasn't been passed to the `Trainer`\n",
      "  rank_zero_warn(\n"
     ]
    },
    {
     "data": {
      "text/plain": [
       "{'DTI sample test MAE': tensor(0.9323),\n",
       " 'CGNN sample test MAE': tensor(0.9237),\n",
       " 'CGNN-3D sample test MAE': tensor(0.9096)}"
      ]
     },
     "execution_count": 6,
     "metadata": {},
     "output_type": "execute_result"
    }
   ],
   "source": [
    "demo_test_batch = next(iter(data_module.test_dataloader()))\n",
    "with torch.no_grad():\n",
    "    mae_sample = {\n",
    "        \"DTI sample test MAE\": dti.test_step(demo_test_batch)[\"test/mae\"],\n",
    "        \"CGNN sample test MAE\": cgnn.test_step(demo_test_batch)[\"test/mae\"],\n",
    "        \"CGNN-3D sample test MAE\": cgnn_3d.test_step(demo_test_batch)[\"test/mae\"],\n",
    "    }\n",
    "mae_sample"
   ]
  },
  {
   "cell_type": "markdown",
   "metadata": {},
   "source": [
    "Test all three models using all test data in the current data module"
   ]
  },
  {
   "cell_type": "code",
   "execution_count": 11,
   "metadata": {},
   "outputs": [],
   "source": [
    "from pytorch_lightning import Trainer"
   ]
  },
  {
   "cell_type": "code",
   "execution_count": 8,
   "metadata": {},
   "outputs": [
    {
     "name": "stderr",
     "output_type": "stream",
     "text": [
      "GPU available: False, used: False\n",
      "TPU available: False, using: 0 TPU cores\n",
      "IPU available: False, using: 0 IPUs\n",
      "HPU available: False, using: 0 HPUs\n",
      "/Users/joschka/mambaforge/envs/kinodata/lib/python3.10/site-packages/pytorch_lightning/trainer/connectors/data_connector.py:224: PossibleUserWarning: The dataloader, test_dataloader 0, does not have many workers which may be a bottleneck. Consider increasing the value of the `num_workers` argument` (try 16 which is the number of cpus on this machine) in the `DataLoader` init to improve performance.\n",
      "  rank_zero_warn(\n"
     ]
    },
    {
     "name": "stdout",
     "output_type": "stream",
     "text": [
      "Testing DataLoader 0: 100%|██████████| 136/136 [00:08<00:00, 16.55it/s]\n",
      "────────────────────────────────────────────────────────────────────────────────────────────────────────────────────────\n",
      "       Test metric             DataLoader 0\n",
      "────────────────────────────────────────────────────────────────────────────────────────────────────────────────────────\n",
      "        test/corr           0.5125585198402405\n",
      "        test/mae            0.8224371671676636\n",
      "────────────────────────────────────────────────────────────────────────────────────────────────────────────────────────\n",
      "Testing DataLoader 0: 100%|██████████| 136/136 [02:07<00:00,  1.07it/s]\n",
      "────────────────────────────────────────────────────────────────────────────────────────────────────────────────────────\n",
      "       Test metric             DataLoader 0\n",
      "────────────────────────────────────────────────────────────────────────────────────────────────────────────────────────\n",
      "        test/corr           0.4546387493610382\n",
      "        test/mae            0.8519962430000305\n",
      "────────────────────────────────────────────────────────────────────────────────────────────────────────────────────────\n",
      "Testing DataLoader 0: 100%|██████████| 136/136 [14:13<00:00,  6.28s/it]\n",
      "────────────────────────────────────────────────────────────────────────────────────────────────────────────────────────\n",
      "       Test metric             DataLoader 0\n",
      "────────────────────────────────────────────────────────────────────────────────────────────────────────────────────────\n",
      "        test/corr            0.632169246673584\n",
      "        test/mae            0.7448561787605286\n",
      "────────────────────────────────────────────────────────────────────────────────────────────────────────────────────────\n"
     ]
    }
   ],
   "source": [
    "trainer = Trainer(logger=False)\n",
    "dti_metrics = trainer.test(model=dti, datamodule=data_module, ckpt_path=None)\n",
    "cgnn_metrics = trainer.test(model=cgnn, datamodule=data_module, ckpt_path=None)\n",
    "cgnn_3d_metrics = trainer.test(model=cgnn_3d, datamodule=data_module, ckpt_path=None)"
   ]
  },
  {
   "cell_type": "markdown",
   "metadata": {},
   "source": [
    "Display results"
   ]
  },
  {
   "cell_type": "code",
   "execution_count": 10,
   "metadata": {},
   "outputs": [
    {
     "data": {
      "text/plain": [
       "{'DTI': [{'test/mae': 0.8224371671676636, 'test/corr': 0.5125585198402405}],\n",
       " 'CGNN': [{'test/mae': 0.8519962430000305, 'test/corr': 0.4546387493610382}],\n",
       " 'CGNN-3D': [{'test/mae': 0.7448561787605286, 'test/corr': 0.632169246673584}]}"
      ]
     },
     "execution_count": 10,
     "metadata": {},
     "output_type": "execute_result"
    }
   ],
   "source": [
    "{\n",
    "    \"DTI\": dti_metrics, \n",
    "    \"CGNN\": cgnn_metrics, \n",
    "    \"CGNN-3D\": cgnn_3d_metrics\n",
    "}"
   ]
  }
 ],
 "metadata": {
  "kernelspec": {
   "display_name": "Python 3.10.8 ('kinodata')",
   "language": "python",
   "name": "python3"
  },
  "language_info": {
   "codemirror_mode": {
    "name": "ipython",
    "version": 3
   },
   "file_extension": ".py",
   "mimetype": "text/x-python",
   "name": "python",
   "nbconvert_exporter": "python",
   "pygments_lexer": "ipython3",
   "version": "3.10.8"
  },
  "orig_nbformat": 4,
  "vscode": {
   "interpreter": {
    "hash": "528a87b2665604848835e963d9b59f6a2ef408edd78da891397a1684bf62ca9e"
   }
  }
 },
 "nbformat": 4,
 "nbformat_minor": 2
}
